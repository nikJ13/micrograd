{
  "nbformat": 4,
  "nbformat_minor": 0,
  "metadata": {
    "colab": {
      "provenance": [],
      "authorship_tag": "ABX9TyOowvObUrQhP2v9Sra0fe51",
      "include_colab_link": true
    },
    "kernelspec": {
      "name": "python3",
      "display_name": "Python 3"
    },
    "language_info": {
      "name": "python"
    }
  },
  "cells": [
    {
      "cell_type": "markdown",
      "metadata": {
        "id": "view-in-github",
        "colab_type": "text"
      },
      "source": [
        "<a href=\"https://colab.research.google.com/github/nikJ13/micrograd/blob/main/Micrograd.ipynb\" target=\"_parent\"><img src=\"https://colab.research.google.com/assets/colab-badge.svg\" alt=\"Open In Colab\"/></a>"
      ]
    },
    {
      "cell_type": "code",
      "execution_count": null,
      "metadata": {
        "id": "PwCsuGbvtU18"
      },
      "outputs": [],
      "source": [
        "import math\n",
        "import numpy as np\n",
        "import matplotlib.pyplot as plt\n",
        "import random\n",
        "%matplotlib inline"
      ]
    },
    {
      "cell_type": "code",
      "source": [
        "def g(x):\n",
        "    return 3*x**2 - 4*x + 5"
      ],
      "metadata": {
        "id": "kzsI-seVte0H"
      },
      "execution_count": null,
      "outputs": []
    },
    {
      "cell_type": "code",
      "source": [
        "g(4.0)"
      ],
      "metadata": {
        "colab": {
          "base_uri": "https://localhost:8080/"
        },
        "id": "EFSnR4vttmkz",
        "outputId": "3ab30216-8509-47e7-986b-6c367d519613"
      },
      "execution_count": null,
      "outputs": [
        {
          "output_type": "execute_result",
          "data": {
            "text/plain": [
              "37.0"
            ]
          },
          "metadata": {},
          "execution_count": 3
        }
      ]
    },
    {
      "cell_type": "code",
      "source": [
        "xs = np.arange(-5,5,0.25)\n",
        "ys = g(xs)\n",
        "plt.plot(xs,ys)"
      ],
      "metadata": {
        "colab": {
          "base_uri": "https://localhost:8080/",
          "height": 447
        },
        "id": "GQVaihDOtoSY",
        "outputId": "f237a70f-c503-40c9-ec01-e1c612dc41d1"
      },
      "execution_count": null,
      "outputs": [
        {
          "output_type": "execute_result",
          "data": {
            "text/plain": [
              "[<matplotlib.lines.Line2D at 0x7ca940342ec0>]"
            ]
          },
          "metadata": {},
          "execution_count": 4
        },
        {
          "output_type": "display_data",
          "data": {
            "text/plain": [
              "<Figure size 640x480 with 1 Axes>"
            ],
            "image/png": "[encoded data removed]"
          },
          "metadata": {}
        }
      ]
    },
    {
      "cell_type": "code",
      "source": [
        "h = 0.00001\n",
        "x = -3\n",
        "(g(x+h) - g(x))/h"
      ],
      "metadata": {
        "colab": {
          "base_uri": "https://localhost:8080/"
        },
        "id": "Hq8ghwdbt060",
        "outputId": "63242921-3d6d-4e9f-dc68-1e53d7fe0a58"
      },
      "execution_count": null,
      "outputs": [
        {
          "output_type": "execute_result",
          "data": {
            "text/plain": [
              "-21.999970000052823"
            ]
          },
          "metadata": {},
          "execution_count": 5
        }
      ]
    },
    {
      "cell_type": "code",
      "source": [
        "class Value:\n",
        "\n",
        "  def __init__(self,data, _children = (), _op = '', label = ''):\n",
        "    self.data = data\n",
        "    self._prev = set(_children)\n",
        "    self._op = _op\n",
        "    self.label = label\n",
        "    self.grad = 0.0\n",
        "    self._backward = lambda : None\n",
        "\n",
        "  def __repr__(self):\n",
        "    return f\"Value(data = {self.data})\"\n",
        "\n",
        "  def __add__(self,other):\n",
        "    other = other if isinstance(other,Value) else Value(other)  # suppose the other operand is an integer instead of a Value obj, then this line checks for it and wraps it within the Value obj\n",
        "    output_val = Value(self.data + other.data, (self,other), \"+\")\n",
        "\n",
        "    def _backward():\n",
        "      #print('Im in add')\n",
        "      self.grad += output_val.grad * 1  # here += is used because there are cases where the same nodes are used to perform different operations. Thus, during back propagation, different gradients are calculated for different outputs\n",
        "      other.grad += output_val.grad * 1 # for the same two nodes. Hence, we do += so that all the gradients calculated for difference outputs from the two nodes are added instead.\n",
        "\n",
        "    output_val._backward = _backward # pass by reference\n",
        "    return output_val\n",
        "\n",
        "  def __mul__(self,other):\n",
        "    other = other if isinstance(other,Value) else Value(other)\n",
        "    output_val = Value(self.data * other.data, (self,other), \"*\")\n",
        "\n",
        "    def _backward():\n",
        "      #print('Im in mul')\n",
        "      self.grad += output_val.grad * other.data\n",
        "      other.grad += output_val.grad * self.data\n",
        "\n",
        "    output_val._backward = _backward # pass by reference\n",
        "    return output_val\n",
        "\n",
        "  def __pow__(self,other):\n",
        "    assert isinstance(other,(int,float) ), \"only supporting int/float powers for now\" # here, the power is forced to be an integer or a float\n",
        "    output_val = Value(self.data**other,(self,),f'**{other}')\n",
        "\n",
        "    def _backward():\n",
        "      #print('Im in pow')\n",
        "      self.grad += output_val.grad * (other * self.data**(other-1))\n",
        "\n",
        "    output_val._backward = _backward\n",
        "    return output_val\n",
        "\n",
        "\n",
        "  def __rmul__(self,other): # for integer * Value obj\n",
        "    return self * other     # this calls the __mul__ method, where the other (which is the integer) is defined as a Value obj\n",
        "\n",
        "  def __truediv__(self,other): # for self / other\n",
        "    return self * other**-1\n",
        "\n",
        "  def __neg__(self): # for -self\n",
        "    return self * -1\n",
        "\n",
        "  def __sub__(self,other): # for self - other\n",
        "    return self + (-other)\n",
        "\n",
        "  def __radd__(self,other): # for integer + Value obj\n",
        "    return self + other     # this calls the __add__ method, where the other (which is the integer) is defined as a Value obj\n",
        "\n",
        "  def tanh(self):\n",
        "    x = self.data\n",
        "    t = (math.exp(2*x) - 1)/(math.exp(2*x) + 1)\n",
        "    output_val = Value(t, (self, ), 'tanh')\n",
        "\n",
        "    def _backward():\n",
        "      #print('Im in tanh')\n",
        "      self.grad = (1-t**2) * output_val.grad\n",
        "\n",
        "    output_val._backward = _backward # pass by reference; so the backward function of the current node is being pointed by the next node\n",
        "\n",
        "    return output_val\n",
        "\n",
        "  def exp(self):\n",
        "    x = self.data\n",
        "    output_val = Value(math.exp(x), (self, ), 'exp')\n",
        "\n",
        "    def _backward():\n",
        "      #print('Im in exp')\n",
        "      self.grad += output_val.grad * output_val.data\n",
        "\n",
        "    output_val._backward = _backward # pass by reference; so the backward function of the current node is being pointed by the next node\n",
        "\n",
        "    return output_val\n",
        "\n",
        "  def backward(self):\n",
        "\n",
        "    # performing topological sort so that back propagation works in the order of the nodes placed\n",
        "    topo = []\n",
        "    visit = set()\n",
        "    def build_topo(node):\n",
        "      if node not in visit:\n",
        "        visit.add(node)\n",
        "        for child in node._prev:\n",
        "          build_topo(child)\n",
        "        topo.append(node)\n",
        "\n",
        "    build_topo(self)\n",
        "    self.grad = 1\n",
        "    for node in reversed(topo):\n",
        "      node._backward()"
      ],
      "metadata": {
        "id": "PF_Gopawulma"
      },
      "execution_count": null,
      "outputs": []
    },
    {
      "cell_type": "code",
      "source": [
        "a = Value(2,label = \"a\") #input val\n",
        "b = Value(-3, label = \"b\") #input val\n",
        "c = Value(10, label = \"c\") #input val\n",
        "a + b # executes a.__add__(b)\n",
        "a*b # executes a.__mul__(b)"
      ],
      "metadata": {
        "id": "vc-VxX6_-Xva"
      },
      "execution_count": null,
      "outputs": []
    },
    {
      "cell_type": "markdown",
      "source": [
        "Here, backpropagation works in the following manner: When control is on a node, then it calls the backward function of its immediate previous nodes. That ways when the control shifts to the immediate previous nodes, then the gradients of those nodes would already be calculated, thus calling the backward function of those that are previous to them also, thereby implementing backpropagation."
      ],
      "metadata": {
        "id": "6bbuReR4WZgO"
      }
    },
    {
      "cell_type": "code",
      "source": [
        "q = Value(9)\n",
        "p = Value(3)\n",
        "q + p\n",
        "q*p + p*q\n",
        "1 + p"
      ],
      "metadata": {
        "colab": {
          "base_uri": "https://localhost:8080/"
        },
        "id": "sKMFLqiwxE_g",
        "outputId": "d218dffa-96b6-400b-8140-d17c65015ada"
      },
      "execution_count": null,
      "outputs": [
        {
          "output_type": "execute_result",
          "data": {
            "text/plain": [
              "Value(data = 4)"
            ]
          },
          "metadata": {},
          "execution_count": 7
        }
      ]
    },
    {
      "cell_type": "code",
      "source": [
        "e = a*b\n",
        "e.label = \"e\"\n",
        "d = e + c\n",
        "d.label = \"d\"\n",
        "d\n",
        "f = Value(-2,label=\"f\") #input val\n",
        "L = d*f; L.label = \"L\"\n",
        "L"
      ],
      "metadata": {
        "colab": {
          "base_uri": "https://localhost:8080/"
        },
        "id": "nzxaLbBVyV1U",
        "outputId": "f047e579-e9ff-49d5-96ad-a82e815159ee"
      },
      "execution_count": null,
      "outputs": [
        {
          "output_type": "execute_result",
          "data": {
            "text/plain": [
              "Value(data = -8)"
            ]
          },
          "metadata": {},
          "execution_count": 8
        }
      ]
    },
    {
      "cell_type": "code",
      "source": [
        "d._prev"
      ],
      "metadata": {
        "colab": {
          "base_uri": "https://localhost:8080/"
        },
        "id": "zko2eCZ05BOk",
        "outputId": "4bec6c62-3806-4b5c-f693-a327aa76c5e3"
      },
      "execution_count": null,
      "outputs": [
        {
          "output_type": "execute_result",
          "data": {
            "text/plain": [
              "{Value(data = -6), Value(data = 10)}"
            ]
          },
          "metadata": {},
          "execution_count": 9
        }
      ]
    },
    {
      "cell_type": "code",
      "source": [
        "d._op #prints the mathematical expression that gives the value for d"
      ],
      "metadata": {
        "colab": {
          "base_uri": "https://localhost:8080/",
          "height": 36
        },
        "id": "FWFD1q8g7KaW",
        "outputId": "38e58534-e239-4c98-dcaf-db5f2f550caa"
      },
      "execution_count": null,
      "outputs": [
        {
          "output_type": "execute_result",
          "data": {
            "text/plain": [
              "'+'"
            ],
            "application/vnd.google.colaboratory.intrinsic+json": {
              "type": "string"
            }
          },
          "metadata": {},
          "execution_count": 10
        }
      ]
    },
    {
      "cell_type": "code",
      "source": [
        "d.label"
      ],
      "metadata": {
        "colab": {
          "base_uri": "https://localhost:8080/",
          "height": 36
        },
        "id": "5ZVdlTZoC_8_",
        "outputId": "c1423b18-202c-4bb9-ae7b-0c77088f3e63"
      },
      "execution_count": null,
      "outputs": [
        {
          "output_type": "execute_result",
          "data": {
            "text/plain": [
              "'d'"
            ],
            "application/vnd.google.colaboratory.intrinsic+json": {
              "type": "string"
            }
          },
          "metadata": {},
          "execution_count": 11
        }
      ]
    },
    {
      "cell_type": "code",
      "source": [
        "from graphviz import Digraph\n",
        "\n",
        "def trace(root):\n",
        "  # builds a set of all nodes and edges in a graph\n",
        "  nodes, edges = set(), set()\n",
        "  def build(v):\n",
        "    if v not in nodes:\n",
        "      nodes.add(v)\n",
        "      for child in v._prev:\n",
        "        edges.add((child,v))\n",
        "        build(child)\n",
        "  build(root)\n",
        "  return nodes, edges\n",
        "\n",
        "def draw_dot(root):\n",
        "  dot = Digraph(format = 'svg', graph_attr={'rankdir': 'LR'}) # LR = left to right\n",
        "\n",
        "  nodes, edges = trace(root)\n",
        "  for n in nodes:\n",
        "    uid = str(id(n))\n",
        "    # for any value in the graph, create a rectangular ('record') node for it\n",
        "    dot.node(name = uid, label = \"{ %s | data %.4f | grad %.4f}\" % (n.label, n.data, n.grad), shape = 'record')\n",
        "    if n._op:\n",
        "      # if this value is a result of some operation, create an operation node for it\n",
        "      dot.node(name = uid + n._op, label = n._op)\n",
        "      # connect the op node to the value node\n",
        "      dot.edge(uid+n._op, uid)\n",
        "\n",
        "  for n1,n2 in edges:\n",
        "    # connect n1 to the op node of n2\n",
        "    dot.edge(str(id(n1)),str(id(n2))+n2._op)\n",
        "\n",
        "  return dot\n"
      ],
      "metadata": {
        "id": "JoJmakeN89bi"
      },
      "execution_count": null,
      "outputs": []
    },
    {
      "cell_type": "code",
      "source": [
        "draw_dot(L)"
      ],
      "metadata": {
        "colab": {
          "base_uri": "https://localhost:8080/",
          "height": 247
        },
        "id": "gCQT19VNFneh",
        "outputId": "22595445-1e91-4d4f-f225-50f72c56bf70"
      },
      "execution_count": null,
      "outputs": [
        {
          "output_type": "execute_result",
          "data": {
            "image/svg+xml": "<?xml version=\"1.0\" encoding=\"UTF-8\" standalone=\"no\"?>\n<!DOCTYPE svg PUBLIC \"-//W3C//DTD SVG 1.1//EN\"\n \"http://www.w3.org/Graphics/SVG/1.1/DTD/svg11.dtd\">\n<!-- Generated by graphviz version 2.43.0 (0)\n -->\n<!-- Title: %3 Pages: 1 -->\n<svg width=\"1148pt\" height=\"154pt\"\n viewBox=\"0.00 0.00 1148.00 154.00\" xmlns=\"http://www.w3.org/2000/svg\" xmlns:xlink=\"http://www.w3.org/1999/xlink\">\n<g id=\"graph0\" class=\"graph\" transform=\"scale(1 1) rotate(0) translate(4 150)\">\n<title>%3</title>\n<polygon fill=\"white\" stroke=\"transparent\" points=\"-4,4 -4,-150 1144,-150 1144,4 -4,4\"/>\n<!-- 137467610134080 -->\n<g id=\"node1\" class=\"node\">\n<title>137467610134080</title>\n<polygon fill=\"none\" stroke=\"black\" points=\"635.5,-54.5 635.5,-90.5 820.5,-90.5 820.5,-54.5 635.5,-54.5\"/>\n<text text-anchor=\"middle\" x=\"647\" y=\"-68.8\" font-family=\"Times,serif\" font-size=\"14.00\">d</text>\n<polyline fill=\"none\" stroke=\"black\" points=\"658.5,-54.5 658.5,-90.5 \"/>\n<text text-anchor=\"middle\" x=\"698.5\" y=\"-68.8\" font-family=\"Times,serif\" font-size=\"14.00\">data 4.0000</text>\n<polyline fill=\"none\" stroke=\"black\" points=\"738.5,-54.5 738.5,-90.5 \"/>\n<text text-anchor=\"middle\" x=\"779.5\" y=\"-68.8\" font-family=\"Times,serif\" font-size=\"14.00\">grad 0.0000</text>\n</g>\n<!-- 137467610133408* -->\n<g id=\"node9\" class=\"node\">\n<title>137467610133408*</title>\n<ellipse fill=\"none\" stroke=\"black\" cx=\"885\" cy=\"-99.5\" rx=\"27\" ry=\"18\"/>\n<text text-anchor=\"middle\" x=\"885\" y=\"-95.8\" font-family=\"Times,serif\" font-size=\"14.00\">*</text>\n</g>\n<!-- 137467610134080&#45;&gt;137467610133408* -->\n<g id=\"edge4\" class=\"edge\">\n<title>137467610134080&#45;&gt;137467610133408*</title>\n<path fill=\"none\" stroke=\"black\" d=\"M820.51,-88.44C830.48,-90.18 840.13,-91.86 848.77,-93.36\"/>\n<polygon fill=\"black\" stroke=\"black\" points=\"848.31,-96.84 858.77,-95.1 849.52,-89.94 848.31,-96.84\"/>\n</g>\n<!-- 137467610134080+ -->\n<g id=\"node2\" class=\"node\">\n<title>137467610134080+</title>\n<ellipse fill=\"none\" stroke=\"black\" cx=\"571\" cy=\"-72.5\" rx=\"27\" ry=\"18\"/>\n<text text-anchor=\"middle\" x=\"571\" y=\"-68.8\" font-family=\"Times,serif\" font-size=\"14.00\">+</text>\n</g>\n<!-- 137467610134080+&#45;&gt;137467610134080 -->\n<g id=\"edge1\" class=\"edge\">\n<title>137467610134080+&#45;&gt;137467610134080</title>\n<path fill=\"none\" stroke=\"black\" d=\"M598.29,-72.5C606.26,-72.5 615.54,-72.5 625.39,-72.5\"/>\n<polygon fill=\"black\" stroke=\"black\" points=\"625.41,-76 635.41,-72.5 625.41,-69 625.41,-76\"/>\n</g>\n<!-- 137467610135184 -->\n<g id=\"node3\" class=\"node\">\n<title>137467610135184</title>\n<polygon fill=\"none\" stroke=\"black\" points=\"634,-109.5 634,-145.5 822,-145.5 822,-109.5 634,-109.5\"/>\n<text text-anchor=\"middle\" x=\"644.5\" y=\"-123.8\" font-family=\"Times,serif\" font-size=\"14.00\">f</text>\n<polyline fill=\"none\" stroke=\"black\" points=\"655,-109.5 655,-145.5 \"/>\n<text text-anchor=\"middle\" x=\"697.5\" y=\"-123.8\" font-family=\"Times,serif\" font-size=\"14.00\">data &#45;2.0000</text>\n<polyline fill=\"none\" stroke=\"black\" points=\"740,-109.5 740,-145.5 \"/>\n<text text-anchor=\"middle\" x=\"781\" y=\"-123.8\" font-family=\"Times,serif\" font-size=\"14.00\">grad 0.0000</text>\n</g>\n<!-- 137467610135184&#45;&gt;137467610133408* -->\n<g id=\"edge9\" class=\"edge\">\n<title>137467610135184&#45;&gt;137467610133408*</title>\n<path fill=\"none\" stroke=\"black\" d=\"M822.29,-110.65C831.57,-108.97 840.52,-107.35 848.61,-105.89\"/>\n<polygon fill=\"black\" stroke=\"black\" points=\"849.46,-109.3 858.68,-104.07 848.21,-102.41 849.46,-109.3\"/>\n</g>\n<!-- 137467665863856 -->\n<g id=\"node4\" class=\"node\">\n<title>137467665863856</title>\n<polygon fill=\"none\" stroke=\"black\" points=\"316,-82.5 316,-118.5 508,-118.5 508,-82.5 316,-82.5\"/>\n<text text-anchor=\"middle\" x=\"327.5\" y=\"-96.8\" font-family=\"Times,serif\" font-size=\"14.00\">c</text>\n<polyline fill=\"none\" stroke=\"black\" points=\"339,-82.5 339,-118.5 \"/>\n<text text-anchor=\"middle\" x=\"382.5\" y=\"-96.8\" font-family=\"Times,serif\" font-size=\"14.00\">data 10.0000</text>\n<polyline fill=\"none\" stroke=\"black\" points=\"426,-82.5 426,-118.5 \"/>\n<text text-anchor=\"middle\" x=\"467\" y=\"-96.8\" font-family=\"Times,serif\" font-size=\"14.00\">grad 0.0000</text>\n</g>\n<!-- 137467665863856&#45;&gt;137467610134080+ -->\n<g id=\"edge8\" class=\"edge\">\n<title>137467665863856&#45;&gt;137467610134080+</title>\n<path fill=\"none\" stroke=\"black\" d=\"M508.4,-83.49C517.69,-81.83 526.64,-80.23 534.71,-78.79\"/>\n<polygon fill=\"black\" stroke=\"black\" points=\"535.53,-82.2 544.76,-77 534.31,-75.31 535.53,-82.2\"/>\n</g>\n<!-- 137467665870000 -->\n<g id=\"node5\" class=\"node\">\n<title>137467665870000</title>\n<polygon fill=\"none\" stroke=\"black\" points=\"2.5,-55.5 2.5,-91.5 187.5,-91.5 187.5,-55.5 2.5,-55.5\"/>\n<text text-anchor=\"middle\" x=\"14\" y=\"-69.8\" font-family=\"Times,serif\" font-size=\"14.00\">a</text>\n<polyline fill=\"none\" stroke=\"black\" points=\"25.5,-55.5 25.5,-91.5 \"/>\n<text text-anchor=\"middle\" x=\"65.5\" y=\"-69.8\" font-family=\"Times,serif\" font-size=\"14.00\">data 2.0000</text>\n<polyline fill=\"none\" stroke=\"black\" points=\"105.5,-55.5 105.5,-91.5 \"/>\n<text text-anchor=\"middle\" x=\"146.5\" y=\"-69.8\" font-family=\"Times,serif\" font-size=\"14.00\">grad 0.0000</text>\n</g>\n<!-- 137467610134368* -->\n<g id=\"node7\" class=\"node\">\n<title>137467610134368*</title>\n<ellipse fill=\"none\" stroke=\"black\" cx=\"253\" cy=\"-45.5\" rx=\"27\" ry=\"18\"/>\n<text text-anchor=\"middle\" x=\"253\" y=\"-41.8\" font-family=\"Times,serif\" font-size=\"14.00\">*</text>\n</g>\n<!-- 137467665870000&#45;&gt;137467610134368* -->\n<g id=\"edge7\" class=\"edge\">\n<title>137467665870000&#45;&gt;137467610134368*</title>\n<path fill=\"none\" stroke=\"black\" d=\"M187.65,-57.05C197.94,-55.2 207.91,-53.41 216.81,-51.82\"/>\n<polygon fill=\"black\" stroke=\"black\" points=\"217.48,-55.25 226.71,-50.04 216.25,-48.36 217.48,-55.25\"/>\n</g>\n<!-- 137467610134368 -->\n<g id=\"node6\" class=\"node\">\n<title>137467610134368</title>\n<polygon fill=\"none\" stroke=\"black\" points=\"317,-27.5 317,-63.5 507,-63.5 507,-27.5 317,-27.5\"/>\n<text text-anchor=\"middle\" x=\"328.5\" y=\"-41.8\" font-family=\"Times,serif\" font-size=\"14.00\">e</text>\n<polyline fill=\"none\" stroke=\"black\" points=\"340,-27.5 340,-63.5 \"/>\n<text text-anchor=\"middle\" x=\"382.5\" y=\"-41.8\" font-family=\"Times,serif\" font-size=\"14.00\">data &#45;6.0000</text>\n<polyline fill=\"none\" stroke=\"black\" points=\"425,-27.5 425,-63.5 \"/>\n<text text-anchor=\"middle\" x=\"466\" y=\"-41.8\" font-family=\"Times,serif\" font-size=\"14.00\">grad 0.0000</text>\n</g>\n<!-- 137467610134368&#45;&gt;137467610134080+ -->\n<g id=\"edge5\" class=\"edge\">\n<title>137467610134368&#45;&gt;137467610134080+</title>\n<path fill=\"none\" stroke=\"black\" d=\"M507.05,-61.67C516.78,-63.35 526.18,-64.96 534.62,-66.42\"/>\n<polygon fill=\"black\" stroke=\"black\" points=\"534.3,-69.91 544.75,-68.16 535.49,-63.01 534.3,-69.91\"/>\n</g>\n<!-- 137467610134368*&#45;&gt;137467610134368 -->\n<g id=\"edge2\" class=\"edge\">\n<title>137467610134368*&#45;&gt;137467610134368</title>\n<path fill=\"none\" stroke=\"black\" d=\"M280.28,-45.5C288.05,-45.5 297.08,-45.5 306.68,-45.5\"/>\n<polygon fill=\"black\" stroke=\"black\" points=\"306.88,-49 316.88,-45.5 306.88,-42 306.88,-49\"/>\n</g>\n<!-- 137467610133408 -->\n<g id=\"node8\" class=\"node\">\n<title>137467610133408</title>\n<polygon fill=\"none\" stroke=\"black\" points=\"948,-81.5 948,-117.5 1140,-117.5 1140,-81.5 948,-81.5\"/>\n<text text-anchor=\"middle\" x=\"960.5\" y=\"-95.8\" font-family=\"Times,serif\" font-size=\"14.00\">L</text>\n<polyline fill=\"none\" stroke=\"black\" points=\"973,-81.5 973,-117.5 \"/>\n<text text-anchor=\"middle\" x=\"1015.5\" y=\"-95.8\" font-family=\"Times,serif\" font-size=\"14.00\">data &#45;8.0000</text>\n<polyline fill=\"none\" stroke=\"black\" points=\"1058,-81.5 1058,-117.5 \"/>\n<text text-anchor=\"middle\" x=\"1099\" y=\"-95.8\" font-family=\"Times,serif\" font-size=\"14.00\">grad 0.0000</text>\n</g>\n<!-- 137467610133408*&#45;&gt;137467610133408 -->\n<g id=\"edge3\" class=\"edge\">\n<title>137467610133408*&#45;&gt;137467610133408</title>\n<path fill=\"none\" stroke=\"black\" d=\"M912.28,-99.5C919.78,-99.5 928.44,-99.5 937.67,-99.5\"/>\n<polygon fill=\"black\" stroke=\"black\" points=\"937.87,-103 947.87,-99.5 937.87,-96 937.87,-103\"/>\n</g>\n<!-- 137467665866688 -->\n<g id=\"node10\" class=\"node\">\n<title>137467665866688</title>\n<polygon fill=\"none\" stroke=\"black\" points=\"0,-0.5 0,-36.5 190,-36.5 190,-0.5 0,-0.5\"/>\n<text text-anchor=\"middle\" x=\"11.5\" y=\"-14.8\" font-family=\"Times,serif\" font-size=\"14.00\">b</text>\n<polyline fill=\"none\" stroke=\"black\" points=\"23,-0.5 23,-36.5 \"/>\n<text text-anchor=\"middle\" x=\"65.5\" y=\"-14.8\" font-family=\"Times,serif\" font-size=\"14.00\">data &#45;3.0000</text>\n<polyline fill=\"none\" stroke=\"black\" points=\"108,-0.5 108,-36.5 \"/>\n<text text-anchor=\"middle\" x=\"149\" y=\"-14.8\" font-family=\"Times,serif\" font-size=\"14.00\">grad 0.0000</text>\n</g>\n<!-- 137467665866688&#45;&gt;137467610134368* -->\n<g id=\"edge6\" class=\"edge\">\n<title>137467665866688&#45;&gt;137467610134368*</title>\n<path fill=\"none\" stroke=\"black\" d=\"M190.34,-34.83C199.62,-36.44 208.58,-37.99 216.66,-39.38\"/>\n<polygon fill=\"black\" stroke=\"black\" points=\"216.27,-42.87 226.72,-41.12 217.46,-35.97 216.27,-42.87\"/>\n</g>\n</g>\n</svg>\n",
            "text/plain": [
              "<graphviz.graphs.Digraph at 0x7d06ac1643a0>"
            ]
          },
          "metadata": {},
          "execution_count": 13
        }
      ]
    },
    {
      "cell_type": "code",
      "source": [
        "'''The above example is an implementation of a function taking multiple inputs, with the expression as F (function) = a*b + c. Here, we are calculating a loss function L in the end as L = F*f = (a*b +c)*f. This can be visualised\n",
        "as a small scale simulation of a NN, where a,b,c and f are the inputs, which act as the weights of the NN (if you ignore the arithmetic signs). Here, L can be thought of as a Loss Function calculated from the output of the NN, d.\n",
        "\n",
        "So, backpropagation is basically calculating the change in L when there is a change in a,b,c and f. For this, we calculate the derivative of\n",
        "L with respect to a,b,c and f, thereby obtaining the derivatives of L with respect to the weights of the NN. Hence, the weights can accordingly\n",
        "changed to minimise the loss function.'''\n"
      ],
      "metadata": {
        "id": "NaMAa1mQFp8V",
        "colab": {
          "base_uri": "https://localhost:8080/",
          "height": 105
        },
        "outputId": "018b2f88-3062-4a6e-d128-d8b68ba1f182"
      },
      "execution_count": null,
      "outputs": [
        {
          "output_type": "execute_result",
          "data": {
            "text/plain": [
              "'The above example is an implementation of a function taking multiple inputs, with the expression as F (function) = a*b + c. Here, we are calculating a loss function L in the end as L = F*f = (a*b +c)*f. This can be visualised\\nas a small scale simulation of a NN, where a,b,c and f are the inputs, which act as the weights of the NN (if you ignore the arithmetic signs). Here, L can be thought of as a Loss Function calculated from the output of the NN, d.\\n\\nSo, backpropagation is basically calculating the change in L when there is a change in a,b,c and f. For this, we calculate the derivative of\\nL with respect to a,b,c and f, thereby obtaining the derivatives of L with respect to the weights of the NN. Hence, the weights can accordingly\\nchanged to minimise the loss function.'"
            ],
            "application/vnd.google.colaboratory.intrinsic+json": {
              "type": "string"
            }
          },
          "metadata": {},
          "execution_count": 14
        }
      ]
    },
    {
      "cell_type": "code",
      "source": [
        "def lol():\n",
        "\n",
        "  h = 0.00001\n",
        "\n",
        "  a = Value(2,label = \"a\") #input val\n",
        "  b = Value(-3, label = \"b\") #input val\n",
        "  c = Value(10, label = \"c\") #input val\n",
        "  e = a*b; e.label = \"e\"\n",
        "  d = e + c; d.label = \"d\"\n",
        "  f = Value(-2,label=\"f\") #input val\n",
        "  L = d*f; L.label = \"L\"\n",
        "  L1 = L.data\n",
        "\n",
        "  a = Value(2+h,label = \"a\") #input val\n",
        "  b = Value(-3, label = \"b\") #input val\n",
        "  c = Value(10, label = \"c\") #input val\n",
        "  e = a*b; e.label = \"e\"\n",
        "  d = e + c; d.label = \"d\"\n",
        "  f = Value(-2,label=\"f\") #input val\n",
        "  L = d*f; L.label = \"L\"\n",
        "  L2 = L.data\n",
        "\n",
        "  print((L2-L1)/h)"
      ],
      "metadata": {
        "id": "DcJjwYDOKWw7"
      },
      "execution_count": null,
      "outputs": []
    },
    {
      "cell_type": "code",
      "source": [
        "#derivative of L with respect to 'a'\n",
        "lol()"
      ],
      "metadata": {
        "colab": {
          "base_uri": "https://localhost:8080/"
        },
        "id": "A0ymYWNtLwk9",
        "outputId": "f5224657-57c3-4c84-cda2-453d3b168a50"
      },
      "execution_count": null,
      "outputs": [
        {
          "output_type": "stream",
          "name": "stdout",
          "text": [
            "6.000000000128124\n"
          ]
        }
      ]
    },
    {
      "cell_type": "markdown",
      "source": [
        "# Executing backpropagation on a neuron"
      ],
      "metadata": {
        "id": "1-wr4zMgyktg"
      }
    },
    {
      "cell_type": "markdown",
      "source": [
        "Using the backward function integrated in the Value class"
      ],
      "metadata": {
        "id": "PrX7Ey-nOFa8"
      }
    },
    {
      "cell_type": "code",
      "source": [
        "#inputs x1, x2\n",
        "x1 = Value(2.0, label = \"x1\")\n",
        "x2 = Value(0.0, label = \"x2\")\n",
        "\n",
        "#weights w1, w2\n",
        "w1 = Value(-3.0, label = \"w1\")\n",
        "w2 = Value(1.0, label = \"w2\")\n",
        "\n",
        "#bias\n",
        "b = Value(6.8813735870195432, label = \"b\")\n",
        "\n",
        "# x1w1 + x2w2 + b\n",
        "x1w1 = x1*w1;x1w1.label = \"x1w1\"\n",
        "x2w2 = x2*w2;x2w2.label = \"x2w2\"\n",
        "\n",
        "x1w1x2w2 = x1w1 + x2w2;x1w1x2w2.label = \"x1w1 + x2w2\"\n",
        "n = x1w1x2w2 + b; n.label = \"n\"\n",
        "output = n.tanh(); output.label = \"output\"\n",
        "output.backward()"
      ],
      "metadata": {
        "id": "DQRibMzXL40a"
      },
      "execution_count": null,
      "outputs": []
    },
    {
      "cell_type": "code",
      "source": [
        "draw_dot(output)"
      ],
      "metadata": {
        "colab": {
          "base_uri": "https://localhost:8080/",
          "height": 322
        },
        "id": "mtKs-CkHzkp6",
        "outputId": "1001659a-417c-4b44-e95c-7fd5aafdddde"
      },
      "execution_count": null,
      "outputs": [
        {
          "output_type": "execute_result",
          "data": {
            "image/svg+xml": "<?xml version=\"1.0\" encoding=\"UTF-8\" standalone=\"no\"?>\n<!DOCTYPE svg PUBLIC \"-//W3C//DTD SVG 1.1//EN\"\n \"http://www.w3.org/Graphics/SVG/1.1/DTD/svg11.dtd\">\n<!-- Generated by graphviz version 2.43.0 (0)\n -->\n<!-- Title: %3 Pages: 1 -->\n<svg width=\"1583pt\" height=\"210pt\"\n viewBox=\"0.00 0.00 1583.00 210.00\" xmlns=\"http://www.w3.org/2000/svg\" xmlns:xlink=\"http://www.w3.org/1999/xlink\">\n<g id=\"graph0\" class=\"graph\" transform=\"scale(1 1) rotate(0) translate(4 206)\">\n<title>%3</title>\n<polygon fill=\"white\" stroke=\"transparent\" points=\"-4,4 -4,-206 1579,-206 1579,4 -4,4\"/>\n<!-- 137066367955536 -->\n<g id=\"node1\" class=\"node\">\n<title>137066367955536</title>\n<polygon fill=\"none\" stroke=\"black\" points=\"2,-165.5 2,-201.5 198,-201.5 198,-165.5 2,-165.5\"/>\n<text text-anchor=\"middle\" x=\"17\" y=\"-179.8\" font-family=\"Times,serif\" font-size=\"14.00\">x1</text>\n<polyline fill=\"none\" stroke=\"black\" points=\"32,-165.5 32,-201.5 \"/>\n<text text-anchor=\"middle\" x=\"72\" y=\"-179.8\" font-family=\"Times,serif\" font-size=\"14.00\">data 2.0000</text>\n<polyline fill=\"none\" stroke=\"black\" points=\"112,-165.5 112,-201.5 \"/>\n<text text-anchor=\"middle\" x=\"155\" y=\"-179.8\" font-family=\"Times,serif\" font-size=\"14.00\">grad &#45;1.5000</text>\n</g>\n<!-- 137066367948432* -->\n<g id=\"node4\" class=\"node\">\n<title>137066367948432*</title>\n<ellipse fill=\"none\" stroke=\"black\" cx=\"263\" cy=\"-128.5\" rx=\"27\" ry=\"18\"/>\n<text text-anchor=\"middle\" x=\"263\" y=\"-124.8\" font-family=\"Times,serif\" font-size=\"14.00\">*</text>\n</g>\n<!-- 137066367955536&#45;&gt;137066367948432* -->\n<g id=\"edge6\" class=\"edge\">\n<title>137066367955536&#45;&gt;137066367948432*</title>\n<path fill=\"none\" stroke=\"black\" d=\"M172.53,-165.44C181.84,-162.67 191.2,-159.67 200,-156.5 210.53,-152.71 221.75,-147.9 231.72,-143.33\"/>\n<polygon fill=\"black\" stroke=\"black\" points=\"233.25,-146.48 240.82,-139.07 230.28,-140.14 233.25,-146.48\"/>\n</g>\n<!-- 137066367956064 -->\n<g id=\"node2\" class=\"node\">\n<title>137066367956064</title>\n<polygon fill=\"none\" stroke=\"black\" points=\"703,-27.5 703,-63.5 888,-63.5 888,-27.5 703,-27.5\"/>\n<text text-anchor=\"middle\" x=\"714.5\" y=\"-41.8\" font-family=\"Times,serif\" font-size=\"14.00\">b</text>\n<polyline fill=\"none\" stroke=\"black\" points=\"726,-27.5 726,-63.5 \"/>\n<text text-anchor=\"middle\" x=\"766\" y=\"-41.8\" font-family=\"Times,serif\" font-size=\"14.00\">data 6.8814</text>\n<polyline fill=\"none\" stroke=\"black\" points=\"806,-27.5 806,-63.5 \"/>\n<text text-anchor=\"middle\" x=\"847\" y=\"-41.8\" font-family=\"Times,serif\" font-size=\"14.00\">grad 0.5000</text>\n</g>\n<!-- 137066367943584+ -->\n<g id=\"node12\" class=\"node\">\n<title>137066367943584+</title>\n<ellipse fill=\"none\" stroke=\"black\" cx=\"988\" cy=\"-72.5\" rx=\"27\" ry=\"18\"/>\n<text text-anchor=\"middle\" x=\"988\" y=\"-68.8\" font-family=\"Times,serif\" font-size=\"14.00\">+</text>\n</g>\n<!-- 137066367956064&#45;&gt;137066367943584+ -->\n<g id=\"edge13\" class=\"edge\">\n<title>137066367956064&#45;&gt;137066367943584+</title>\n<path fill=\"none\" stroke=\"black\" d=\"M888.12,-58.49C910.59,-61.67 933.33,-64.89 951.33,-67.44\"/>\n<polygon fill=\"black\" stroke=\"black\" points=\"950.95,-70.93 961.34,-68.86 951.93,-63.99 950.95,-70.93\"/>\n</g>\n<!-- 137066367948432 -->\n<g id=\"node3\" class=\"node\">\n<title>137066367948432</title>\n<polygon fill=\"none\" stroke=\"black\" points=\"326,-110.5 326,-146.5 540,-146.5 540,-110.5 326,-110.5\"/>\n<text text-anchor=\"middle\" x=\"349.5\" y=\"-124.8\" font-family=\"Times,serif\" font-size=\"14.00\">x1w1</text>\n<polyline fill=\"none\" stroke=\"black\" points=\"373,-110.5 373,-146.5 \"/>\n<text text-anchor=\"middle\" x=\"415.5\" y=\"-124.8\" font-family=\"Times,serif\" font-size=\"14.00\">data &#45;6.0000</text>\n<polyline fill=\"none\" stroke=\"black\" points=\"458,-110.5 458,-146.5 \"/>\n<text text-anchor=\"middle\" x=\"499\" y=\"-124.8\" font-family=\"Times,serif\" font-size=\"14.00\">grad 0.5000</text>\n</g>\n<!-- 137066367942864+ -->\n<g id=\"node6\" class=\"node\">\n<title>137066367942864+</title>\n<ellipse fill=\"none\" stroke=\"black\" cx=\"603\" cy=\"-100.5\" rx=\"27\" ry=\"18\"/>\n<text text-anchor=\"middle\" x=\"603\" y=\"-96.8\" font-family=\"Times,serif\" font-size=\"14.00\">+</text>\n</g>\n<!-- 137066367948432&#45;&gt;137066367942864+ -->\n<g id=\"edge10\" class=\"edge\">\n<title>137066367948432&#45;&gt;137066367942864+</title>\n<path fill=\"none\" stroke=\"black\" d=\"M540.4,-110.77C549.72,-109.21 558.65,-107.72 566.68,-106.39\"/>\n<polygon fill=\"black\" stroke=\"black\" points=\"567.38,-109.82 576.66,-104.72 566.22,-102.91 567.38,-109.82\"/>\n</g>\n<!-- 137066367948432*&#45;&gt;137066367948432 -->\n<g id=\"edge1\" class=\"edge\">\n<title>137066367948432*&#45;&gt;137066367948432</title>\n<path fill=\"none\" stroke=\"black\" d=\"M290.25,-128.5C297.7,-128.5 306.34,-128.5 315.59,-128.5\"/>\n<polygon fill=\"black\" stroke=\"black\" points=\"315.84,-132 325.84,-128.5 315.84,-125 315.84,-132\"/>\n</g>\n<!-- 137066367942864 -->\n<g id=\"node5\" class=\"node\">\n<title>137066367942864</title>\n<polygon fill=\"none\" stroke=\"black\" points=\"666,-82.5 666,-118.5 925,-118.5 925,-82.5 666,-82.5\"/>\n<text text-anchor=\"middle\" x=\"712\" y=\"-96.8\" font-family=\"Times,serif\" font-size=\"14.00\">x1w1 + x2w2</text>\n<polyline fill=\"none\" stroke=\"black\" points=\"758,-82.5 758,-118.5 \"/>\n<text text-anchor=\"middle\" x=\"800.5\" y=\"-96.8\" font-family=\"Times,serif\" font-size=\"14.00\">data &#45;6.0000</text>\n<polyline fill=\"none\" stroke=\"black\" points=\"843,-82.5 843,-118.5 \"/>\n<text text-anchor=\"middle\" x=\"884\" y=\"-96.8\" font-family=\"Times,serif\" font-size=\"14.00\">grad 0.5000</text>\n</g>\n<!-- 137066367942864&#45;&gt;137066367943584+ -->\n<g id=\"edge11\" class=\"edge\">\n<title>137066367942864&#45;&gt;137066367943584+</title>\n<path fill=\"none\" stroke=\"black\" d=\"M919.03,-82.49C930.7,-80.77 941.77,-79.15 951.46,-77.72\"/>\n<polygon fill=\"black\" stroke=\"black\" points=\"952.01,-81.18 961.4,-76.26 951,-74.25 952.01,-81.18\"/>\n</g>\n<!-- 137066367942864+&#45;&gt;137066367942864 -->\n<g id=\"edge2\" class=\"edge\">\n<title>137066367942864+&#45;&gt;137066367942864</title>\n<path fill=\"none\" stroke=\"black\" d=\"M630.09,-100.5C637.58,-100.5 646.3,-100.5 655.75,-100.5\"/>\n<polygon fill=\"black\" stroke=\"black\" points=\"655.84,-104 665.84,-100.5 655.84,-97 655.84,-104\"/>\n</g>\n<!-- 137066367953616 -->\n<g id=\"node7\" class=\"node\">\n<title>137066367953616</title>\n<polygon fill=\"none\" stroke=\"black\" points=\"2.5,-55.5 2.5,-91.5 197.5,-91.5 197.5,-55.5 2.5,-55.5\"/>\n<text text-anchor=\"middle\" x=\"19\" y=\"-69.8\" font-family=\"Times,serif\" font-size=\"14.00\">w2</text>\n<polyline fill=\"none\" stroke=\"black\" points=\"35.5,-55.5 35.5,-91.5 \"/>\n<text text-anchor=\"middle\" x=\"75.5\" y=\"-69.8\" font-family=\"Times,serif\" font-size=\"14.00\">data 1.0000</text>\n<polyline fill=\"none\" stroke=\"black\" points=\"115.5,-55.5 115.5,-91.5 \"/>\n<text text-anchor=\"middle\" x=\"156.5\" y=\"-69.8\" font-family=\"Times,serif\" font-size=\"14.00\">grad 0.0000</text>\n</g>\n<!-- 137066367957456* -->\n<g id=\"node14\" class=\"node\">\n<title>137066367957456*</title>\n<ellipse fill=\"none\" stroke=\"black\" cx=\"263\" cy=\"-73.5\" rx=\"27\" ry=\"18\"/>\n<text text-anchor=\"middle\" x=\"263\" y=\"-69.8\" font-family=\"Times,serif\" font-size=\"14.00\">*</text>\n</g>\n<!-- 137066367953616&#45;&gt;137066367957456* -->\n<g id=\"edge7\" class=\"edge\">\n<title>137066367953616&#45;&gt;137066367957456*</title>\n<path fill=\"none\" stroke=\"black\" d=\"M197.91,-73.5C207.65,-73.5 217.05,-73.5 225.52,-73.5\"/>\n<polygon fill=\"black\" stroke=\"black\" points=\"225.7,-77 235.7,-73.5 225.7,-70 225.7,-77\"/>\n</g>\n<!-- 137066367955776 -->\n<g id=\"node8\" class=\"node\">\n<title>137066367955776</title>\n<polygon fill=\"none\" stroke=\"black\" points=\"1362,-54.5 1362,-90.5 1575,-90.5 1575,-54.5 1362,-54.5\"/>\n<text text-anchor=\"middle\" x=\"1387.5\" y=\"-68.8\" font-family=\"Times,serif\" font-size=\"14.00\">output</text>\n<polyline fill=\"none\" stroke=\"black\" points=\"1413,-54.5 1413,-90.5 \"/>\n<text text-anchor=\"middle\" x=\"1453\" y=\"-68.8\" font-family=\"Times,serif\" font-size=\"14.00\">data 0.7071</text>\n<polyline fill=\"none\" stroke=\"black\" points=\"1493,-54.5 1493,-90.5 \"/>\n<text text-anchor=\"middle\" x=\"1534\" y=\"-68.8\" font-family=\"Times,serif\" font-size=\"14.00\">grad 1.0000</text>\n</g>\n<!-- 137066367955776tanh -->\n<g id=\"node9\" class=\"node\">\n<title>137066367955776tanh</title>\n<ellipse fill=\"none\" stroke=\"black\" cx=\"1299\" cy=\"-72.5\" rx=\"27\" ry=\"18\"/>\n<text text-anchor=\"middle\" x=\"1299\" y=\"-68.8\" font-family=\"Times,serif\" font-size=\"14.00\">tanh</text>\n</g>\n<!-- 137066367955776tanh&#45;&gt;137066367955776 -->\n<g id=\"edge3\" class=\"edge\">\n<title>137066367955776tanh&#45;&gt;137066367955776</title>\n<path fill=\"none\" stroke=\"black\" d=\"M1326.17,-72.5C1333.6,-72.5 1342.21,-72.5 1351.43,-72.5\"/>\n<polygon fill=\"black\" stroke=\"black\" points=\"1351.66,-76 1361.66,-72.5 1351.66,-69 1351.66,-76\"/>\n</g>\n<!-- 137066368855360 -->\n<g id=\"node10\" class=\"node\">\n<title>137066368855360</title>\n<polygon fill=\"none\" stroke=\"black\" points=\"4,-0.5 4,-36.5 196,-36.5 196,-0.5 4,-0.5\"/>\n<text text-anchor=\"middle\" x=\"19\" y=\"-14.8\" font-family=\"Times,serif\" font-size=\"14.00\">x2</text>\n<polyline fill=\"none\" stroke=\"black\" points=\"34,-0.5 34,-36.5 \"/>\n<text text-anchor=\"middle\" x=\"74\" y=\"-14.8\" font-family=\"Times,serif\" font-size=\"14.00\">data 0.0000</text>\n<polyline fill=\"none\" stroke=\"black\" points=\"114,-0.5 114,-36.5 \"/>\n<text text-anchor=\"middle\" x=\"155\" y=\"-14.8\" font-family=\"Times,serif\" font-size=\"14.00\">grad 0.5000</text>\n</g>\n<!-- 137066368855360&#45;&gt;137066367957456* -->\n<g id=\"edge12\" class=\"edge\">\n<title>137066368855360&#45;&gt;137066367957456*</title>\n<path fill=\"none\" stroke=\"black\" d=\"M169.28,-36.5C179.65,-39.61 190.16,-42.98 200,-46.5 210.28,-50.17 221.28,-54.74 231.11,-59.07\"/>\n<polygon fill=\"black\" stroke=\"black\" points=\"229.93,-62.37 240.48,-63.27 232.79,-55.99 229.93,-62.37\"/>\n</g>\n<!-- 137066367943584 -->\n<g id=\"node11\" class=\"node\">\n<title>137066367943584</title>\n<polygon fill=\"none\" stroke=\"black\" points=\"1051,-54.5 1051,-90.5 1236,-90.5 1236,-54.5 1051,-54.5\"/>\n<text text-anchor=\"middle\" x=\"1062.5\" y=\"-68.8\" font-family=\"Times,serif\" font-size=\"14.00\">n</text>\n<polyline fill=\"none\" stroke=\"black\" points=\"1074,-54.5 1074,-90.5 \"/>\n<text text-anchor=\"middle\" x=\"1114\" y=\"-68.8\" font-family=\"Times,serif\" font-size=\"14.00\">data 0.8814</text>\n<polyline fill=\"none\" stroke=\"black\" points=\"1154,-54.5 1154,-90.5 \"/>\n<text text-anchor=\"middle\" x=\"1195\" y=\"-68.8\" font-family=\"Times,serif\" font-size=\"14.00\">grad 0.5000</text>\n</g>\n<!-- 137066367943584&#45;&gt;137066367955776tanh -->\n<g id=\"edge9\" class=\"edge\">\n<title>137066367943584&#45;&gt;137066367955776tanh</title>\n<path fill=\"none\" stroke=\"black\" d=\"M1236.01,-72.5C1245.01,-72.5 1253.74,-72.5 1261.66,-72.5\"/>\n<polygon fill=\"black\" stroke=\"black\" points=\"1261.91,-76 1271.91,-72.5 1261.91,-69 1261.91,-76\"/>\n</g>\n<!-- 137066367943584+&#45;&gt;137066367943584 -->\n<g id=\"edge4\" class=\"edge\">\n<title>137066367943584+&#45;&gt;137066367943584</title>\n<path fill=\"none\" stroke=\"black\" d=\"M1015.04,-72.5C1022.58,-72.5 1031.3,-72.5 1040.57,-72.5\"/>\n<polygon fill=\"black\" stroke=\"black\" points=\"1040.81,-76 1050.81,-72.5 1040.81,-69 1040.81,-76\"/>\n</g>\n<!-- 137066367957456 -->\n<g id=\"node13\" class=\"node\">\n<title>137066367957456</title>\n<polygon fill=\"none\" stroke=\"black\" points=\"328.5,-55.5 328.5,-91.5 537.5,-91.5 537.5,-55.5 328.5,-55.5\"/>\n<text text-anchor=\"middle\" x=\"352\" y=\"-69.8\" font-family=\"Times,serif\" font-size=\"14.00\">x2w2</text>\n<polyline fill=\"none\" stroke=\"black\" points=\"375.5,-55.5 375.5,-91.5 \"/>\n<text text-anchor=\"middle\" x=\"415.5\" y=\"-69.8\" font-family=\"Times,serif\" font-size=\"14.00\">data 0.0000</text>\n<polyline fill=\"none\" stroke=\"black\" points=\"455.5,-55.5 455.5,-91.5 \"/>\n<text text-anchor=\"middle\" x=\"496.5\" y=\"-69.8\" font-family=\"Times,serif\" font-size=\"14.00\">grad 0.5000</text>\n</g>\n<!-- 137066367957456&#45;&gt;137066367942864+ -->\n<g id=\"edge8\" class=\"edge\">\n<title>137066367957456&#45;&gt;137066367942864+</title>\n<path fill=\"none\" stroke=\"black\" d=\"M537.53,-90.14C547.8,-91.79 557.66,-93.37 566.45,-94.79\"/>\n<polygon fill=\"black\" stroke=\"black\" points=\"566.16,-98.28 576.59,-96.42 567.27,-91.37 566.16,-98.28\"/>\n</g>\n<!-- 137066367957456*&#45;&gt;137066367957456 -->\n<g id=\"edge5\" class=\"edge\">\n<title>137066367957456*&#45;&gt;137066367957456</title>\n<path fill=\"none\" stroke=\"black\" d=\"M290.25,-73.5C298.43,-73.5 308.03,-73.5 318.31,-73.5\"/>\n<polygon fill=\"black\" stroke=\"black\" points=\"318.35,-77 328.35,-73.5 318.35,-70 318.35,-77\"/>\n</g>\n<!-- 137066368479728 -->\n<g id=\"node15\" class=\"node\">\n<title>137066368479728</title>\n<polygon fill=\"none\" stroke=\"black\" points=\"0,-110.5 0,-146.5 200,-146.5 200,-110.5 0,-110.5\"/>\n<text text-anchor=\"middle\" x=\"16.5\" y=\"-124.8\" font-family=\"Times,serif\" font-size=\"14.00\">w1</text>\n<polyline fill=\"none\" stroke=\"black\" points=\"33,-110.5 33,-146.5 \"/>\n<text text-anchor=\"middle\" x=\"75.5\" y=\"-124.8\" font-family=\"Times,serif\" font-size=\"14.00\">data &#45;3.0000</text>\n<polyline fill=\"none\" stroke=\"black\" points=\"118,-110.5 118,-146.5 \"/>\n<text text-anchor=\"middle\" x=\"159\" y=\"-124.8\" font-family=\"Times,serif\" font-size=\"14.00\">grad 1.0000</text>\n</g>\n<!-- 137066368479728&#45;&gt;137066367948432* -->\n<g id=\"edge14\" class=\"edge\">\n<title>137066368479728&#45;&gt;137066367948432*</title>\n<path fill=\"none\" stroke=\"black\" d=\"M200.21,-128.5C209.2,-128.5 217.86,-128.5 225.7,-128.5\"/>\n<polygon fill=\"black\" stroke=\"black\" points=\"225.85,-132 235.85,-128.5 225.85,-125 225.85,-132\"/>\n</g>\n</g>\n</svg>\n",
            "text/plain": [
              "<graphviz.graphs.Digraph at 0x7ca9402c3550>"
            ]
          },
          "metadata": {},
          "execution_count": 13
        }
      ]
    },
    {
      "cell_type": "markdown",
      "source": [
        "### Manually"
      ],
      "metadata": {
        "id": "GQaQdOYlmg5r"
      }
    },
    {
      "cell_type": "code",
      "source": [
        "#d(output)/d(output) = 1\n",
        "output.grad = 1.0"
      ],
      "metadata": {
        "id": "ToJpgn6Lz5zm"
      },
      "execution_count": null,
      "outputs": []
    },
    {
      "cell_type": "code",
      "source": [
        "# output = tanh(n); d(output)/dn = 1 - tanh(n)**2 = 1 - output**2\n",
        "n.grad = 1 - output.data**2"
      ],
      "metadata": {
        "id": "P755luAc0KCa"
      },
      "execution_count": null,
      "outputs": []
    },
    {
      "cell_type": "code",
      "source": [
        "# d(output)/db = d(output)/dn * dn/db = (1-output**2) * 1\n",
        "b.grad = n.grad * 1"
      ],
      "metadata": {
        "id": "aIvtiu4I2lr3"
      },
      "execution_count": null,
      "outputs": []
    },
    {
      "cell_type": "code",
      "source": [
        "# d(output)/d(x1w1 + x2w2) = d(output)/dn * dn/d(x1w1 + x2w2) = (1-output**2) * 1\n",
        "x1w1x2w2.grad = n.grad * 1"
      ],
      "metadata": {
        "id": "M7nZyFLK24ps"
      },
      "execution_count": null,
      "outputs": []
    },
    {
      "cell_type": "code",
      "source": [
        "# d(output)/d(x1w1) = d(output)/d(x1w1 + x2w2) * d(x1w1 + x2w2)/d(x1w1) = (1-output**2) * 1\n",
        "#similar case for x2w2 grad\n",
        "x1w1.grad = x1w1x2w2.grad * 1\n",
        "x2w2.grad = x1w1x2w2.grad * 1"
      ],
      "metadata": {
        "id": "VMQh-Bw13SGi"
      },
      "execution_count": null,
      "outputs": []
    },
    {
      "cell_type": "code",
      "source": [
        "# n = x1w1 + x2w2 + b; d(output)/dw1 = d(output)/dn * dn/dw1 = (1 - output**2) * x1\n",
        "# d(output)/dw2 = d(output)/dn * dn/dw2 = (1-output**2) * x2\n",
        "w1.grad = n.grad * x1.data\n",
        "w2.grad = n.grad * x2.data"
      ],
      "metadata": {
        "id": "clNtsfjj0syP"
      },
      "execution_count": null,
      "outputs": []
    },
    {
      "cell_type": "code",
      "source": [
        "# d(output)/dx1 = d(output)/dn * dn/dx1 = (1-output**2) * w1\n",
        "# d(output)/dx2 = d(output)/dn * dn/dx2 = (1-output**2) * w2\n",
        "x1.grad = n.grad * w1.data\n",
        "x2.grad = n.grad * w2.data"
      ],
      "metadata": {
        "id": "fx856vdc4BOp"
      },
      "execution_count": null,
      "outputs": []
    },
    {
      "cell_type": "markdown",
      "source": [
        "### Using the Value object"
      ],
      "metadata": {
        "id": "-rpupeB9mm7C"
      }
    },
    {
      "cell_type": "code",
      "source": [
        "output.grad = 1"
      ],
      "metadata": {
        "id": "lwylN3LA5GHU"
      },
      "execution_count": null,
      "outputs": []
    },
    {
      "cell_type": "code",
      "source": [
        "# if we execute this\n",
        "output._backward\n",
        "# output below shows the details of the reference pointer to the _backward method"
      ],
      "metadata": {
        "colab": {
          "base_uri": "https://localhost:8080/",
          "height": 103
        },
        "id": "_x6i98ty2bIy",
        "outputId": "21982d3c-7085-450e-fab8-5fbe853c9902"
      },
      "execution_count": null,
      "outputs": [
        {
          "output_type": "execute_result",
          "data": {
            "text/plain": [
              "<function __main__.Value.tanh.<locals>._backward()>"
            ],
            "text/html": [
              "<div style=\"max-width:800px; border: 1px solid var(--colab-border-color);\"><style>\n",
              "      pre.function-repr-contents {\n",
              "        overflow-x: auto;\n",
              "        padding: 8px 12px;\n",
              "        max-height: 500px;\n",
              "      }\n",
              "\n",
              "      pre.function-repr-contents.function-repr-contents-collapsed {\n",
              "        cursor: pointer;\n",
              "        max-height: 100px;\n",
              "      }\n",
              "    </style>\n",
              "    <pre style=\"white-space: initial; background:\n",
              "         var(--colab-secondary-surface-color); padding: 8px 12px;\n",
              "         border-bottom: 1px solid var(--colab-border-color);\"><b>Value.tanh.&lt;locals&gt;._backward</b><br/>def _backward()</pre><pre class=\"function-repr-contents function-repr-contents-collapsed\" style=\"\"><a class=\"filepath\" style=\"display:none\" href=\"#\">/content/&lt;ipython-input-6-345335adeda1&gt;</a>&lt;no docstring&gt;</pre></div>"
            ]
          },
          "metadata": {},
          "execution_count": 15
        }
      ]
    },
    {
      "cell_type": "code",
      "source": [
        "output._backward()\n",
        "# in the Value class, since the _backward is a class attribute, which is a lambda function; hence, this class attribute is executed using the above statement"
      ],
      "metadata": {
        "colab": {
          "base_uri": "https://localhost:8080/"
        },
        "id": "LFTxvyRVmlla",
        "outputId": "c251d412-d7d0-4ec6-f388-59d9a718441c"
      },
      "execution_count": null,
      "outputs": [
        {
          "output_type": "stream",
          "name": "stdout",
          "text": [
            "Im in tanh\n"
          ]
        }
      ]
    },
    {
      "cell_type": "code",
      "source": [
        "n._backward()"
      ],
      "metadata": {
        "colab": {
          "base_uri": "https://localhost:8080/"
        },
        "id": "rlQ52lMonYdT",
        "outputId": "c2b5fb45-2a43-46db-f763-57206b0046bb"
      },
      "execution_count": null,
      "outputs": [
        {
          "output_type": "stream",
          "name": "stdout",
          "text": [
            "Im in add\n"
          ]
        }
      ]
    },
    {
      "cell_type": "code",
      "source": [
        "b._backward # since b has no children at the back, hence, the location of the backward method is within the class initialisation, which in this case is lmabda : None"
      ],
      "metadata": {
        "colab": {
          "base_uri": "https://localhost:8080/"
        },
        "id": "jpNAg4vkred8",
        "outputId": "33580365-94a5-4a99-9f50-e6c58dc1ed67"
      },
      "execution_count": null,
      "outputs": [
        {
          "output_type": "execute_result",
          "data": {
            "text/plain": [
              "<function __main__.Value.__init__.<locals>.<lambda>()>"
            ]
          },
          "metadata": {},
          "execution_count": 18
        }
      ]
    },
    {
      "cell_type": "code",
      "source": [
        "x1w1x2w2._backward()"
      ],
      "metadata": {
        "colab": {
          "base_uri": "https://localhost:8080/"
        },
        "id": "cB7Jg3FQ4Vnt",
        "outputId": "9fdecd3a-e54d-4683-c2d9-c74f3fb1e640"
      },
      "execution_count": null,
      "outputs": [
        {
          "output_type": "stream",
          "name": "stdout",
          "text": [
            "Im in add\n"
          ]
        }
      ]
    },
    {
      "cell_type": "code",
      "source": [
        "x1w1._backward()"
      ],
      "metadata": {
        "colab": {
          "base_uri": "https://localhost:8080/"
        },
        "id": "FphrHxSq4pRK",
        "outputId": "521648f9-3a16-4dfd-86d3-0cde34b7919f"
      },
      "execution_count": null,
      "outputs": [
        {
          "output_type": "stream",
          "name": "stdout",
          "text": [
            "Im in mul\n"
          ]
        }
      ]
    },
    {
      "cell_type": "code",
      "source": [
        "x2w2._backward()"
      ],
      "metadata": {
        "colab": {
          "base_uri": "https://localhost:8080/"
        },
        "id": "XUr9TJPw4z-c",
        "outputId": "6e6aaf7a-4a45-46cd-9ea6-5de0480047ba"
      },
      "execution_count": null,
      "outputs": [
        {
          "output_type": "stream",
          "name": "stdout",
          "text": [
            "Im in mul\n"
          ]
        }
      ]
    },
    {
      "cell_type": "markdown",
      "source": [
        "Using the exponent, division and power functions in the Value class"
      ],
      "metadata": {
        "id": "fjxoq9Asa-rT"
      }
    },
    {
      "cell_type": "code",
      "source": [
        "#inputs x1, x2\n",
        "x1 = Value(2.0, label = \"x1\")\n",
        "x2 = Value(0.0, label = \"x2\")\n",
        "\n",
        "#weights w1, w2\n",
        "w1 = Value(-3.0, label = \"w1\")\n",
        "w2 = Value(1.0, label = \"w2\")\n",
        "\n",
        "#bias\n",
        "b = Value(6.8813735870195432, label = \"b\")\n",
        "\n",
        "# x1w1 + x2w2 + b\n",
        "x1w1 = x1*w1;x1w1.label = \"x1w1\"\n",
        "x2w2 = x2*w2;x2w2.label = \"x2w2\"\n",
        "\n",
        "x1w1x2w2 = x1w1 + x2w2;x1w1x2w2.label = \"x1w1 + x2w2\"\n",
        "n = x1w1x2w2 + b; n.label = \"n\"\n",
        "\n",
        "#----\n",
        "e = (2*n).exp()\n",
        "output = (e-1)/(e+1)\n",
        "output = n.tanh()\n",
        "output.label = \"output\"\n",
        "\n",
        "#----\n",
        "output.backward()\n",
        "draw_dot(output)"
      ],
      "metadata": {
        "colab": {
          "base_uri": "https://localhost:8080/",
          "height": 408
        },
        "id": "qo9r_fusSEYf",
        "outputId": "fd9b99aa-33ed-4966-8198-2779ac938652"
      },
      "execution_count": null,
      "outputs": [
        {
          "output_type": "stream",
          "name": "stdout",
          "text": [
            "Im in tanh\n",
            "Im in add\n",
            "Im in add\n",
            "Im in mul\n",
            "Im in mul\n"
          ]
        },
        {
          "output_type": "execute_result",
          "data": {
            "image/svg+xml": "<?xml version=\"1.0\" encoding=\"UTF-8\" standalone=\"no\"?>\n<!DOCTYPE svg PUBLIC \"-//W3C//DTD SVG 1.1//EN\"\n \"http://www.w3.org/Graphics/SVG/1.1/DTD/svg11.dtd\">\n<!-- Generated by graphviz version 2.43.0 (0)\n -->\n<!-- Title: %3 Pages: 1 -->\n<svg width=\"1583pt\" height=\"210pt\"\n viewBox=\"0.00 0.00 1583.00 210.00\" xmlns=\"http://www.w3.org/2000/svg\" xmlns:xlink=\"http://www.w3.org/1999/xlink\">\n<g id=\"graph0\" class=\"graph\" transform=\"scale(1 1) rotate(0) translate(4 206)\">\n<title>%3</title>\n<polygon fill=\"white\" stroke=\"transparent\" points=\"-4,4 -4,-206 1579,-206 1579,4 -4,4\"/>\n<!-- 135919851452448 -->\n<g id=\"node1\" class=\"node\">\n<title>135919851452448</title>\n<polygon fill=\"none\" stroke=\"black\" points=\"703,-137.5 703,-173.5 888,-173.5 888,-137.5 703,-137.5\"/>\n<text text-anchor=\"middle\" x=\"714.5\" y=\"-151.8\" font-family=\"Times,serif\" font-size=\"14.00\">b</text>\n<polyline fill=\"none\" stroke=\"black\" points=\"726,-137.5 726,-173.5 \"/>\n<text text-anchor=\"middle\" x=\"766\" y=\"-151.8\" font-family=\"Times,serif\" font-size=\"14.00\">data 6.8814</text>\n<polyline fill=\"none\" stroke=\"black\" points=\"806,-137.5 806,-173.5 \"/>\n<text text-anchor=\"middle\" x=\"847\" y=\"-151.8\" font-family=\"Times,serif\" font-size=\"14.00\">grad 0.5000</text>\n</g>\n<!-- 135920240992240+ -->\n<g id=\"node15\" class=\"node\">\n<title>135920240992240+</title>\n<ellipse fill=\"none\" stroke=\"black\" cx=\"988\" cy=\"-127.5\" rx=\"27\" ry=\"18\"/>\n<text text-anchor=\"middle\" x=\"988\" y=\"-123.8\" font-family=\"Times,serif\" font-size=\"14.00\">+</text>\n</g>\n<!-- 135919851452448&#45;&gt;135920240992240+ -->\n<g id=\"edge11\" class=\"edge\">\n<title>135919851452448&#45;&gt;135920240992240+</title>\n<path fill=\"none\" stroke=\"black\" d=\"M888.12,-142.03C910.59,-138.73 933.33,-135.39 951.33,-132.74\"/>\n<polygon fill=\"black\" stroke=\"black\" points=\"951.96,-136.19 961.34,-131.27 950.94,-129.26 951.96,-136.19\"/>\n</g>\n<!-- 135919851452976 -->\n<g id=\"node2\" class=\"node\">\n<title>135919851452976</title>\n<polygon fill=\"none\" stroke=\"black\" points=\"326,-110.5 326,-146.5 540,-146.5 540,-110.5 326,-110.5\"/>\n<text text-anchor=\"middle\" x=\"349.5\" y=\"-124.8\" font-family=\"Times,serif\" font-size=\"14.00\">x1w1</text>\n<polyline fill=\"none\" stroke=\"black\" points=\"373,-110.5 373,-146.5 \"/>\n<text text-anchor=\"middle\" x=\"415.5\" y=\"-124.8\" font-family=\"Times,serif\" font-size=\"14.00\">data &#45;6.0000</text>\n<polyline fill=\"none\" stroke=\"black\" points=\"458,-110.5 458,-146.5 \"/>\n<text text-anchor=\"middle\" x=\"499\" y=\"-124.8\" font-family=\"Times,serif\" font-size=\"14.00\">grad 0.5000</text>\n</g>\n<!-- 135920240989648+ -->\n<g id=\"node13\" class=\"node\">\n<title>135920240989648+</title>\n<ellipse fill=\"none\" stroke=\"black\" cx=\"603\" cy=\"-100.5\" rx=\"27\" ry=\"18\"/>\n<text text-anchor=\"middle\" x=\"603\" y=\"-96.8\" font-family=\"Times,serif\" font-size=\"14.00\">+</text>\n</g>\n<!-- 135919851452976&#45;&gt;135920240989648+ -->\n<g id=\"edge7\" class=\"edge\">\n<title>135919851452976&#45;&gt;135920240989648+</title>\n<path fill=\"none\" stroke=\"black\" d=\"M540.4,-110.77C549.72,-109.21 558.65,-107.72 566.68,-106.39\"/>\n<polygon fill=\"black\" stroke=\"black\" points=\"567.38,-109.82 576.66,-104.72 566.22,-102.91 567.38,-109.82\"/>\n</g>\n<!-- 135919851452976* -->\n<g id=\"node3\" class=\"node\">\n<title>135919851452976*</title>\n<ellipse fill=\"none\" stroke=\"black\" cx=\"263\" cy=\"-128.5\" rx=\"27\" ry=\"18\"/>\n<text text-anchor=\"middle\" x=\"263\" y=\"-124.8\" font-family=\"Times,serif\" font-size=\"14.00\">*</text>\n</g>\n<!-- 135919851452976*&#45;&gt;135919851452976 -->\n<g id=\"edge1\" class=\"edge\">\n<title>135919851452976*&#45;&gt;135919851452976</title>\n<path fill=\"none\" stroke=\"black\" d=\"M290.25,-128.5C297.7,-128.5 306.34,-128.5 315.59,-128.5\"/>\n<polygon fill=\"black\" stroke=\"black\" points=\"315.84,-132 325.84,-128.5 315.84,-125 315.84,-132\"/>\n</g>\n<!-- 135919851356224 -->\n<g id=\"node4\" class=\"node\">\n<title>135919851356224</title>\n<polygon fill=\"none\" stroke=\"black\" points=\"1362,-109.5 1362,-145.5 1575,-145.5 1575,-109.5 1362,-109.5\"/>\n<text text-anchor=\"middle\" x=\"1387.5\" y=\"-123.8\" font-family=\"Times,serif\" font-size=\"14.00\">output</text>\n<polyline fill=\"none\" stroke=\"black\" points=\"1413,-109.5 1413,-145.5 \"/>\n<text text-anchor=\"middle\" x=\"1453\" y=\"-123.8\" font-family=\"Times,serif\" font-size=\"14.00\">data 0.7071</text>\n<polyline fill=\"none\" stroke=\"black\" points=\"1493,-109.5 1493,-145.5 \"/>\n<text text-anchor=\"middle\" x=\"1534\" y=\"-123.8\" font-family=\"Times,serif\" font-size=\"14.00\">grad 1.0000</text>\n</g>\n<!-- 135919851356224tanh -->\n<g id=\"node5\" class=\"node\">\n<title>135919851356224tanh</title>\n<ellipse fill=\"none\" stroke=\"black\" cx=\"1299\" cy=\"-127.5\" rx=\"27\" ry=\"18\"/>\n<text text-anchor=\"middle\" x=\"1299\" y=\"-123.8\" font-family=\"Times,serif\" font-size=\"14.00\">tanh</text>\n</g>\n<!-- 135919851356224tanh&#45;&gt;135919851356224 -->\n<g id=\"edge2\" class=\"edge\">\n<title>135919851356224tanh&#45;&gt;135919851356224</title>\n<path fill=\"none\" stroke=\"black\" d=\"M1326.17,-127.5C1333.6,-127.5 1342.21,-127.5 1351.43,-127.5\"/>\n<polygon fill=\"black\" stroke=\"black\" points=\"1351.66,-131 1361.66,-127.5 1351.66,-124 1351.66,-131\"/>\n</g>\n<!-- 135919851452496 -->\n<g id=\"node6\" class=\"node\">\n<title>135919851452496</title>\n<polygon fill=\"none\" stroke=\"black\" points=\"2,-165.5 2,-201.5 198,-201.5 198,-165.5 2,-165.5\"/>\n<text text-anchor=\"middle\" x=\"17\" y=\"-179.8\" font-family=\"Times,serif\" font-size=\"14.00\">x1</text>\n<polyline fill=\"none\" stroke=\"black\" points=\"32,-165.5 32,-201.5 \"/>\n<text text-anchor=\"middle\" x=\"72\" y=\"-179.8\" font-family=\"Times,serif\" font-size=\"14.00\">data 2.0000</text>\n<polyline fill=\"none\" stroke=\"black\" points=\"112,-165.5 112,-201.5 \"/>\n<text text-anchor=\"middle\" x=\"155\" y=\"-179.8\" font-family=\"Times,serif\" font-size=\"14.00\">grad &#45;1.5000</text>\n</g>\n<!-- 135919851452496&#45;&gt;135919851452976* -->\n<g id=\"edge13\" class=\"edge\">\n<title>135919851452496&#45;&gt;135919851452976*</title>\n<path fill=\"none\" stroke=\"black\" d=\"M172.53,-165.44C181.84,-162.67 191.2,-159.67 200,-156.5 210.53,-152.71 221.75,-147.9 231.72,-143.33\"/>\n<polygon fill=\"black\" stroke=\"black\" points=\"233.25,-146.48 240.82,-139.07 230.28,-140.14 233.25,-146.48\"/>\n</g>\n<!-- 135919851452544 -->\n<g id=\"node7\" class=\"node\">\n<title>135919851452544</title>\n<polygon fill=\"none\" stroke=\"black\" points=\"2.5,-55.5 2.5,-91.5 197.5,-91.5 197.5,-55.5 2.5,-55.5\"/>\n<text text-anchor=\"middle\" x=\"19\" y=\"-69.8\" font-family=\"Times,serif\" font-size=\"14.00\">w2</text>\n<polyline fill=\"none\" stroke=\"black\" points=\"35.5,-55.5 35.5,-91.5 \"/>\n<text text-anchor=\"middle\" x=\"75.5\" y=\"-69.8\" font-family=\"Times,serif\" font-size=\"14.00\">data 1.0000</text>\n<polyline fill=\"none\" stroke=\"black\" points=\"115.5,-55.5 115.5,-91.5 \"/>\n<text text-anchor=\"middle\" x=\"156.5\" y=\"-69.8\" font-family=\"Times,serif\" font-size=\"14.00\">grad 0.0000</text>\n</g>\n<!-- 135919851444672* -->\n<g id=\"node11\" class=\"node\">\n<title>135919851444672*</title>\n<ellipse fill=\"none\" stroke=\"black\" cx=\"263\" cy=\"-73.5\" rx=\"27\" ry=\"18\"/>\n<text text-anchor=\"middle\" x=\"263\" y=\"-69.8\" font-family=\"Times,serif\" font-size=\"14.00\">*</text>\n</g>\n<!-- 135919851452544&#45;&gt;135919851444672* -->\n<g id=\"edge6\" class=\"edge\">\n<title>135919851452544&#45;&gt;135919851444672*</title>\n<path fill=\"none\" stroke=\"black\" d=\"M197.91,-73.5C207.65,-73.5 217.05,-73.5 225.52,-73.5\"/>\n<polygon fill=\"black\" stroke=\"black\" points=\"225.7,-77 235.7,-73.5 225.7,-70 225.7,-77\"/>\n</g>\n<!-- 135919851452592 -->\n<g id=\"node8\" class=\"node\">\n<title>135919851452592</title>\n<polygon fill=\"none\" stroke=\"black\" points=\"0,-110.5 0,-146.5 200,-146.5 200,-110.5 0,-110.5\"/>\n<text text-anchor=\"middle\" x=\"16.5\" y=\"-124.8\" font-family=\"Times,serif\" font-size=\"14.00\">w1</text>\n<polyline fill=\"none\" stroke=\"black\" points=\"33,-110.5 33,-146.5 \"/>\n<text text-anchor=\"middle\" x=\"75.5\" y=\"-124.8\" font-family=\"Times,serif\" font-size=\"14.00\">data &#45;3.0000</text>\n<polyline fill=\"none\" stroke=\"black\" points=\"118,-110.5 118,-146.5 \"/>\n<text text-anchor=\"middle\" x=\"159\" y=\"-124.8\" font-family=\"Times,serif\" font-size=\"14.00\">grad 1.0000</text>\n</g>\n<!-- 135919851452592&#45;&gt;135919851452976* -->\n<g id=\"edge14\" class=\"edge\">\n<title>135919851452592&#45;&gt;135919851452976*</title>\n<path fill=\"none\" stroke=\"black\" d=\"M200.21,-128.5C209.2,-128.5 217.86,-128.5 225.7,-128.5\"/>\n<polygon fill=\"black\" stroke=\"black\" points=\"225.85,-132 235.85,-128.5 225.85,-125 225.85,-132\"/>\n</g>\n<!-- 135919851452400 -->\n<g id=\"node9\" class=\"node\">\n<title>135919851452400</title>\n<polygon fill=\"none\" stroke=\"black\" points=\"4,-0.5 4,-36.5 196,-36.5 196,-0.5 4,-0.5\"/>\n<text text-anchor=\"middle\" x=\"19\" y=\"-14.8\" font-family=\"Times,serif\" font-size=\"14.00\">x2</text>\n<polyline fill=\"none\" stroke=\"black\" points=\"34,-0.5 34,-36.5 \"/>\n<text text-anchor=\"middle\" x=\"74\" y=\"-14.8\" font-family=\"Times,serif\" font-size=\"14.00\">data 0.0000</text>\n<polyline fill=\"none\" stroke=\"black\" points=\"114,-0.5 114,-36.5 \"/>\n<text text-anchor=\"middle\" x=\"155\" y=\"-14.8\" font-family=\"Times,serif\" font-size=\"14.00\">grad 0.5000</text>\n</g>\n<!-- 135919851452400&#45;&gt;135919851444672* -->\n<g id=\"edge8\" class=\"edge\">\n<title>135919851452400&#45;&gt;135919851444672*</title>\n<path fill=\"none\" stroke=\"black\" d=\"M169.28,-36.5C179.65,-39.61 190.16,-42.98 200,-46.5 210.28,-50.17 221.28,-54.74 231.11,-59.07\"/>\n<polygon fill=\"black\" stroke=\"black\" points=\"229.93,-62.37 240.48,-63.27 232.79,-55.99 229.93,-62.37\"/>\n</g>\n<!-- 135919851444672 -->\n<g id=\"node10\" class=\"node\">\n<title>135919851444672</title>\n<polygon fill=\"none\" stroke=\"black\" points=\"328.5,-55.5 328.5,-91.5 537.5,-91.5 537.5,-55.5 328.5,-55.5\"/>\n<text text-anchor=\"middle\" x=\"352\" y=\"-69.8\" font-family=\"Times,serif\" font-size=\"14.00\">x2w2</text>\n<polyline fill=\"none\" stroke=\"black\" points=\"375.5,-55.5 375.5,-91.5 \"/>\n<text text-anchor=\"middle\" x=\"415.5\" y=\"-69.8\" font-family=\"Times,serif\" font-size=\"14.00\">data 0.0000</text>\n<polyline fill=\"none\" stroke=\"black\" points=\"455.5,-55.5 455.5,-91.5 \"/>\n<text text-anchor=\"middle\" x=\"496.5\" y=\"-69.8\" font-family=\"Times,serif\" font-size=\"14.00\">grad 0.5000</text>\n</g>\n<!-- 135919851444672&#45;&gt;135920240989648+ -->\n<g id=\"edge9\" class=\"edge\">\n<title>135919851444672&#45;&gt;135920240989648+</title>\n<path fill=\"none\" stroke=\"black\" d=\"M537.53,-90.14C547.8,-91.79 557.66,-93.37 566.45,-94.79\"/>\n<polygon fill=\"black\" stroke=\"black\" points=\"566.16,-98.28 576.59,-96.42 567.27,-91.37 566.16,-98.28\"/>\n</g>\n<!-- 135919851444672*&#45;&gt;135919851444672 -->\n<g id=\"edge3\" class=\"edge\">\n<title>135919851444672*&#45;&gt;135919851444672</title>\n<path fill=\"none\" stroke=\"black\" d=\"M290.25,-73.5C298.43,-73.5 308.03,-73.5 318.31,-73.5\"/>\n<polygon fill=\"black\" stroke=\"black\" points=\"318.35,-77 328.35,-73.5 318.35,-70 318.35,-77\"/>\n</g>\n<!-- 135920240989648 -->\n<g id=\"node12\" class=\"node\">\n<title>135920240989648</title>\n<polygon fill=\"none\" stroke=\"black\" points=\"666,-82.5 666,-118.5 925,-118.5 925,-82.5 666,-82.5\"/>\n<text text-anchor=\"middle\" x=\"712\" y=\"-96.8\" font-family=\"Times,serif\" font-size=\"14.00\">x1w1 + x2w2</text>\n<polyline fill=\"none\" stroke=\"black\" points=\"758,-82.5 758,-118.5 \"/>\n<text text-anchor=\"middle\" x=\"800.5\" y=\"-96.8\" font-family=\"Times,serif\" font-size=\"14.00\">data &#45;6.0000</text>\n<polyline fill=\"none\" stroke=\"black\" points=\"843,-82.5 843,-118.5 \"/>\n<text text-anchor=\"middle\" x=\"884\" y=\"-96.8\" font-family=\"Times,serif\" font-size=\"14.00\">grad 0.5000</text>\n</g>\n<!-- 135920240989648&#45;&gt;135920240992240+ -->\n<g id=\"edge10\" class=\"edge\">\n<title>135920240989648&#45;&gt;135920240992240+</title>\n<path fill=\"none\" stroke=\"black\" d=\"M923.57,-118.51C933.55,-119.92 943,-121.26 951.42,-122.46\"/>\n<polygon fill=\"black\" stroke=\"black\" points=\"951.09,-125.95 961.48,-123.88 952.07,-119.01 951.09,-125.95\"/>\n</g>\n<!-- 135920240989648+&#45;&gt;135920240989648 -->\n<g id=\"edge4\" class=\"edge\">\n<title>135920240989648+&#45;&gt;135920240989648</title>\n<path fill=\"none\" stroke=\"black\" d=\"M630.09,-100.5C637.58,-100.5 646.3,-100.5 655.75,-100.5\"/>\n<polygon fill=\"black\" stroke=\"black\" points=\"655.84,-104 665.84,-100.5 655.84,-97 655.84,-104\"/>\n</g>\n<!-- 135920240992240 -->\n<g id=\"node14\" class=\"node\">\n<title>135920240992240</title>\n<polygon fill=\"none\" stroke=\"black\" points=\"1051,-109.5 1051,-145.5 1236,-145.5 1236,-109.5 1051,-109.5\"/>\n<text text-anchor=\"middle\" x=\"1062.5\" y=\"-123.8\" font-family=\"Times,serif\" font-size=\"14.00\">n</text>\n<polyline fill=\"none\" stroke=\"black\" points=\"1074,-109.5 1074,-145.5 \"/>\n<text text-anchor=\"middle\" x=\"1114\" y=\"-123.8\" font-family=\"Times,serif\" font-size=\"14.00\">data 0.8814</text>\n<polyline fill=\"none\" stroke=\"black\" points=\"1154,-109.5 1154,-145.5 \"/>\n<text text-anchor=\"middle\" x=\"1195\" y=\"-123.8\" font-family=\"Times,serif\" font-size=\"14.00\">grad 0.5000</text>\n</g>\n<!-- 135920240992240&#45;&gt;135919851356224tanh -->\n<g id=\"edge12\" class=\"edge\">\n<title>135920240992240&#45;&gt;135919851356224tanh</title>\n<path fill=\"none\" stroke=\"black\" d=\"M1236.01,-127.5C1245.01,-127.5 1253.74,-127.5 1261.66,-127.5\"/>\n<polygon fill=\"black\" stroke=\"black\" points=\"1261.91,-131 1271.91,-127.5 1261.91,-124 1261.91,-131\"/>\n</g>\n<!-- 135920240992240+&#45;&gt;135920240992240 -->\n<g id=\"edge5\" class=\"edge\">\n<title>135920240992240+&#45;&gt;135920240992240</title>\n<path fill=\"none\" stroke=\"black\" d=\"M1015.04,-127.5C1022.58,-127.5 1031.3,-127.5 1040.57,-127.5\"/>\n<polygon fill=\"black\" stroke=\"black\" points=\"1040.81,-131 1050.81,-127.5 1040.81,-124 1040.81,-131\"/>\n</g>\n</g>\n</svg>\n",
            "text/plain": [
              "<graphviz.graphs.Digraph at 0x7b9e641cdc30>"
            ]
          },
          "metadata": {},
          "execution_count": 22
        }
      ]
    },
    {
      "cell_type": "markdown",
      "source": [
        "### Using Pytorch to carry out the above operation"
      ],
      "metadata": {
        "id": "W87F2_bZOpEy"
      }
    },
    {
      "cell_type": "code",
      "source": [
        "import torch"
      ],
      "metadata": {
        "id": "hQDU47Uzh0En"
      },
      "execution_count": null,
      "outputs": []
    },
    {
      "cell_type": "code",
      "source": [
        "x1 = torch.Tensor([2.0]).double()                ; x1.requires_grad = True\n",
        "x2 = torch.Tensor([0.0]).double()                ; x2.requires_grad = True\n",
        "w1 = torch.Tensor([-3.0]).double()               ; w1.requires_grad = True\n",
        "w2 = torch.Tensor([1.0]).double()                ; w2.requires_grad = True\n",
        "b = torch.Tensor([6.8813735870195432]).double()  ; b.requires_grad = True\n",
        "n = x1*w1 + x2*w2 + b\n",
        "o = torch.tanh(n)\n",
        "\n",
        "print(o.data.item())\n",
        "o.backward()\n",
        "\n",
        "print('---')\n",
        "print('x2', x2.grad.item())\n",
        "print('w2', w2.grad.item())\n",
        "print('x1', x1.grad.item())\n",
        "print('w1', w1.grad.item())"
      ],
      "metadata": {
        "colab": {
          "base_uri": "https://localhost:8080/"
        },
        "id": "rqSriGlrQTD4",
        "outputId": "54e8579d-7c60-4dd8-a0e3-8316957ccb3a"
      },
      "execution_count": null,
      "outputs": [
        {
          "output_type": "stream",
          "name": "stdout",
          "text": [
            "0.7071066904050358\n",
            "---\n",
            "x2 0.5000001283844369\n",
            "w2 0.0\n",
            "x1 -1.5000003851533106\n",
            "w1 1.0000002567688737\n"
          ]
        }
      ]
    },
    {
      "cell_type": "code",
      "source": [
        "o.data.item()"
      ],
      "metadata": {
        "colab": {
          "base_uri": "https://localhost:8080/"
        },
        "id": "V4FxJ526TAKy",
        "outputId": "3a566ad3-226e-4c73-c156-73da46bf4bf7"
      },
      "execution_count": null,
      "outputs": [
        {
          "output_type": "execute_result",
          "data": {
            "text/plain": [
              "0.7071066904050358"
            ]
          },
          "metadata": {},
          "execution_count": 16
        }
      ]
    },
    {
      "cell_type": "code",
      "source": [
        "w1.grad"
      ],
      "metadata": {
        "colab": {
          "base_uri": "https://localhost:8080/"
        },
        "id": "pcy0vrP6TQcH",
        "outputId": "3f7b616a-7fdc-4aad-972f-9545b155c479"
      },
      "execution_count": null,
      "outputs": [
        {
          "output_type": "execute_result",
          "data": {
            "text/plain": [
              "tensor([1.0000], dtype=torch.float64)"
            ]
          },
          "metadata": {},
          "execution_count": 17
        }
      ]
    },
    {
      "cell_type": "markdown",
      "source": [
        "#### Building a Neural Net from scratch"
      ],
      "metadata": {
        "id": "dxkCQArpUqpC"
      }
    },
    {
      "cell_type": "code",
      "source": [
        "# showing an example of how one can call an object as a method using the built in __call__ method\n",
        "class Example:\n",
        "  def __init__(self,nin): # here, nin refers to number of inputs to this neuron\n",
        "    self.w = [Value(random.uniform(-1,1)) for _ in range(nin)]\n",
        "    self.b = Value(random.uniform(-1,1))\n",
        "\n",
        "  def __call__(self,x):\n",
        "    # x is a list of inputs\n",
        "    return 0\n",
        "\n",
        "x = [5,6]\n",
        "nn = Example(2)\n",
        "nn(x)  # this is as good as invoking nn.__call__(x)\n",
        "#nn.__call__(x)\n",
        "#################"
      ],
      "metadata": {
        "id": "LRRAUdp7Tpv4",
        "colab": {
          "base_uri": "https://localhost:8080/"
        },
        "outputId": "1141e554-2410-484f-d254-1dcac09de598"
      },
      "execution_count": null,
      "outputs": [
        {
          "output_type": "execute_result",
          "data": {
            "text/plain": [
              "0"
            ]
          },
          "metadata": {},
          "execution_count": 23
        }
      ]
    },
    {
      "cell_type": "code",
      "source": [
        "class Neuron:\n",
        "  def __init__(self,nin): # here, nin refers to number of inputs to this neuron\n",
        "    self.w = [Value(random.uniform(-1,1)) for _ in range(nin)]\n",
        "    self.b = Value(random.uniform(-1,1))\n",
        "\n",
        "  def __call__(self,x): # when called performs the activation operation for the particular neuron\n",
        "    # w * x + b\n",
        "    act = sum((wi*xi for wi,xi in zip(self.w, x)),self.b)\n",
        "    out = act.tanh()\n",
        "    return out\n",
        "\n",
        "  def parameters(self): # consolidating all the input parameters, such as the weights and the biases\n",
        "    return self.w + [self.b]\n",
        "\n",
        "class Layer:\n",
        "\n",
        "  def __init__(self,nin,nout): # here, nin refers to number of inputs to each neuron in the layer and nout refers to the number of neurons in the layer\n",
        "    self.neurons = [Neuron(nin) for _ in range(nout)] #initialising each neuron in the layer\n",
        "\n",
        "  def __call__(self,x): # when called calls the operation to perform activation operations for all the neurons in the layer\n",
        "    outs = [n(x) for n in self.neurons] # carrying out the activation function operation for the given input 'x' for each neuron in the layer and finally storing it in a list\n",
        "    return outs[0] if len(outs)==1 else outs\n",
        "\n",
        "  def parameters(self): # consolidating all the weights and biases of each neuron in the layer\n",
        "    return [p for neuron in self.neurons for p in neuron.parameters()]\n",
        "\n",
        "class MLP:\n",
        "  def __init__(self,nin,nouts): # here, nin refers to the number of neurons in the input layer and nouts is the list of the sizes for each layer\n",
        "    sz = [nin] + nouts\n",
        "    self.layers = [Layer(sz[i],sz[i+1]) for i in range(len(nouts))] # making the list which stores layer objects as its elements\n",
        "\n",
        "  def __call__(self,x): # when called calls the operation to open each layer and perform the activation function operations in each neuron\n",
        "    for layer in self.layers:\n",
        "      x = layer(x) #sequentially calling each layer of the MLP\n",
        "    return x\n",
        "\n",
        "  def parameters(self): # consolidating all the weights and biases of each neuron, iterating through each layer\n",
        "    return [p for layer in self.layers for p in layer.parameters()]"
      ],
      "metadata": {
        "id": "moaY9MWSQhCp"
      },
      "execution_count": null,
      "outputs": []
    },
    {
      "cell_type": "markdown",
      "source": [
        "### General Information about Python"
      ],
      "metadata": {
        "id": "MI3Xop2DtMDs"
      }
    },
    {
      "cell_type": "code",
      "source": [
        "# how zip works\n",
        "a = [1,2,3,4,5]\n",
        "b = [0,9,8,7,6]\n",
        "print(list(zip(a,b)))\n",
        "# here, zip becomes an iterator, that iterates on tuples consisting of the values of the lists passed as parameters, in the existing order"
      ],
      "metadata": {
        "colab": {
          "base_uri": "https://localhost:8080/"
        },
        "id": "hTHTK-yNRreu",
        "outputId": "82ed10a3-0cbf-4b8e-c412-0a7cee3cb5b6"
      },
      "execution_count": null,
      "outputs": [
        {
          "output_type": "stream",
          "name": "stdout",
          "text": [
            "[(1, 0), (2, 9), (3, 8), (4, 7), (5, 6)]\n"
          ]
        }
      ]
    },
    {
      "cell_type": "markdown",
      "source": [
        "### Continuing the Pytorch implementation"
      ],
      "metadata": {
        "id": "A7X2jtiJteit"
      }
    },
    {
      "cell_type": "code",
      "source": [
        "# First implementation\n",
        "input = [2,3,-1]\n",
        "n = MLP(3,[4,4,1])\n",
        "n(input)"
      ],
      "metadata": {
        "id": "EVjgicrBs-pj"
      },
      "execution_count": null,
      "outputs": []
    },
    {
      "cell_type": "code",
      "source": [
        "draw_dot(n(input))"
      ],
      "metadata": {
        "id": "x-rFJl2hRyFb",
        "colab": {
          "base_uri": "https://localhost:8080/",
          "height": 1000
        },
        "outputId": "a565d742-3d05-46cf-e77e-cb87641dadf2",
        "collapsed": true
      },
      "execution_count": null,
      "outputs": [
        {
          "output_type": "execute_result",
          "data": {
            "image/svg+xml": "<?xml version=\"1.0\" encoding=\"UTF-8\" standalone=\"no\"?>\n<!DOCTYPE svg PUBLIC \"-//W3C//DTD SVG 1.1//EN\"\n \"http://www.w3.org/Graphics/SVG/1.1/DTD/svg11.dtd\">\n<!-- Generated by graphviz version 2.43.0 (0)\n -->\n<!-- Title: %3 Pages: 1 -->\n<svg width=\"5757pt\" height=\"1007pt\"\n viewBox=\"0.00 0.00 5757.00 1007.00\" xmlns=\"http://www.w3.org/2000/svg\" xmlns:xlink=\"http://www.w3.org/1999/xlink\">\n<g id=\"graph0\" class=\"graph\" transform=\"scale(1 1) rotate(0) translate(4 1003)\">\n<title>%3</title>\n<polygon fill=\"white\" stroke=\"transparent\" points=\"-4,4 -4,-1003 5753,-1003 5753,4 -4,4\"/>\n<!-- 139521640734896 -->\n<g id=\"node1\" class=\"node\">\n<title>139521640734896</title>\n<polygon fill=\"none\" stroke=\"black\" points=\"2501.5,-735.5 2501.5,-771.5 2683.5,-771.5 2683.5,-735.5 2501.5,-735.5\"/>\n<text text-anchor=\"middle\" x=\"2511.5\" y=\"-749.8\" font-family=\"Times,serif\" font-size=\"14.00\"> </text>\n<polyline fill=\"none\" stroke=\"black\" points=\"2521.5,-735.5 2521.5,-771.5 \"/>\n<text text-anchor=\"middle\" x=\"2561.5\" y=\"-749.8\" font-family=\"Times,serif\" font-size=\"14.00\">data 0.3649</text>\n<polyline fill=\"none\" stroke=\"black\" points=\"2601.5,-735.5 2601.5,-771.5 \"/>\n<text text-anchor=\"middle\" x=\"2642.5\" y=\"-749.8\" font-family=\"Times,serif\" font-size=\"14.00\">grad 0.0000</text>\n</g>\n<!-- 139521640734464+ -->\n<g id=\"node197\" class=\"node\">\n<title>139521640734464+</title>\n<ellipse fill=\"none\" stroke=\"black\" cx=\"2749\" cy=\"-547.5\" rx=\"27\" ry=\"18\"/>\n<text text-anchor=\"middle\" x=\"2749\" y=\"-543.8\" font-family=\"Times,serif\" font-size=\"14.00\">+</text>\n</g>\n<!-- 139521640734896&#45;&gt;139521640734464+ -->\n<g id=\"edge132\" class=\"edge\">\n<title>139521640734896&#45;&gt;139521640734464+</title>\n<path fill=\"none\" stroke=\"black\" d=\"M2653.27,-735.36C2665.27,-729.57 2676.96,-722.08 2686,-712.5 2722.45,-673.88 2737.97,-611.79 2744.19,-575.8\"/>\n<polygon fill=\"black\" stroke=\"black\" points=\"2747.71,-575.96 2745.84,-565.53 2740.8,-574.85 2747.71,-575.96\"/>\n</g>\n<!-- 139521640734896+ -->\n<g id=\"node2\" class=\"node\">\n<title>139521640734896+</title>\n<ellipse fill=\"none\" stroke=\"black\" cx=\"2436\" cy=\"-760.5\" rx=\"27\" ry=\"18\"/>\n<text text-anchor=\"middle\" x=\"2436\" y=\"-756.8\" font-family=\"Times,serif\" font-size=\"14.00\">+</text>\n</g>\n<!-- 139521640734896+&#45;&gt;139521640734896 -->\n<g id=\"edge1\" class=\"edge\">\n<title>139521640734896+&#45;&gt;139521640734896</title>\n<path fill=\"none\" stroke=\"black\" d=\"M2463.21,-759.31C2471.34,-758.94 2480.85,-758.51 2490.94,-758.06\"/>\n<polygon fill=\"black\" stroke=\"black\" points=\"2491.36,-761.54 2501.19,-757.59 2491.04,-754.55 2491.36,-761.54\"/>\n</g>\n<!-- 139521640735232 -->\n<g id=\"node3\" class=\"node\">\n<title>139521640735232</title>\n<polygon fill=\"none\" stroke=\"black\" points=\"1875.5,-687.5 1875.5,-723.5 2057.5,-723.5 2057.5,-687.5 1875.5,-687.5\"/>\n<text text-anchor=\"middle\" x=\"1885.5\" y=\"-701.8\" font-family=\"Times,serif\" font-size=\"14.00\"> </text>\n<polyline fill=\"none\" stroke=\"black\" points=\"1895.5,-687.5 1895.5,-723.5 \"/>\n<text text-anchor=\"middle\" x=\"1935.5\" y=\"-701.8\" font-family=\"Times,serif\" font-size=\"14.00\">data 0.1149</text>\n<polyline fill=\"none\" stroke=\"black\" points=\"1975.5,-687.5 1975.5,-723.5 \"/>\n<text text-anchor=\"middle\" x=\"2016.5\" y=\"-701.8\" font-family=\"Times,serif\" font-size=\"14.00\">grad 0.0000</text>\n</g>\n<!-- 139521640735520+ -->\n<g id=\"node6\" class=\"node\">\n<title>139521640735520+</title>\n<ellipse fill=\"none\" stroke=\"black\" cx=\"2123\" cy=\"-760.5\" rx=\"27\" ry=\"18\"/>\n<text text-anchor=\"middle\" x=\"2123\" y=\"-756.8\" font-family=\"Times,serif\" font-size=\"14.00\">+</text>\n</g>\n<!-- 139521640735232&#45;&gt;139521640735520+ -->\n<g id=\"edge129\" class=\"edge\">\n<title>139521640735232&#45;&gt;139521640735520+</title>\n<path fill=\"none\" stroke=\"black\" d=\"M2031.02,-723.65C2040.79,-726.76 2050.71,-730.08 2060,-733.5 2070.25,-737.27 2081.23,-741.86 2091.07,-746.18\"/>\n<polygon fill=\"black\" stroke=\"black\" points=\"2089.89,-749.49 2100.45,-750.37 2092.74,-743.1 2089.89,-749.49\"/>\n</g>\n<!-- 139521640735232* -->\n<g id=\"node4\" class=\"node\">\n<title>139521640735232*</title>\n<ellipse fill=\"none\" stroke=\"black\" cx=\"1810\" cy=\"-705.5\" rx=\"27\" ry=\"18\"/>\n<text text-anchor=\"middle\" x=\"1810\" y=\"-701.8\" font-family=\"Times,serif\" font-size=\"14.00\">*</text>\n</g>\n<!-- 139521640735232*&#45;&gt;139521640735232 -->\n<g id=\"edge2\" class=\"edge\">\n<title>139521640735232*&#45;&gt;139521640735232</title>\n<path fill=\"none\" stroke=\"black\" d=\"M1837.21,-705.5C1845.34,-705.5 1854.85,-705.5 1864.94,-705.5\"/>\n<polygon fill=\"black\" stroke=\"black\" points=\"1865.19,-709 1875.19,-705.5 1865.19,-702 1865.19,-709\"/>\n</g>\n<!-- 139521640735520 -->\n<g id=\"node5\" class=\"node\">\n<title>139521640735520</title>\n<polygon fill=\"none\" stroke=\"black\" points=\"2186,-742.5 2186,-778.5 2373,-778.5 2373,-742.5 2186,-742.5\"/>\n<text text-anchor=\"middle\" x=\"2196\" y=\"-756.8\" font-family=\"Times,serif\" font-size=\"14.00\"> </text>\n<polyline fill=\"none\" stroke=\"black\" points=\"2206,-742.5 2206,-778.5 \"/>\n<text text-anchor=\"middle\" x=\"2248.5\" y=\"-756.8\" font-family=\"Times,serif\" font-size=\"14.00\">data &#45;0.2596</text>\n<polyline fill=\"none\" stroke=\"black\" points=\"2291,-742.5 2291,-778.5 \"/>\n<text text-anchor=\"middle\" x=\"2332\" y=\"-756.8\" font-family=\"Times,serif\" font-size=\"14.00\">grad 0.0000</text>\n</g>\n<!-- 139521640735520&#45;&gt;139521640734896+ -->\n<g id=\"edge117\" class=\"edge\">\n<title>139521640735520&#45;&gt;139521640734896+</title>\n<path fill=\"none\" stroke=\"black\" d=\"M2373.05,-760.5C2382.06,-760.5 2390.79,-760.5 2398.7,-760.5\"/>\n<polygon fill=\"black\" stroke=\"black\" points=\"2398.95,-764 2408.95,-760.5 2398.95,-757 2398.95,-764\"/>\n</g>\n<!-- 139521640735520+&#45;&gt;139521640735520 -->\n<g id=\"edge3\" class=\"edge\">\n<title>139521640735520+&#45;&gt;139521640735520</title>\n<path fill=\"none\" stroke=\"black\" d=\"M2150.21,-760.5C2157.73,-760.5 2166.43,-760.5 2175.67,-760.5\"/>\n<polygon fill=\"black\" stroke=\"black\" points=\"2175.89,-764 2185.89,-760.5 2175.89,-757 2175.89,-764\"/>\n</g>\n<!-- 139521640735712 -->\n<g id=\"node7\" class=\"node\">\n<title>139521640735712</title>\n<polygon fill=\"none\" stroke=\"black\" points=\"2188.5,-797.5 2188.5,-833.5 2370.5,-833.5 2370.5,-797.5 2188.5,-797.5\"/>\n<text text-anchor=\"middle\" x=\"2198.5\" y=\"-811.8\" font-family=\"Times,serif\" font-size=\"14.00\"> </text>\n<polyline fill=\"none\" stroke=\"black\" points=\"2208.5,-797.5 2208.5,-833.5 \"/>\n<text text-anchor=\"middle\" x=\"2248.5\" y=\"-811.8\" font-family=\"Times,serif\" font-size=\"14.00\">data 0.6244</text>\n<polyline fill=\"none\" stroke=\"black\" points=\"2288.5,-797.5 2288.5,-833.5 \"/>\n<text text-anchor=\"middle\" x=\"2329.5\" y=\"-811.8\" font-family=\"Times,serif\" font-size=\"14.00\">grad 0.0000</text>\n</g>\n<!-- 139521640735712&#45;&gt;139521640734896+ -->\n<g id=\"edge179\" class=\"edge\">\n<title>139521640735712&#45;&gt;139521640734896+</title>\n<path fill=\"none\" stroke=\"black\" d=\"M2346.56,-797.45C2355.51,-794.64 2364.53,-791.63 2373,-788.5 2383.49,-784.62 2394.71,-779.78 2404.68,-775.22\"/>\n<polygon fill=\"black\" stroke=\"black\" points=\"2406.2,-778.37 2413.79,-770.97 2403.25,-772.02 2406.2,-778.37\"/>\n</g>\n<!-- 139521640735712* -->\n<g id=\"node8\" class=\"node\">\n<title>139521640735712*</title>\n<ellipse fill=\"none\" stroke=\"black\" cx=\"2123\" cy=\"-815.5\" rx=\"27\" ry=\"18\"/>\n<text text-anchor=\"middle\" x=\"2123\" y=\"-811.8\" font-family=\"Times,serif\" font-size=\"14.00\">*</text>\n</g>\n<!-- 139521640735712*&#45;&gt;139521640735712 -->\n<g id=\"edge4\" class=\"edge\">\n<title>139521640735712*&#45;&gt;139521640735712</title>\n<path fill=\"none\" stroke=\"black\" d=\"M2150.21,-815.5C2158.34,-815.5 2167.85,-815.5 2177.94,-815.5\"/>\n<polygon fill=\"black\" stroke=\"black\" points=\"2178.19,-819 2188.19,-815.5 2178.19,-812 2178.19,-819\"/>\n</g>\n<!-- 139521640735904 -->\n<g id=\"node9\" class=\"node\">\n<title>139521640735904</title>\n<polygon fill=\"none\" stroke=\"black\" points=\"1560,-82.5 1560,-118.5 1747,-118.5 1747,-82.5 1560,-82.5\"/>\n<text text-anchor=\"middle\" x=\"1570\" y=\"-96.8\" font-family=\"Times,serif\" font-size=\"14.00\"> </text>\n<polyline fill=\"none\" stroke=\"black\" points=\"1580,-82.5 1580,-118.5 \"/>\n<text text-anchor=\"middle\" x=\"1622.5\" y=\"-96.8\" font-family=\"Times,serif\" font-size=\"14.00\">data &#45;0.4367</text>\n<polyline fill=\"none\" stroke=\"black\" points=\"1665,-82.5 1665,-118.5 \"/>\n<text text-anchor=\"middle\" x=\"1706\" y=\"-96.8\" font-family=\"Times,serif\" font-size=\"14.00\">grad 0.0000</text>\n</g>\n<!-- 139521640736384+ -->\n<g id=\"node14\" class=\"node\">\n<title>139521640736384+</title>\n<ellipse fill=\"none\" stroke=\"black\" cx=\"1810\" cy=\"-155.5\" rx=\"27\" ry=\"18\"/>\n<text text-anchor=\"middle\" x=\"1810\" y=\"-151.8\" font-family=\"Times,serif\" font-size=\"14.00\">+</text>\n</g>\n<!-- 139521640735904&#45;&gt;139521640736384+ -->\n<g id=\"edge183\" class=\"edge\">\n<title>139521640735904&#45;&gt;139521640736384+</title>\n<path fill=\"none\" stroke=\"black\" d=\"M1720.56,-118.55C1729.51,-121.36 1738.53,-124.37 1747,-127.5 1757.49,-131.38 1768.71,-136.22 1778.68,-140.78\"/>\n<polygon fill=\"black\" stroke=\"black\" points=\"1777.25,-143.98 1787.79,-145.03 1780.2,-137.63 1777.25,-143.98\"/>\n</g>\n<!-- 139521640735904+ -->\n<g id=\"node10\" class=\"node\">\n<title>139521640735904+</title>\n<ellipse fill=\"none\" stroke=\"black\" cx=\"1497\" cy=\"-100.5\" rx=\"27\" ry=\"18\"/>\n<text text-anchor=\"middle\" x=\"1497\" y=\"-96.8\" font-family=\"Times,serif\" font-size=\"14.00\">+</text>\n</g>\n<!-- 139521640735904+&#45;&gt;139521640735904 -->\n<g id=\"edge5\" class=\"edge\">\n<title>139521640735904+&#45;&gt;139521640735904</title>\n<path fill=\"none\" stroke=\"black\" d=\"M1524.21,-100.5C1531.73,-100.5 1540.43,-100.5 1549.67,-100.5\"/>\n<polygon fill=\"black\" stroke=\"black\" points=\"1549.89,-104 1559.89,-100.5 1549.89,-97 1549.89,-104\"/>\n</g>\n<!-- 139521640736096 -->\n<g id=\"node11\" class=\"node\">\n<title>139521640736096</title>\n<polygon fill=\"none\" stroke=\"black\" points=\"1249.5,-137.5 1249.5,-173.5 1431.5,-173.5 1431.5,-137.5 1249.5,-137.5\"/>\n<text text-anchor=\"middle\" x=\"1259.5\" y=\"-151.8\" font-family=\"Times,serif\" font-size=\"14.00\"> </text>\n<polyline fill=\"none\" stroke=\"black\" points=\"1269.5,-137.5 1269.5,-173.5 \"/>\n<text text-anchor=\"middle\" x=\"1309.5\" y=\"-151.8\" font-family=\"Times,serif\" font-size=\"14.00\">data 3.0000</text>\n<polyline fill=\"none\" stroke=\"black\" points=\"1349.5,-137.5 1349.5,-173.5 \"/>\n<text text-anchor=\"middle\" x=\"1390.5\" y=\"-151.8\" font-family=\"Times,serif\" font-size=\"14.00\">grad 0.0000</text>\n</g>\n<!-- 139521640736624* -->\n<g id=\"node22\" class=\"node\">\n<title>139521640736624*</title>\n<ellipse fill=\"none\" stroke=\"black\" cx=\"1497\" cy=\"-155.5\" rx=\"27\" ry=\"18\"/>\n<text text-anchor=\"middle\" x=\"1497\" y=\"-151.8\" font-family=\"Times,serif\" font-size=\"14.00\">*</text>\n</g>\n<!-- 139521640736096&#45;&gt;139521640736624* -->\n<g id=\"edge163\" class=\"edge\">\n<title>139521640736096&#45;&gt;139521640736624*</title>\n<path fill=\"none\" stroke=\"black\" d=\"M1431.82,-155.5C1441.57,-155.5 1451.04,-155.5 1459.57,-155.5\"/>\n<polygon fill=\"black\" stroke=\"black\" points=\"1459.83,-159 1469.83,-155.5 1459.83,-152 1459.83,-159\"/>\n</g>\n<!-- 139521640736336 -->\n<g id=\"node12\" class=\"node\">\n<title>139521640736336</title>\n<polygon fill=\"none\" stroke=\"black\" points=\"1560,-192.5 1560,-228.5 1747,-228.5 1747,-192.5 1560,-192.5\"/>\n<text text-anchor=\"middle\" x=\"1570\" y=\"-206.8\" font-family=\"Times,serif\" font-size=\"14.00\"> </text>\n<polyline fill=\"none\" stroke=\"black\" points=\"1580,-192.5 1580,-228.5 \"/>\n<text text-anchor=\"middle\" x=\"1622.5\" y=\"-206.8\" font-family=\"Times,serif\" font-size=\"14.00\">data &#45;1.0000</text>\n<polyline fill=\"none\" stroke=\"black\" points=\"1665,-192.5 1665,-228.5 \"/>\n<text text-anchor=\"middle\" x=\"1706\" y=\"-206.8\" font-family=\"Times,serif\" font-size=\"14.00\">grad 0.0000</text>\n</g>\n<!-- 139521640736576* -->\n<g id=\"node20\" class=\"node\">\n<title>139521640736576*</title>\n<ellipse fill=\"none\" stroke=\"black\" cx=\"1810\" cy=\"-210.5\" rx=\"27\" ry=\"18\"/>\n<text text-anchor=\"middle\" x=\"1810\" y=\"-206.8\" font-family=\"Times,serif\" font-size=\"14.00\">*</text>\n</g>\n<!-- 139521640736336&#45;&gt;139521640736576* -->\n<g id=\"edge101\" class=\"edge\">\n<title>139521640736336&#45;&gt;139521640736576*</title>\n<path fill=\"none\" stroke=\"black\" d=\"M1747.05,-210.5C1756.06,-210.5 1764.79,-210.5 1772.7,-210.5\"/>\n<polygon fill=\"black\" stroke=\"black\" points=\"1772.95,-214 1782.95,-210.5 1772.95,-207 1772.95,-214\"/>\n</g>\n<!-- 139521640736384 -->\n<g id=\"node13\" class=\"node\">\n<title>139521640736384</title>\n<polygon fill=\"none\" stroke=\"black\" points=\"1873,-137.5 1873,-173.5 2060,-173.5 2060,-137.5 1873,-137.5\"/>\n<text text-anchor=\"middle\" x=\"1883\" y=\"-151.8\" font-family=\"Times,serif\" font-size=\"14.00\"> </text>\n<polyline fill=\"none\" stroke=\"black\" points=\"1893,-137.5 1893,-173.5 \"/>\n<text text-anchor=\"middle\" x=\"1935.5\" y=\"-151.8\" font-family=\"Times,serif\" font-size=\"14.00\">data &#45;1.5671</text>\n<polyline fill=\"none\" stroke=\"black\" points=\"1978,-137.5 1978,-173.5 \"/>\n<text text-anchor=\"middle\" x=\"2019\" y=\"-151.8\" font-family=\"Times,serif\" font-size=\"14.00\">grad 0.0000</text>\n</g>\n<!-- 139521640737248+ -->\n<g id=\"node37\" class=\"node\">\n<title>139521640737248+</title>\n<ellipse fill=\"none\" stroke=\"black\" cx=\"2123\" cy=\"-210.5\" rx=\"27\" ry=\"18\"/>\n<text text-anchor=\"middle\" x=\"2123\" y=\"-206.8\" font-family=\"Times,serif\" font-size=\"14.00\">+</text>\n</g>\n<!-- 139521640736384&#45;&gt;139521640737248+ -->\n<g id=\"edge126\" class=\"edge\">\n<title>139521640736384&#45;&gt;139521640737248+</title>\n<path fill=\"none\" stroke=\"black\" d=\"M2033.56,-173.55C2042.51,-176.36 2051.53,-179.37 2060,-182.5 2070.49,-186.38 2081.71,-191.22 2091.68,-195.78\"/>\n<polygon fill=\"black\" stroke=\"black\" points=\"2090.25,-198.98 2100.79,-200.03 2093.2,-192.63 2090.25,-198.98\"/>\n</g>\n<!-- 139521640736384+&#45;&gt;139521640736384 -->\n<g id=\"edge6\" class=\"edge\">\n<title>139521640736384+&#45;&gt;139521640736384</title>\n<path fill=\"none\" stroke=\"black\" d=\"M1837.21,-155.5C1844.73,-155.5 1853.43,-155.5 1862.67,-155.5\"/>\n<polygon fill=\"black\" stroke=\"black\" points=\"1862.89,-159 1872.89,-155.5 1862.89,-152 1862.89,-159\"/>\n</g>\n<!-- 139521640826576 -->\n<g id=\"node15\" class=\"node\">\n<title>139521640826576</title>\n<polygon fill=\"none\" stroke=\"black\" points=\"2188.5,-852.5 2188.5,-888.5 2370.5,-888.5 2370.5,-852.5 2188.5,-852.5\"/>\n<text text-anchor=\"middle\" x=\"2198.5\" y=\"-866.8\" font-family=\"Times,serif\" font-size=\"14.00\"> </text>\n<polyline fill=\"none\" stroke=\"black\" points=\"2208.5,-852.5 2208.5,-888.5 \"/>\n<text text-anchor=\"middle\" x=\"2248.5\" y=\"-866.8\" font-family=\"Times,serif\" font-size=\"14.00\">data 0.4780</text>\n<polyline fill=\"none\" stroke=\"black\" points=\"2288.5,-852.5 2288.5,-888.5 \"/>\n<text text-anchor=\"middle\" x=\"2329.5\" y=\"-866.8\" font-family=\"Times,serif\" font-size=\"14.00\">grad 0.0000</text>\n</g>\n<!-- 139521640826672+ -->\n<g id=\"node18\" class=\"node\">\n<title>139521640826672+</title>\n<ellipse fill=\"none\" stroke=\"black\" cx=\"2436\" cy=\"-870.5\" rx=\"27\" ry=\"18\"/>\n<text text-anchor=\"middle\" x=\"2436\" y=\"-866.8\" font-family=\"Times,serif\" font-size=\"14.00\">+</text>\n</g>\n<!-- 139521640826576&#45;&gt;139521640826672+ -->\n<g id=\"edge92\" class=\"edge\">\n<title>139521640826576&#45;&gt;139521640826672+</title>\n<path fill=\"none\" stroke=\"black\" d=\"M2370.82,-870.5C2380.57,-870.5 2390.04,-870.5 2398.57,-870.5\"/>\n<polygon fill=\"black\" stroke=\"black\" points=\"2398.83,-874 2408.83,-870.5 2398.83,-867 2398.83,-874\"/>\n</g>\n<!-- 139521640826576* -->\n<g id=\"node16\" class=\"node\">\n<title>139521640826576*</title>\n<ellipse fill=\"none\" stroke=\"black\" cx=\"2123\" cy=\"-870.5\" rx=\"27\" ry=\"18\"/>\n<text text-anchor=\"middle\" x=\"2123\" y=\"-866.8\" font-family=\"Times,serif\" font-size=\"14.00\">*</text>\n</g>\n<!-- 139521640826576*&#45;&gt;139521640826576 -->\n<g id=\"edge7\" class=\"edge\">\n<title>139521640826576*&#45;&gt;139521640826576</title>\n<path fill=\"none\" stroke=\"black\" d=\"M2150.21,-870.5C2158.34,-870.5 2167.85,-870.5 2177.94,-870.5\"/>\n<polygon fill=\"black\" stroke=\"black\" points=\"2178.19,-874 2188.19,-870.5 2178.19,-867 2178.19,-874\"/>\n</g>\n<!-- 139521640826672 -->\n<g id=\"node17\" class=\"node\">\n<title>139521640826672</title>\n<polygon fill=\"none\" stroke=\"black\" points=\"2499,-824.5 2499,-860.5 2686,-860.5 2686,-824.5 2499,-824.5\"/>\n<text text-anchor=\"middle\" x=\"2509\" y=\"-838.8\" font-family=\"Times,serif\" font-size=\"14.00\"> </text>\n<polyline fill=\"none\" stroke=\"black\" points=\"2519,-824.5 2519,-860.5 \"/>\n<text text-anchor=\"middle\" x=\"2561.5\" y=\"-838.8\" font-family=\"Times,serif\" font-size=\"14.00\">data &#45;0.2678</text>\n<polyline fill=\"none\" stroke=\"black\" points=\"2604,-824.5 2604,-860.5 \"/>\n<text text-anchor=\"middle\" x=\"2645\" y=\"-838.8\" font-family=\"Times,serif\" font-size=\"14.00\">grad 0.0000</text>\n</g>\n<!-- 139521640827056+ -->\n<g id=\"node29\" class=\"node\">\n<title>139521640827056+</title>\n<ellipse fill=\"none\" stroke=\"black\" cx=\"2749\" cy=\"-684.5\" rx=\"27\" ry=\"18\"/>\n<text text-anchor=\"middle\" x=\"2749\" y=\"-680.8\" font-family=\"Times,serif\" font-size=\"14.00\">+</text>\n</g>\n<!-- 139521640826672&#45;&gt;139521640827056+ -->\n<g id=\"edge138\" class=\"edge\">\n<title>139521640826672&#45;&gt;139521640827056+</title>\n<path fill=\"none\" stroke=\"black\" d=\"M2628.11,-824.38C2646.67,-813.57 2669.12,-798.62 2686,-781.5 2706.69,-760.52 2724.11,-731.53 2735.16,-710.72\"/>\n<polygon fill=\"black\" stroke=\"black\" points=\"2738.3,-712.28 2739.79,-701.79 2732.08,-709.07 2738.3,-712.28\"/>\n</g>\n<!-- 139521640826672+&#45;&gt;139521640826672 -->\n<g id=\"edge8\" class=\"edge\">\n<title>139521640826672+&#45;&gt;139521640826672</title>\n<path fill=\"none\" stroke=\"black\" d=\"M2462.17,-865.94C2469.99,-864.52 2479.15,-862.86 2488.91,-861.09\"/>\n<polygon fill=\"black\" stroke=\"black\" points=\"2489.64,-864.52 2498.86,-859.29 2488.39,-857.63 2489.64,-864.52\"/>\n</g>\n<!-- 139521640736576 -->\n<g id=\"node19\" class=\"node\">\n<title>139521640736576</title>\n<polygon fill=\"none\" stroke=\"black\" points=\"1873,-192.5 1873,-228.5 2060,-228.5 2060,-192.5 1873,-192.5\"/>\n<text text-anchor=\"middle\" x=\"1883\" y=\"-206.8\" font-family=\"Times,serif\" font-size=\"14.00\"> </text>\n<polyline fill=\"none\" stroke=\"black\" points=\"1893,-192.5 1893,-228.5 \"/>\n<text text-anchor=\"middle\" x=\"1935.5\" y=\"-206.8\" font-family=\"Times,serif\" font-size=\"14.00\">data &#45;0.3231</text>\n<polyline fill=\"none\" stroke=\"black\" points=\"1978,-192.5 1978,-228.5 \"/>\n<text text-anchor=\"middle\" x=\"2019\" y=\"-206.8\" font-family=\"Times,serif\" font-size=\"14.00\">grad 0.0000</text>\n</g>\n<!-- 139521640736576&#45;&gt;139521640737248+ -->\n<g id=\"edge83\" class=\"edge\">\n<title>139521640736576&#45;&gt;139521640737248+</title>\n<path fill=\"none\" stroke=\"black\" d=\"M2060.05,-210.5C2069.06,-210.5 2077.79,-210.5 2085.7,-210.5\"/>\n<polygon fill=\"black\" stroke=\"black\" points=\"2085.95,-214 2095.95,-210.5 2085.95,-207 2085.95,-214\"/>\n</g>\n<!-- 139521640736576*&#45;&gt;139521640736576 -->\n<g id=\"edge9\" class=\"edge\">\n<title>139521640736576*&#45;&gt;139521640736576</title>\n<path fill=\"none\" stroke=\"black\" d=\"M1837.21,-210.5C1844.73,-210.5 1853.43,-210.5 1862.67,-210.5\"/>\n<polygon fill=\"black\" stroke=\"black\" points=\"1862.89,-214 1872.89,-210.5 1862.89,-207 1862.89,-214\"/>\n</g>\n<!-- 139521640736624 -->\n<g id=\"node21\" class=\"node\">\n<title>139521640736624</title>\n<polygon fill=\"none\" stroke=\"black\" points=\"1560,-137.5 1560,-173.5 1747,-173.5 1747,-137.5 1560,-137.5\"/>\n<text text-anchor=\"middle\" x=\"1570\" y=\"-151.8\" font-family=\"Times,serif\" font-size=\"14.00\"> </text>\n<polyline fill=\"none\" stroke=\"black\" points=\"1580,-137.5 1580,-173.5 \"/>\n<text text-anchor=\"middle\" x=\"1622.5\" y=\"-151.8\" font-family=\"Times,serif\" font-size=\"14.00\">data &#45;1.1304</text>\n<polyline fill=\"none\" stroke=\"black\" points=\"1665,-137.5 1665,-173.5 \"/>\n<text text-anchor=\"middle\" x=\"1706\" y=\"-151.8\" font-family=\"Times,serif\" font-size=\"14.00\">grad 0.0000</text>\n</g>\n<!-- 139521640736624&#45;&gt;139521640736384+ -->\n<g id=\"edge156\" class=\"edge\">\n<title>139521640736624&#45;&gt;139521640736384+</title>\n<path fill=\"none\" stroke=\"black\" d=\"M1747.05,-155.5C1756.06,-155.5 1764.79,-155.5 1772.7,-155.5\"/>\n<polygon fill=\"black\" stroke=\"black\" points=\"1772.95,-159 1782.95,-155.5 1772.95,-152 1772.95,-159\"/>\n</g>\n<!-- 139521640736624*&#45;&gt;139521640736624 -->\n<g id=\"edge10\" class=\"edge\">\n<title>139521640736624*&#45;&gt;139521640736624</title>\n<path fill=\"none\" stroke=\"black\" d=\"M1524.21,-155.5C1531.73,-155.5 1540.43,-155.5 1549.67,-155.5\"/>\n<polygon fill=\"black\" stroke=\"black\" points=\"1549.89,-159 1559.89,-155.5 1549.89,-152 1549.89,-159\"/>\n</g>\n<!-- 139521640736672 -->\n<g id=\"node23\" class=\"node\">\n<title>139521640736672</title>\n<polygon fill=\"none\" stroke=\"black\" points=\"1247,-27.5 1247,-63.5 1434,-63.5 1434,-27.5 1247,-27.5\"/>\n<text text-anchor=\"middle\" x=\"1257\" y=\"-41.8\" font-family=\"Times,serif\" font-size=\"14.00\"> </text>\n<polyline fill=\"none\" stroke=\"black\" points=\"1267,-27.5 1267,-63.5 \"/>\n<text text-anchor=\"middle\" x=\"1309.5\" y=\"-41.8\" font-family=\"Times,serif\" font-size=\"14.00\">data &#45;0.5308</text>\n<polyline fill=\"none\" stroke=\"black\" points=\"1352,-27.5 1352,-63.5 \"/>\n<text text-anchor=\"middle\" x=\"1393\" y=\"-41.8\" font-family=\"Times,serif\" font-size=\"14.00\">grad 0.0000</text>\n</g>\n<!-- 139521640736672&#45;&gt;139521640735904+ -->\n<g id=\"edge140\" class=\"edge\">\n<title>139521640736672&#45;&gt;139521640735904+</title>\n<path fill=\"none\" stroke=\"black\" d=\"M1407.56,-63.55C1416.51,-66.36 1425.53,-69.37 1434,-72.5 1444.49,-76.38 1455.71,-81.22 1465.68,-85.78\"/>\n<polygon fill=\"black\" stroke=\"black\" points=\"1464.25,-88.98 1474.79,-90.03 1467.2,-82.63 1464.25,-88.98\"/>\n</g>\n<!-- 139521640736672* -->\n<g id=\"node24\" class=\"node\">\n<title>139521640736672*</title>\n<ellipse fill=\"none\" stroke=\"black\" cx=\"1184\" cy=\"-45.5\" rx=\"27\" ry=\"18\"/>\n<text text-anchor=\"middle\" x=\"1184\" y=\"-41.8\" font-family=\"Times,serif\" font-size=\"14.00\">*</text>\n</g>\n<!-- 139521640736672*&#45;&gt;139521640736672 -->\n<g id=\"edge11\" class=\"edge\">\n<title>139521640736672*&#45;&gt;139521640736672</title>\n<path fill=\"none\" stroke=\"black\" d=\"M1211.21,-45.5C1218.73,-45.5 1227.43,-45.5 1236.67,-45.5\"/>\n<polygon fill=\"black\" stroke=\"black\" points=\"1236.89,-49 1246.89,-45.5 1236.89,-42 1236.89,-49\"/>\n</g>\n<!-- 139521640826864 -->\n<g id=\"node25\" class=\"node\">\n<title>139521640826864</title>\n<polygon fill=\"none\" stroke=\"black\" points=\"2499,-666.5 2499,-702.5 2686,-702.5 2686,-666.5 2499,-666.5\"/>\n<text text-anchor=\"middle\" x=\"2509\" y=\"-680.8\" font-family=\"Times,serif\" font-size=\"14.00\"> </text>\n<polyline fill=\"none\" stroke=\"black\" points=\"2519,-666.5 2519,-702.5 \"/>\n<text text-anchor=\"middle\" x=\"2561.5\" y=\"-680.8\" font-family=\"Times,serif\" font-size=\"14.00\">data &#45;0.1714</text>\n<polyline fill=\"none\" stroke=\"black\" points=\"2604,-666.5 2604,-702.5 \"/>\n<text text-anchor=\"middle\" x=\"2645\" y=\"-680.8\" font-family=\"Times,serif\" font-size=\"14.00\">grad 0.0000</text>\n</g>\n<!-- 139521640826864&#45;&gt;139521640827056+ -->\n<g id=\"edge96\" class=\"edge\">\n<title>139521640826864&#45;&gt;139521640827056+</title>\n<path fill=\"none\" stroke=\"black\" d=\"M2686.05,-684.5C2695.06,-684.5 2703.79,-684.5 2711.7,-684.5\"/>\n<polygon fill=\"black\" stroke=\"black\" points=\"2711.95,-688 2721.95,-684.5 2711.95,-681 2711.95,-688\"/>\n</g>\n<!-- 139521640826864* -->\n<g id=\"node26\" class=\"node\">\n<title>139521640826864*</title>\n<ellipse fill=\"none\" stroke=\"black\" cx=\"2436\" cy=\"-684.5\" rx=\"27\" ry=\"18\"/>\n<text text-anchor=\"middle\" x=\"2436\" y=\"-680.8\" font-family=\"Times,serif\" font-size=\"14.00\">*</text>\n</g>\n<!-- 139521640826864*&#45;&gt;139521640826864 -->\n<g id=\"edge12\" class=\"edge\">\n<title>139521640826864*&#45;&gt;139521640826864</title>\n<path fill=\"none\" stroke=\"black\" d=\"M2463.21,-684.5C2470.73,-684.5 2479.43,-684.5 2488.67,-684.5\"/>\n<polygon fill=\"black\" stroke=\"black\" points=\"2488.89,-688 2498.89,-684.5 2488.89,-681 2488.89,-688\"/>\n</g>\n<!-- 139521640736816 -->\n<g id=\"node27\" class=\"node\">\n<title>139521640736816</title>\n<polygon fill=\"none\" stroke=\"black\" points=\"936.5,-55.5 936.5,-91.5 1118.5,-91.5 1118.5,-55.5 936.5,-55.5\"/>\n<text text-anchor=\"middle\" x=\"946.5\" y=\"-69.8\" font-family=\"Times,serif\" font-size=\"14.00\"> </text>\n<polyline fill=\"none\" stroke=\"black\" points=\"956.5,-55.5 956.5,-91.5 \"/>\n<text text-anchor=\"middle\" x=\"996.5\" y=\"-69.8\" font-family=\"Times,serif\" font-size=\"14.00\">data 2.0000</text>\n<polyline fill=\"none\" stroke=\"black\" points=\"1036.5,-55.5 1036.5,-91.5 \"/>\n<text text-anchor=\"middle\" x=\"1077.5\" y=\"-69.8\" font-family=\"Times,serif\" font-size=\"14.00\">grad 0.0000</text>\n</g>\n<!-- 139521640736816&#45;&gt;139521640736672* -->\n<g id=\"edge147\" class=\"edge\">\n<title>139521640736816&#45;&gt;139521640736672*</title>\n<path fill=\"none\" stroke=\"black\" d=\"M1118.82,-57.13C1129.07,-55.27 1139.01,-53.47 1147.88,-51.87\"/>\n<polygon fill=\"black\" stroke=\"black\" points=\"1148.54,-55.3 1157.75,-50.08 1147.29,-48.42 1148.54,-55.3\"/>\n</g>\n<!-- 139521640827056 -->\n<g id=\"node28\" class=\"node\">\n<title>139521640827056</title>\n<polygon fill=\"none\" stroke=\"black\" points=\"2812,-625.5 2812,-661.5 2999,-661.5 2999,-625.5 2812,-625.5\"/>\n<text text-anchor=\"middle\" x=\"2822\" y=\"-639.8\" font-family=\"Times,serif\" font-size=\"14.00\"> </text>\n<polyline fill=\"none\" stroke=\"black\" points=\"2832,-625.5 2832,-661.5 \"/>\n<text text-anchor=\"middle\" x=\"2874.5\" y=\"-639.8\" font-family=\"Times,serif\" font-size=\"14.00\">data &#45;0.4392</text>\n<polyline fill=\"none\" stroke=\"black\" points=\"2917,-625.5 2917,-661.5 \"/>\n<text text-anchor=\"middle\" x=\"2958\" y=\"-639.8\" font-family=\"Times,serif\" font-size=\"14.00\">grad 0.0000</text>\n</g>\n<!-- 139521640827440+ -->\n<g id=\"node39\" class=\"node\">\n<title>139521640827440+</title>\n<ellipse fill=\"none\" stroke=\"black\" cx=\"3062\" cy=\"-575.5\" rx=\"27\" ry=\"18\"/>\n<text text-anchor=\"middle\" x=\"3062\" y=\"-571.8\" font-family=\"Times,serif\" font-size=\"14.00\">+</text>\n</g>\n<!-- 139521640827056&#45;&gt;139521640827440+ -->\n<g id=\"edge109\" class=\"edge\">\n<title>139521640827056&#45;&gt;139521640827440+</title>\n<path fill=\"none\" stroke=\"black\" d=\"M2947.5,-625.46C2973.27,-614.11 3006,-599.71 3029.69,-589.28\"/>\n<polygon fill=\"black\" stroke=\"black\" points=\"3031.18,-592.45 3038.92,-585.22 3028.36,-586.04 3031.18,-592.45\"/>\n</g>\n<!-- 139521640827056+&#45;&gt;139521640827056 -->\n<g id=\"edge13\" class=\"edge\">\n<title>139521640827056+&#45;&gt;139521640827056</title>\n<path fill=\"none\" stroke=\"black\" d=\"M2774.48,-678C2788.76,-674.22 2807.63,-669.21 2826.57,-664.18\"/>\n<polygon fill=\"black\" stroke=\"black\" points=\"2827.68,-667.51 2836.45,-661.56 2825.89,-660.74 2827.68,-667.51\"/>\n</g>\n<!-- 139521640737104 -->\n<g id=\"node30\" class=\"node\">\n<title>139521640737104</title>\n<polygon fill=\"none\" stroke=\"black\" points=\"2186,-467.5 2186,-503.5 2373,-503.5 2373,-467.5 2186,-467.5\"/>\n<text text-anchor=\"middle\" x=\"2196\" y=\"-481.8\" font-family=\"Times,serif\" font-size=\"14.00\"> </text>\n<polyline fill=\"none\" stroke=\"black\" points=\"2206,-467.5 2206,-503.5 \"/>\n<text text-anchor=\"middle\" x=\"2248.5\" y=\"-481.8\" font-family=\"Times,serif\" font-size=\"14.00\">data &#45;0.8530</text>\n<polyline fill=\"none\" stroke=\"black\" points=\"2291,-467.5 2291,-503.5 \"/>\n<text text-anchor=\"middle\" x=\"2332\" y=\"-481.8\" font-family=\"Times,serif\" font-size=\"14.00\">grad 0.0000</text>\n</g>\n<!-- 139521640737104&#45;&gt;139521640826864* -->\n<g id=\"edge86\" class=\"edge\">\n<title>139521640737104&#45;&gt;139521640826864*</title>\n<path fill=\"none\" stroke=\"black\" d=\"M2360.27,-503.61C2364.89,-506.44 2369.19,-509.72 2373,-513.5 2411.3,-551.54 2389.42,-579.2 2409,-629.5 2412.71,-639.04 2417.34,-649.24 2421.66,-658.24\"/>\n<polygon fill=\"black\" stroke=\"black\" points=\"2418.63,-659.99 2426.17,-667.43 2424.91,-656.91 2418.63,-659.99\"/>\n</g>\n<!-- 139521640828592* -->\n<g id=\"node73\" class=\"node\">\n<title>139521640828592*</title>\n<ellipse fill=\"none\" stroke=\"black\" cx=\"2436\" cy=\"-485.5\" rx=\"27\" ry=\"18\"/>\n<text text-anchor=\"middle\" x=\"2436\" y=\"-481.8\" font-family=\"Times,serif\" font-size=\"14.00\">*</text>\n</g>\n<!-- 139521640737104&#45;&gt;139521640828592* -->\n<g id=\"edge174\" class=\"edge\">\n<title>139521640737104&#45;&gt;139521640828592*</title>\n<path fill=\"none\" stroke=\"black\" d=\"M2373.05,-485.5C2382.06,-485.5 2390.79,-485.5 2398.7,-485.5\"/>\n<polygon fill=\"black\" stroke=\"black\" points=\"2398.95,-489 2408.95,-485.5 2398.95,-482 2398.95,-489\"/>\n</g>\n<!-- 139521640830320* -->\n<g id=\"node125\" class=\"node\">\n<title>139521640830320*</title>\n<ellipse fill=\"none\" stroke=\"black\" cx=\"2436\" cy=\"-375.5\" rx=\"27\" ry=\"18\"/>\n<text text-anchor=\"middle\" x=\"2436\" y=\"-371.8\" font-family=\"Times,serif\" font-size=\"14.00\">*</text>\n</g>\n<!-- 139521640737104&#45;&gt;139521640830320* -->\n<g id=\"edge123\" class=\"edge\">\n<title>139521640737104&#45;&gt;139521640830320*</title>\n<path fill=\"none\" stroke=\"black\" d=\"M2357.53,-467.34C2362.97,-464.77 2368.19,-461.84 2373,-458.5 2394.11,-443.85 2410.97,-419.7 2421.74,-401.22\"/>\n<polygon fill=\"black\" stroke=\"black\" points=\"2424.85,-402.85 2426.68,-392.41 2418.74,-399.43 2424.85,-402.85\"/>\n</g>\n<!-- 139521640734704* -->\n<g id=\"node199\" class=\"node\">\n<title>139521640734704*</title>\n<ellipse fill=\"none\" stroke=\"black\" cx=\"2436\" cy=\"-540.5\" rx=\"27\" ry=\"18\"/>\n<text text-anchor=\"middle\" x=\"2436\" y=\"-536.8\" font-family=\"Times,serif\" font-size=\"14.00\">*</text>\n</g>\n<!-- 139521640737104&#45;&gt;139521640734704* -->\n<g id=\"edge87\" class=\"edge\">\n<title>139521640737104&#45;&gt;139521640734704*</title>\n<path fill=\"none\" stroke=\"black\" d=\"M2344.02,-503.65C2353.79,-506.76 2363.71,-510.08 2373,-513.5 2383.25,-517.27 2394.23,-521.86 2404.07,-526.18\"/>\n<polygon fill=\"black\" stroke=\"black\" points=\"2402.89,-529.49 2413.45,-530.37 2405.74,-523.1 2402.89,-529.49\"/>\n</g>\n<!-- 139521640737104tanh -->\n<g id=\"node31\" class=\"node\">\n<title>139521640737104tanh</title>\n<ellipse fill=\"none\" stroke=\"black\" cx=\"2123\" cy=\"-457.5\" rx=\"27\" ry=\"18\"/>\n<text text-anchor=\"middle\" x=\"2123\" y=\"-453.8\" font-family=\"Times,serif\" font-size=\"14.00\">tanh</text>\n</g>\n<!-- 139521640737104tanh&#45;&gt;139521640737104 -->\n<g id=\"edge14\" class=\"edge\">\n<title>139521640737104tanh&#45;&gt;139521640737104</title>\n<path fill=\"none\" stroke=\"black\" d=\"M2149.17,-462.06C2156.99,-463.48 2166.15,-465.14 2175.91,-466.91\"/>\n<polygon fill=\"black\" stroke=\"black\" points=\"2175.39,-470.37 2185.86,-468.71 2176.64,-463.48 2175.39,-470.37\"/>\n</g>\n<!-- 139521640827248 -->\n<g id=\"node32\" class=\"node\">\n<title>139521640827248</title>\n<polygon fill=\"none\" stroke=\"black\" points=\"2812,-419.5 2812,-455.5 2999,-455.5 2999,-419.5 2812,-419.5\"/>\n<text text-anchor=\"middle\" x=\"2822\" y=\"-433.8\" font-family=\"Times,serif\" font-size=\"14.00\"> </text>\n<polyline fill=\"none\" stroke=\"black\" points=\"2832,-419.5 2832,-455.5 \"/>\n<text text-anchor=\"middle\" x=\"2874.5\" y=\"-433.8\" font-family=\"Times,serif\" font-size=\"14.00\">data &#45;0.5980</text>\n<polyline fill=\"none\" stroke=\"black\" points=\"2917,-419.5 2917,-455.5 \"/>\n<text text-anchor=\"middle\" x=\"2958\" y=\"-433.8\" font-family=\"Times,serif\" font-size=\"14.00\">grad 0.0000</text>\n</g>\n<!-- 139521640827248&#45;&gt;139521640827440+ -->\n<g id=\"edge210\" class=\"edge\">\n<title>139521640827248&#45;&gt;139521640827440+</title>\n<path fill=\"none\" stroke=\"black\" d=\"M2983.58,-455.62C2989.07,-458.45 2994.29,-461.72 2999,-465.5 3025.76,-486.95 3042.97,-523.26 3052.3,-548.26\"/>\n<polygon fill=\"black\" stroke=\"black\" points=\"3049.08,-549.63 3055.72,-557.88 3055.67,-547.29 3049.08,-549.63\"/>\n</g>\n<!-- 139521640827248* -->\n<g id=\"node33\" class=\"node\">\n<title>139521640827248*</title>\n<ellipse fill=\"none\" stroke=\"black\" cx=\"2749\" cy=\"-437.5\" rx=\"27\" ry=\"18\"/>\n<text text-anchor=\"middle\" x=\"2749\" y=\"-433.8\" font-family=\"Times,serif\" font-size=\"14.00\">*</text>\n</g>\n<!-- 139521640827248*&#45;&gt;139521640827248 -->\n<g id=\"edge15\" class=\"edge\">\n<title>139521640827248*&#45;&gt;139521640827248</title>\n<path fill=\"none\" stroke=\"black\" d=\"M2776.21,-437.5C2783.73,-437.5 2792.43,-437.5 2801.67,-437.5\"/>\n<polygon fill=\"black\" stroke=\"black\" points=\"2801.89,-441 2811.89,-437.5 2801.89,-434 2801.89,-441\"/>\n</g>\n<!-- 139521640737152 -->\n<g id=\"node34\" class=\"node\">\n<title>139521640737152</title>\n<polygon fill=\"none\" stroke=\"black\" points=\"2499,-199.5 2499,-235.5 2686,-235.5 2686,-199.5 2499,-199.5\"/>\n<text text-anchor=\"middle\" x=\"2509\" y=\"-213.8\" font-family=\"Times,serif\" font-size=\"14.00\"> </text>\n<polyline fill=\"none\" stroke=\"black\" points=\"2519,-199.5 2519,-235.5 \"/>\n<text text-anchor=\"middle\" x=\"2561.5\" y=\"-213.8\" font-family=\"Times,serif\" font-size=\"14.00\">data &#45;0.9554</text>\n<polyline fill=\"none\" stroke=\"black\" points=\"2604,-199.5 2604,-235.5 \"/>\n<text text-anchor=\"middle\" x=\"2645\" y=\"-213.8\" font-family=\"Times,serif\" font-size=\"14.00\">grad 0.0000</text>\n</g>\n<!-- 139521640737152&#45;&gt;139521640827248* -->\n<g id=\"edge186\" class=\"edge\">\n<title>139521640737152&#45;&gt;139521640827248*</title>\n<path fill=\"none\" stroke=\"black\" d=\"M2675.73,-235.73C2679.46,-238.29 2682.92,-241.2 2686,-244.5 2737.21,-299.38 2687.23,-342.98 2722,-409.5 2723.05,-411.51 2724.28,-413.48 2725.63,-415.38\"/>\n<polygon fill=\"black\" stroke=\"black\" points=\"2723.02,-417.72 2732.06,-423.25 2728.44,-413.29 2723.02,-417.72\"/>\n</g>\n<!-- 139521640828976* -->\n<g id=\"node86\" class=\"node\">\n<title>139521640828976*</title>\n<ellipse fill=\"none\" stroke=\"black\" cx=\"2749\" cy=\"-217.5\" rx=\"27\" ry=\"18\"/>\n<text text-anchor=\"middle\" x=\"2749\" y=\"-213.8\" font-family=\"Times,serif\" font-size=\"14.00\">*</text>\n</g>\n<!-- 139521640737152&#45;&gt;139521640828976* -->\n<g id=\"edge128\" class=\"edge\">\n<title>139521640737152&#45;&gt;139521640828976*</title>\n<path fill=\"none\" stroke=\"black\" d=\"M2686.05,-217.5C2695.06,-217.5 2703.79,-217.5 2711.7,-217.5\"/>\n<polygon fill=\"black\" stroke=\"black\" points=\"2711.95,-221 2721.95,-217.5 2711.95,-214 2711.95,-221\"/>\n</g>\n<!-- 139521640830704* -->\n<g id=\"node135\" class=\"node\">\n<title>139521640830704*</title>\n<ellipse fill=\"none\" stroke=\"black\" cx=\"2749\" cy=\"-163.5\" rx=\"27\" ry=\"18\"/>\n<text text-anchor=\"middle\" x=\"2749\" y=\"-159.8\" font-family=\"Times,serif\" font-size=\"14.00\">*</text>\n</g>\n<!-- 139521640737152&#45;&gt;139521640830704* -->\n<g id=\"edge85\" class=\"edge\">\n<title>139521640737152&#45;&gt;139521640830704*</title>\n<path fill=\"none\" stroke=\"black\" d=\"M2656.48,-199.39C2666.41,-196.26 2676.53,-192.91 2686,-189.5 2696.13,-185.85 2707.01,-181.46 2716.79,-177.33\"/>\n<polygon fill=\"black\" stroke=\"black\" points=\"2718.31,-180.48 2726.12,-173.32 2715.55,-174.05 2718.31,-180.48\"/>\n</g>\n<!-- 139521640734272* -->\n<g id=\"node189\" class=\"node\">\n<title>139521640734272*</title>\n<ellipse fill=\"none\" stroke=\"black\" cx=\"2749\" cy=\"-382.5\" rx=\"27\" ry=\"18\"/>\n<text text-anchor=\"middle\" x=\"2749\" y=\"-378.8\" font-family=\"Times,serif\" font-size=\"14.00\">*</text>\n</g>\n<!-- 139521640737152&#45;&gt;139521640734272* -->\n<g id=\"edge78\" class=\"edge\">\n<title>139521640737152&#45;&gt;139521640734272*</title>\n<path fill=\"none\" stroke=\"black\" d=\"M2673.19,-235.52C2677.77,-238.12 2682.09,-241.09 2686,-244.5 2703.44,-259.69 2726.23,-319.29 2738.75,-355.01\"/>\n<polygon fill=\"black\" stroke=\"black\" points=\"2735.57,-356.52 2742.15,-364.82 2742.19,-354.23 2735.57,-356.52\"/>\n</g>\n<!-- 139521640737152tanh -->\n<g id=\"node35\" class=\"node\">\n<title>139521640737152tanh</title>\n<ellipse fill=\"none\" stroke=\"black\" cx=\"2436\" cy=\"-210.5\" rx=\"27\" ry=\"18\"/>\n<text text-anchor=\"middle\" x=\"2436\" y=\"-206.8\" font-family=\"Times,serif\" font-size=\"14.00\">tanh</text>\n</g>\n<!-- 139521640737152tanh&#45;&gt;139521640737152 -->\n<g id=\"edge16\" class=\"edge\">\n<title>139521640737152tanh&#45;&gt;139521640737152</title>\n<path fill=\"none\" stroke=\"black\" d=\"M2463.21,-211.69C2470.73,-212.03 2479.43,-212.42 2488.67,-212.84\"/>\n<polygon fill=\"black\" stroke=\"black\" points=\"2488.74,-216.35 2498.89,-213.3 2489.06,-209.35 2488.74,-216.35\"/>\n</g>\n<!-- 139521640737248 -->\n<g id=\"node36\" class=\"node\">\n<title>139521640737248</title>\n<polygon fill=\"none\" stroke=\"black\" points=\"2186,-192.5 2186,-228.5 2373,-228.5 2373,-192.5 2186,-192.5\"/>\n<text text-anchor=\"middle\" x=\"2196\" y=\"-206.8\" font-family=\"Times,serif\" font-size=\"14.00\"> </text>\n<polyline fill=\"none\" stroke=\"black\" points=\"2206,-192.5 2206,-228.5 \"/>\n<text text-anchor=\"middle\" x=\"2248.5\" y=\"-206.8\" font-family=\"Times,serif\" font-size=\"14.00\">data &#45;1.8902</text>\n<polyline fill=\"none\" stroke=\"black\" points=\"2291,-192.5 2291,-228.5 \"/>\n<text text-anchor=\"middle\" x=\"2332\" y=\"-206.8\" font-family=\"Times,serif\" font-size=\"14.00\">grad 0.0000</text>\n</g>\n<!-- 139521640737248&#45;&gt;139521640737152tanh -->\n<g id=\"edge103\" class=\"edge\">\n<title>139521640737248&#45;&gt;139521640737152tanh</title>\n<path fill=\"none\" stroke=\"black\" d=\"M2373.05,-210.5C2382.06,-210.5 2390.79,-210.5 2398.7,-210.5\"/>\n<polygon fill=\"black\" stroke=\"black\" points=\"2398.95,-214 2408.95,-210.5 2398.95,-207 2398.95,-214\"/>\n</g>\n<!-- 139521640737248+&#45;&gt;139521640737248 -->\n<g id=\"edge17\" class=\"edge\">\n<title>139521640737248+&#45;&gt;139521640737248</title>\n<path fill=\"none\" stroke=\"black\" d=\"M2150.21,-210.5C2157.73,-210.5 2166.43,-210.5 2175.67,-210.5\"/>\n<polygon fill=\"black\" stroke=\"black\" points=\"2175.89,-214 2185.89,-210.5 2175.89,-207 2175.89,-214\"/>\n</g>\n<!-- 139521640827440 -->\n<g id=\"node38\" class=\"node\">\n<title>139521640827440</title>\n<polygon fill=\"none\" stroke=\"black\" points=\"3125,-557.5 3125,-593.5 3312,-593.5 3312,-557.5 3125,-557.5\"/>\n<text text-anchor=\"middle\" x=\"3135\" y=\"-571.8\" font-family=\"Times,serif\" font-size=\"14.00\"> </text>\n<polyline fill=\"none\" stroke=\"black\" points=\"3145,-557.5 3145,-593.5 \"/>\n<text text-anchor=\"middle\" x=\"3187.5\" y=\"-571.8\" font-family=\"Times,serif\" font-size=\"14.00\">data &#45;1.0372</text>\n<polyline fill=\"none\" stroke=\"black\" points=\"3230,-557.5 3230,-593.5 \"/>\n<text text-anchor=\"middle\" x=\"3271\" y=\"-571.8\" font-family=\"Times,serif\" font-size=\"14.00\">grad 0.0000</text>\n</g>\n<!-- 139521640827536tanh -->\n<g id=\"node43\" class=\"node\">\n<title>139521640827536tanh</title>\n<ellipse fill=\"none\" stroke=\"black\" cx=\"3375\" cy=\"-575.5\" rx=\"27\" ry=\"18\"/>\n<text text-anchor=\"middle\" x=\"3375\" y=\"-571.8\" font-family=\"Times,serif\" font-size=\"14.00\">tanh</text>\n</g>\n<!-- 139521640827440&#45;&gt;139521640827536tanh -->\n<g id=\"edge193\" class=\"edge\">\n<title>139521640827440&#45;&gt;139521640827536tanh</title>\n<path fill=\"none\" stroke=\"black\" d=\"M3312.05,-575.5C3321.06,-575.5 3329.79,-575.5 3337.7,-575.5\"/>\n<polygon fill=\"black\" stroke=\"black\" points=\"3337.95,-579 3347.95,-575.5 3337.95,-572 3337.95,-579\"/>\n</g>\n<!-- 139521640827440+&#45;&gt;139521640827440 -->\n<g id=\"edge18\" class=\"edge\">\n<title>139521640827440+&#45;&gt;139521640827440</title>\n<path fill=\"none\" stroke=\"black\" d=\"M3089.21,-575.5C3096.73,-575.5 3105.43,-575.5 3114.67,-575.5\"/>\n<polygon fill=\"black\" stroke=\"black\" points=\"3114.89,-579 3124.89,-575.5 3114.89,-572 3114.89,-579\"/>\n</g>\n<!-- 139521640737392 -->\n<g id=\"node40\" class=\"node\">\n<title>139521640737392</title>\n<polygon fill=\"none\" stroke=\"black\" points=\"1873,-412.5 1873,-448.5 2060,-448.5 2060,-412.5 1873,-412.5\"/>\n<text text-anchor=\"middle\" x=\"1883\" y=\"-426.8\" font-family=\"Times,serif\" font-size=\"14.00\"> </text>\n<polyline fill=\"none\" stroke=\"black\" points=\"1893,-412.5 1893,-448.5 \"/>\n<text text-anchor=\"middle\" x=\"1935.5\" y=\"-426.8\" font-family=\"Times,serif\" font-size=\"14.00\">data &#45;1.2672</text>\n<polyline fill=\"none\" stroke=\"black\" points=\"1978,-412.5 1978,-448.5 \"/>\n<text text-anchor=\"middle\" x=\"2019\" y=\"-426.8\" font-family=\"Times,serif\" font-size=\"14.00\">grad 0.0000</text>\n</g>\n<!-- 139521640737392&#45;&gt;139521640737104tanh -->\n<g id=\"edge181\" class=\"edge\">\n<title>139521640737392&#45;&gt;139521640737104tanh</title>\n<path fill=\"none\" stroke=\"black\" d=\"M2060.05,-446.67C2069.34,-448.3 2078.33,-449.87 2086.44,-451.29\"/>\n<polygon fill=\"black\" stroke=\"black\" points=\"2086.1,-454.78 2096.55,-453.05 2087.3,-447.88 2086.1,-454.78\"/>\n</g>\n<!-- 139521640737392+ -->\n<g id=\"node41\" class=\"node\">\n<title>139521640737392+</title>\n<ellipse fill=\"none\" stroke=\"black\" cx=\"1810\" cy=\"-430.5\" rx=\"27\" ry=\"18\"/>\n<text text-anchor=\"middle\" x=\"1810\" y=\"-426.8\" font-family=\"Times,serif\" font-size=\"14.00\">+</text>\n</g>\n<!-- 139521640737392+&#45;&gt;139521640737392 -->\n<g id=\"edge19\" class=\"edge\">\n<title>139521640737392+&#45;&gt;139521640737392</title>\n<path fill=\"none\" stroke=\"black\" d=\"M1837.21,-430.5C1844.73,-430.5 1853.43,-430.5 1862.67,-430.5\"/>\n<polygon fill=\"black\" stroke=\"black\" points=\"1862.89,-434 1872.89,-430.5 1862.89,-427 1862.89,-434\"/>\n</g>\n<!-- 139521640827536 -->\n<g id=\"node42\" class=\"node\">\n<title>139521640827536</title>\n<polygon fill=\"none\" stroke=\"black\" points=\"3438,-557.5 3438,-593.5 3625,-593.5 3625,-557.5 3438,-557.5\"/>\n<text text-anchor=\"middle\" x=\"3448\" y=\"-571.8\" font-family=\"Times,serif\" font-size=\"14.00\"> </text>\n<polyline fill=\"none\" stroke=\"black\" points=\"3458,-557.5 3458,-593.5 \"/>\n<text text-anchor=\"middle\" x=\"3500.5\" y=\"-571.8\" font-family=\"Times,serif\" font-size=\"14.00\">data &#45;0.7768</text>\n<polyline fill=\"none\" stroke=\"black\" points=\"3543,-557.5 3543,-593.5 \"/>\n<text text-anchor=\"middle\" x=\"3584\" y=\"-571.8\" font-family=\"Times,serif\" font-size=\"14.00\">grad 0.0000</text>\n</g>\n<!-- 139521640831664* -->\n<g id=\"node168\" class=\"node\">\n<title>139521640831664*</title>\n<ellipse fill=\"none\" stroke=\"black\" cx=\"3688\" cy=\"-520.5\" rx=\"27\" ry=\"18\"/>\n<text text-anchor=\"middle\" x=\"3688\" y=\"-516.8\" font-family=\"Times,serif\" font-size=\"14.00\">*</text>\n</g>\n<!-- 139521640827536&#45;&gt;139521640831664* -->\n<g id=\"edge184\" class=\"edge\">\n<title>139521640827536&#45;&gt;139521640831664*</title>\n<path fill=\"none\" stroke=\"black\" d=\"M3598.56,-557.45C3607.51,-554.64 3616.53,-551.63 3625,-548.5 3635.49,-544.62 3646.71,-539.78 3656.68,-535.22\"/>\n<polygon fill=\"black\" stroke=\"black\" points=\"3658.2,-538.37 3665.79,-530.97 3655.25,-532.02 3658.2,-538.37\"/>\n</g>\n<!-- 139521640827536tanh&#45;&gt;139521640827536 -->\n<g id=\"edge20\" class=\"edge\">\n<title>139521640827536tanh&#45;&gt;139521640827536</title>\n<path fill=\"none\" stroke=\"black\" d=\"M3402.21,-575.5C3409.73,-575.5 3418.43,-575.5 3427.67,-575.5\"/>\n<polygon fill=\"black\" stroke=\"black\" points=\"3427.89,-579 3437.89,-575.5 3427.89,-572 3427.89,-579\"/>\n</g>\n<!-- 139521640737440 -->\n<g id=\"node44\" class=\"node\">\n<title>139521640737440</title>\n<polygon fill=\"none\" stroke=\"black\" points=\"936.5,-423.5 936.5,-459.5 1118.5,-459.5 1118.5,-423.5 936.5,-423.5\"/>\n<text text-anchor=\"middle\" x=\"946.5\" y=\"-437.8\" font-family=\"Times,serif\" font-size=\"14.00\"> </text>\n<polyline fill=\"none\" stroke=\"black\" points=\"956.5,-423.5 956.5,-459.5 \"/>\n<text text-anchor=\"middle\" x=\"996.5\" y=\"-437.8\" font-family=\"Times,serif\" font-size=\"14.00\">data 3.0000</text>\n<polyline fill=\"none\" stroke=\"black\" points=\"1036.5,-423.5 1036.5,-459.5 \"/>\n<text text-anchor=\"middle\" x=\"1077.5\" y=\"-437.8\" font-family=\"Times,serif\" font-size=\"14.00\">grad 0.0000</text>\n</g>\n<!-- 139521640737920* -->\n<g id=\"node55\" class=\"node\">\n<title>139521640737920*</title>\n<ellipse fill=\"none\" stroke=\"black\" cx=\"1184\" cy=\"-386.5\" rx=\"27\" ry=\"18\"/>\n<text text-anchor=\"middle\" x=\"1184\" y=\"-382.8\" font-family=\"Times,serif\" font-size=\"14.00\">*</text>\n</g>\n<!-- 139521640737440&#45;&gt;139521640737920* -->\n<g id=\"edge79\" class=\"edge\">\n<title>139521640737440&#45;&gt;139521640737920*</title>\n<path fill=\"none\" stroke=\"black\" d=\"M1094.56,-423.45C1103.51,-420.64 1112.53,-417.63 1121,-414.5 1131.49,-410.62 1142.71,-405.78 1152.68,-401.22\"/>\n<polygon fill=\"black\" stroke=\"black\" points=\"1154.2,-404.37 1161.79,-396.97 1151.25,-398.02 1154.2,-404.37\"/>\n</g>\n<!-- 139521640737584 -->\n<g id=\"node45\" class=\"node\">\n<title>139521640737584</title>\n<polygon fill=\"none\" stroke=\"black\" points=\"1560,-368.5 1560,-404.5 1747,-404.5 1747,-368.5 1560,-368.5\"/>\n<text text-anchor=\"middle\" x=\"1570\" y=\"-382.8\" font-family=\"Times,serif\" font-size=\"14.00\"> </text>\n<polyline fill=\"none\" stroke=\"black\" points=\"1580,-368.5 1580,-404.5 \"/>\n<text text-anchor=\"middle\" x=\"1622.5\" y=\"-382.8\" font-family=\"Times,serif\" font-size=\"14.00\">data &#45;1.4720</text>\n<polyline fill=\"none\" stroke=\"black\" points=\"1665,-368.5 1665,-404.5 \"/>\n<text text-anchor=\"middle\" x=\"1706\" y=\"-382.8\" font-family=\"Times,serif\" font-size=\"14.00\">grad 0.0000</text>\n</g>\n<!-- 139521640737584&#45;&gt;139521640737392+ -->\n<g id=\"edge166\" class=\"edge\">\n<title>139521640737584&#45;&gt;139521640737392+</title>\n<path fill=\"none\" stroke=\"black\" d=\"M1717.79,-404.52C1737.39,-410.11 1758.23,-416.04 1775.03,-420.83\"/>\n<polygon fill=\"black\" stroke=\"black\" points=\"1774.35,-424.27 1784.93,-423.64 1776.27,-417.54 1774.35,-424.27\"/>\n</g>\n<!-- 139521640737584+ -->\n<g id=\"node46\" class=\"node\">\n<title>139521640737584+</title>\n<ellipse fill=\"none\" stroke=\"black\" cx=\"1497\" cy=\"-386.5\" rx=\"27\" ry=\"18\"/>\n<text text-anchor=\"middle\" x=\"1497\" y=\"-382.8\" font-family=\"Times,serif\" font-size=\"14.00\">+</text>\n</g>\n<!-- 139521640737584+&#45;&gt;139521640737584 -->\n<g id=\"edge21\" class=\"edge\">\n<title>139521640737584+&#45;&gt;139521640737584</title>\n<path fill=\"none\" stroke=\"black\" d=\"M1524.21,-386.5C1531.73,-386.5 1540.43,-386.5 1549.67,-386.5\"/>\n<polygon fill=\"black\" stroke=\"black\" points=\"1549.89,-390 1559.89,-386.5 1549.89,-383 1549.89,-390\"/>\n</g>\n<!-- 139521640827824 -->\n<g id=\"node47\" class=\"node\">\n<title>139521640827824</title>\n<polygon fill=\"none\" stroke=\"black\" points=\"1875.5,-522.5 1875.5,-558.5 2057.5,-558.5 2057.5,-522.5 1875.5,-522.5\"/>\n<text text-anchor=\"middle\" x=\"1885.5\" y=\"-536.8\" font-family=\"Times,serif\" font-size=\"14.00\"> </text>\n<polyline fill=\"none\" stroke=\"black\" points=\"1895.5,-522.5 1895.5,-558.5 \"/>\n<text text-anchor=\"middle\" x=\"1935.5\" y=\"-536.8\" font-family=\"Times,serif\" font-size=\"14.00\">data 0.0928</text>\n<polyline fill=\"none\" stroke=\"black\" points=\"1975.5,-522.5 1975.5,-558.5 \"/>\n<text text-anchor=\"middle\" x=\"2016.5\" y=\"-536.8\" font-family=\"Times,serif\" font-size=\"14.00\">grad 0.0000</text>\n</g>\n<!-- 139521640828016+ -->\n<g id=\"node53\" class=\"node\">\n<title>139521640828016+</title>\n<ellipse fill=\"none\" stroke=\"black\" cx=\"2123\" cy=\"-540.5\" rx=\"27\" ry=\"18\"/>\n<text text-anchor=\"middle\" x=\"2123\" y=\"-536.8\" font-family=\"Times,serif\" font-size=\"14.00\">+</text>\n</g>\n<!-- 139521640827824&#45;&gt;139521640828016+ -->\n<g id=\"edge201\" class=\"edge\">\n<title>139521640827824&#45;&gt;139521640828016+</title>\n<path fill=\"none\" stroke=\"black\" d=\"M2057.82,-540.5C2067.57,-540.5 2077.04,-540.5 2085.57,-540.5\"/>\n<polygon fill=\"black\" stroke=\"black\" points=\"2085.83,-544 2095.83,-540.5 2085.83,-537 2085.83,-544\"/>\n</g>\n<!-- 139521640827824* -->\n<g id=\"node48\" class=\"node\">\n<title>139521640827824*</title>\n<ellipse fill=\"none\" stroke=\"black\" cx=\"1810\" cy=\"-565.5\" rx=\"27\" ry=\"18\"/>\n<text text-anchor=\"middle\" x=\"1810\" y=\"-561.8\" font-family=\"Times,serif\" font-size=\"14.00\">*</text>\n</g>\n<!-- 139521640827824*&#45;&gt;139521640827824 -->\n<g id=\"edge22\" class=\"edge\">\n<title>139521640827824*&#45;&gt;139521640827824</title>\n<path fill=\"none\" stroke=\"black\" d=\"M1836.51,-561.37C1844.83,-560.03 1854.62,-558.44 1865.03,-556.76\"/>\n<polygon fill=\"black\" stroke=\"black\" points=\"1865.87,-560.17 1875.18,-555.11 1864.75,-553.26 1865.87,-560.17\"/>\n</g>\n<!-- 139521640737728 -->\n<g id=\"node49\" class=\"node\">\n<title>139521640737728</title>\n<polygon fill=\"none\" stroke=\"black\" points=\"1247,-478.5 1247,-514.5 1434,-514.5 1434,-478.5 1247,-478.5\"/>\n<text text-anchor=\"middle\" x=\"1257\" y=\"-492.8\" font-family=\"Times,serif\" font-size=\"14.00\"> </text>\n<polyline fill=\"none\" stroke=\"black\" points=\"1267,-478.5 1267,-514.5 \"/>\n<text text-anchor=\"middle\" x=\"1309.5\" y=\"-492.8\" font-family=\"Times,serif\" font-size=\"14.00\">data &#45;1.0000</text>\n<polyline fill=\"none\" stroke=\"black\" points=\"1352,-478.5 1352,-514.5 \"/>\n<text text-anchor=\"middle\" x=\"1393\" y=\"-492.8\" font-family=\"Times,serif\" font-size=\"14.00\">grad 0.0000</text>\n</g>\n<!-- 139521640737776* -->\n<g id=\"node51\" class=\"node\">\n<title>139521640737776*</title>\n<ellipse fill=\"none\" stroke=\"black\" cx=\"1497\" cy=\"-441.5\" rx=\"27\" ry=\"18\"/>\n<text text-anchor=\"middle\" x=\"1497\" y=\"-437.8\" font-family=\"Times,serif\" font-size=\"14.00\">*</text>\n</g>\n<!-- 139521640737728&#45;&gt;139521640737776* -->\n<g id=\"edge130\" class=\"edge\">\n<title>139521640737728&#45;&gt;139521640737776*</title>\n<path fill=\"none\" stroke=\"black\" d=\"M1407.56,-478.45C1416.51,-475.64 1425.53,-472.63 1434,-469.5 1444.49,-465.62 1455.71,-460.78 1465.68,-456.22\"/>\n<polygon fill=\"black\" stroke=\"black\" points=\"1467.2,-459.37 1474.79,-451.97 1464.25,-453.02 1467.2,-459.37\"/>\n</g>\n<!-- 139521640737776 -->\n<g id=\"node50\" class=\"node\">\n<title>139521640737776</title>\n<polygon fill=\"none\" stroke=\"black\" points=\"1562.5,-423.5 1562.5,-459.5 1744.5,-459.5 1744.5,-423.5 1562.5,-423.5\"/>\n<text text-anchor=\"middle\" x=\"1572.5\" y=\"-437.8\" font-family=\"Times,serif\" font-size=\"14.00\"> </text>\n<polyline fill=\"none\" stroke=\"black\" points=\"1582.5,-423.5 1582.5,-459.5 \"/>\n<text text-anchor=\"middle\" x=\"1622.5\" y=\"-437.8\" font-family=\"Times,serif\" font-size=\"14.00\">data 0.2048</text>\n<polyline fill=\"none\" stroke=\"black\" points=\"1662.5,-423.5 1662.5,-459.5 \"/>\n<text text-anchor=\"middle\" x=\"1703.5\" y=\"-437.8\" font-family=\"Times,serif\" font-size=\"14.00\">grad 0.0000</text>\n</g>\n<!-- 139521640737776&#45;&gt;139521640737392+ -->\n<g id=\"edge107\" class=\"edge\">\n<title>139521640737776&#45;&gt;139521640737392+</title>\n<path fill=\"none\" stroke=\"black\" d=\"M1744.82,-435.07C1754.77,-434.36 1764.43,-433.67 1773.1,-433.06\"/>\n<polygon fill=\"black\" stroke=\"black\" points=\"1773.41,-436.54 1783.14,-432.34 1772.91,-429.56 1773.41,-436.54\"/>\n</g>\n<!-- 139521640737776*&#45;&gt;139521640737776 -->\n<g id=\"edge23\" class=\"edge\">\n<title>139521640737776*&#45;&gt;139521640737776</title>\n<path fill=\"none\" stroke=\"black\" d=\"M1524.21,-441.5C1532.34,-441.5 1541.85,-441.5 1551.94,-441.5\"/>\n<polygon fill=\"black\" stroke=\"black\" points=\"1552.19,-445 1562.19,-441.5 1552.19,-438 1552.19,-445\"/>\n</g>\n<!-- 139521640828016 -->\n<g id=\"node52\" class=\"node\">\n<title>139521640828016</title>\n<polygon fill=\"none\" stroke=\"black\" points=\"2188.5,-577.5 2188.5,-613.5 2370.5,-613.5 2370.5,-577.5 2188.5,-577.5\"/>\n<text text-anchor=\"middle\" x=\"2198.5\" y=\"-591.8\" font-family=\"Times,serif\" font-size=\"14.00\"> </text>\n<polyline fill=\"none\" stroke=\"black\" points=\"2208.5,-577.5 2208.5,-613.5 \"/>\n<text text-anchor=\"middle\" x=\"2248.5\" y=\"-591.8\" font-family=\"Times,serif\" font-size=\"14.00\">data 0.1684</text>\n<polyline fill=\"none\" stroke=\"black\" points=\"2288.5,-577.5 2288.5,-613.5 \"/>\n<text text-anchor=\"middle\" x=\"2329.5\" y=\"-591.8\" font-family=\"Times,serif\" font-size=\"14.00\">grad 0.0000</text>\n</g>\n<!-- 139521640828400+ -->\n<g id=\"node70\" class=\"node\">\n<title>139521640828400+</title>\n<ellipse fill=\"none\" stroke=\"black\" cx=\"2436\" cy=\"-602.5\" rx=\"27\" ry=\"18\"/>\n<text text-anchor=\"middle\" x=\"2436\" y=\"-598.8\" font-family=\"Times,serif\" font-size=\"14.00\">+</text>\n</g>\n<!-- 139521640828016&#45;&gt;139521640828400+ -->\n<g id=\"edge112\" class=\"edge\">\n<title>139521640828016&#45;&gt;139521640828400+</title>\n<path fill=\"none\" stroke=\"black\" d=\"M2370.82,-599.59C2380.57,-600.03 2390.04,-600.46 2398.57,-600.85\"/>\n<polygon fill=\"black\" stroke=\"black\" points=\"2398.68,-604.36 2408.83,-601.31 2399,-597.37 2398.68,-604.36\"/>\n</g>\n<!-- 139521640828016+&#45;&gt;139521640828016 -->\n<g id=\"edge24\" class=\"edge\">\n<title>139521640828016+&#45;&gt;139521640828016</title>\n<path fill=\"none\" stroke=\"black\" d=\"M2145.21,-550.97C2157.05,-556.59 2172.15,-563.38 2186,-568.5 2191.43,-570.51 2197.08,-572.46 2202.79,-574.35\"/>\n<polygon fill=\"black\" stroke=\"black\" points=\"2201.85,-577.72 2212.44,-577.45 2203.99,-571.06 2201.85,-577.72\"/>\n</g>\n<!-- 139521640737920 -->\n<g id=\"node54\" class=\"node\">\n<title>139521640737920</title>\n<polygon fill=\"none\" stroke=\"black\" points=\"1247,-368.5 1247,-404.5 1434,-404.5 1434,-368.5 1247,-368.5\"/>\n<text text-anchor=\"middle\" x=\"1257\" y=\"-382.8\" font-family=\"Times,serif\" font-size=\"14.00\"> </text>\n<polyline fill=\"none\" stroke=\"black\" points=\"1267,-368.5 1267,-404.5 \"/>\n<text text-anchor=\"middle\" x=\"1309.5\" y=\"-382.8\" font-family=\"Times,serif\" font-size=\"14.00\">data &#45;2.1103</text>\n<polyline fill=\"none\" stroke=\"black\" points=\"1352,-368.5 1352,-404.5 \"/>\n<text text-anchor=\"middle\" x=\"1393\" y=\"-382.8\" font-family=\"Times,serif\" font-size=\"14.00\">grad 0.0000</text>\n</g>\n<!-- 139521640737920&#45;&gt;139521640737584+ -->\n<g id=\"edge110\" class=\"edge\">\n<title>139521640737920&#45;&gt;139521640737584+</title>\n<path fill=\"none\" stroke=\"black\" d=\"M1434.05,-386.5C1443.06,-386.5 1451.79,-386.5 1459.7,-386.5\"/>\n<polygon fill=\"black\" stroke=\"black\" points=\"1459.95,-390 1469.95,-386.5 1459.95,-383 1459.95,-390\"/>\n</g>\n<!-- 139521640737920*&#45;&gt;139521640737920 -->\n<g id=\"edge25\" class=\"edge\">\n<title>139521640737920*&#45;&gt;139521640737920</title>\n<path fill=\"none\" stroke=\"black\" d=\"M1211.21,-386.5C1218.73,-386.5 1227.43,-386.5 1236.67,-386.5\"/>\n<polygon fill=\"black\" stroke=\"black\" points=\"1236.89,-390 1246.89,-386.5 1236.89,-383 1236.89,-390\"/>\n</g>\n<!-- 139521640729808 -->\n<g id=\"node56\" class=\"node\">\n<title>139521640729808</title>\n<polygon fill=\"none\" stroke=\"black\" points=\"2186,-907.5 2186,-943.5 2373,-943.5 2373,-907.5 2186,-907.5\"/>\n<text text-anchor=\"middle\" x=\"2196\" y=\"-921.8\" font-family=\"Times,serif\" font-size=\"14.00\"> </text>\n<polyline fill=\"none\" stroke=\"black\" points=\"2206,-907.5 2206,-943.5 \"/>\n<text text-anchor=\"middle\" x=\"2248.5\" y=\"-921.8\" font-family=\"Times,serif\" font-size=\"14.00\">data &#45;0.7458</text>\n<polyline fill=\"none\" stroke=\"black\" points=\"2291,-907.5 2291,-943.5 \"/>\n<text text-anchor=\"middle\" x=\"2332\" y=\"-921.8\" font-family=\"Times,serif\" font-size=\"14.00\">grad 0.0000</text>\n</g>\n<!-- 139521640729808&#45;&gt;139521640826672+ -->\n<g id=\"edge153\" class=\"edge\">\n<title>139521640729808&#45;&gt;139521640826672+</title>\n<path fill=\"none\" stroke=\"black\" d=\"M2346.56,-907.45C2355.51,-904.64 2364.53,-901.63 2373,-898.5 2383.49,-894.62 2394.71,-889.78 2404.68,-885.22\"/>\n<polygon fill=\"black\" stroke=\"black\" points=\"2406.2,-888.37 2413.79,-880.97 2403.25,-882.02 2406.2,-888.37\"/>\n</g>\n<!-- 139521640729808+ -->\n<g id=\"node57\" class=\"node\">\n<title>139521640729808+</title>\n<ellipse fill=\"none\" stroke=\"black\" cx=\"2123\" cy=\"-925.5\" rx=\"27\" ry=\"18\"/>\n<text text-anchor=\"middle\" x=\"2123\" y=\"-921.8\" font-family=\"Times,serif\" font-size=\"14.00\">+</text>\n</g>\n<!-- 139521640729808+&#45;&gt;139521640729808 -->\n<g id=\"edge26\" class=\"edge\">\n<title>139521640729808+&#45;&gt;139521640729808</title>\n<path fill=\"none\" stroke=\"black\" d=\"M2150.21,-925.5C2157.73,-925.5 2166.43,-925.5 2175.67,-925.5\"/>\n<polygon fill=\"black\" stroke=\"black\" points=\"2175.89,-929 2185.89,-925.5 2175.89,-922 2175.89,-929\"/>\n</g>\n<!-- 139521640738064 -->\n<g id=\"node58\" class=\"node\">\n<title>139521640738064</title>\n<polygon fill=\"none\" stroke=\"black\" points=\"936.5,-313.5 936.5,-349.5 1118.5,-349.5 1118.5,-313.5 936.5,-313.5\"/>\n<text text-anchor=\"middle\" x=\"946.5\" y=\"-327.8\" font-family=\"Times,serif\" font-size=\"14.00\"> </text>\n<polyline fill=\"none\" stroke=\"black\" points=\"956.5,-313.5 956.5,-349.5 \"/>\n<text text-anchor=\"middle\" x=\"996.5\" y=\"-327.8\" font-family=\"Times,serif\" font-size=\"14.00\">data 1.2191</text>\n<polyline fill=\"none\" stroke=\"black\" points=\"1036.5,-313.5 1036.5,-349.5 \"/>\n<text text-anchor=\"middle\" x=\"1077.5\" y=\"-327.8\" font-family=\"Times,serif\" font-size=\"14.00\">grad 0.0000</text>\n</g>\n<!-- 139521640738256+ -->\n<g id=\"node68\" class=\"node\">\n<title>139521640738256+</title>\n<ellipse fill=\"none\" stroke=\"black\" cx=\"1184\" cy=\"-331.5\" rx=\"27\" ry=\"18\"/>\n<text text-anchor=\"middle\" x=\"1184\" y=\"-327.8\" font-family=\"Times,serif\" font-size=\"14.00\">+</text>\n</g>\n<!-- 139521640738064&#45;&gt;139521640738256+ -->\n<g id=\"edge88\" class=\"edge\">\n<title>139521640738064&#45;&gt;139521640738256+</title>\n<path fill=\"none\" stroke=\"black\" d=\"M1118.82,-331.5C1128.57,-331.5 1138.04,-331.5 1146.57,-331.5\"/>\n<polygon fill=\"black\" stroke=\"black\" points=\"1146.83,-335 1156.83,-331.5 1146.83,-328 1146.83,-335\"/>\n</g>\n<!-- 139521640738064* -->\n<g id=\"node59\" class=\"node\">\n<title>139521640738064*</title>\n<ellipse fill=\"none\" stroke=\"black\" cx=\"871\" cy=\"-331.5\" rx=\"27\" ry=\"18\"/>\n<text text-anchor=\"middle\" x=\"871\" y=\"-327.8\" font-family=\"Times,serif\" font-size=\"14.00\">*</text>\n</g>\n<!-- 139521640738064*&#45;&gt;139521640738064 -->\n<g id=\"edge27\" class=\"edge\">\n<title>139521640738064*&#45;&gt;139521640738064</title>\n<path fill=\"none\" stroke=\"black\" d=\"M898.21,-331.5C906.34,-331.5 915.85,-331.5 925.94,-331.5\"/>\n<polygon fill=\"black\" stroke=\"black\" points=\"926.19,-335 936.19,-331.5 926.19,-328 926.19,-335\"/>\n</g>\n<!-- 139521640828208 -->\n<g id=\"node60\" class=\"node\">\n<title>139521640828208</title>\n<polygon fill=\"none\" stroke=\"black\" points=\"2188.5,-632.5 2188.5,-668.5 2370.5,-668.5 2370.5,-632.5 2188.5,-632.5\"/>\n<text text-anchor=\"middle\" x=\"2198.5\" y=\"-646.8\" font-family=\"Times,serif\" font-size=\"14.00\"> </text>\n<polyline fill=\"none\" stroke=\"black\" points=\"2208.5,-632.5 2208.5,-668.5 \"/>\n<text text-anchor=\"middle\" x=\"2248.5\" y=\"-646.8\" font-family=\"Times,serif\" font-size=\"14.00\">data 0.5088</text>\n<polyline fill=\"none\" stroke=\"black\" points=\"2288.5,-632.5 2288.5,-668.5 \"/>\n<text text-anchor=\"middle\" x=\"2329.5\" y=\"-646.8\" font-family=\"Times,serif\" font-size=\"14.00\">grad 0.0000</text>\n</g>\n<!-- 139521640828208&#45;&gt;139521640828400+ -->\n<g id=\"edge76\" class=\"edge\">\n<title>139521640828208&#45;&gt;139521640828400+</title>\n<path fill=\"none\" stroke=\"black\" d=\"M2343.8,-632.41C2353.6,-629.5 2363.59,-626.47 2373,-623.5 2382.47,-620.51 2392.7,-617.12 2402.07,-613.94\"/>\n<polygon fill=\"black\" stroke=\"black\" points=\"2403.49,-617.16 2411.82,-610.61 2401.22,-610.53 2403.49,-617.16\"/>\n</g>\n<!-- 139521640828208* -->\n<g id=\"node61\" class=\"node\">\n<title>139521640828208*</title>\n<ellipse fill=\"none\" stroke=\"black\" cx=\"2123\" cy=\"-650.5\" rx=\"27\" ry=\"18\"/>\n<text text-anchor=\"middle\" x=\"2123\" y=\"-646.8\" font-family=\"Times,serif\" font-size=\"14.00\">*</text>\n</g>\n<!-- 139521640828208*&#45;&gt;139521640828208 -->\n<g id=\"edge28\" class=\"edge\">\n<title>139521640828208*&#45;&gt;139521640828208</title>\n<path fill=\"none\" stroke=\"black\" d=\"M2150.21,-650.5C2158.34,-650.5 2167.85,-650.5 2177.94,-650.5\"/>\n<polygon fill=\"black\" stroke=\"black\" points=\"2178.19,-654 2188.19,-650.5 2178.19,-647 2178.19,-654\"/>\n</g>\n<!-- 139521640738112 -->\n<g id=\"node62\" class=\"node\">\n<title>139521640738112</title>\n<polygon fill=\"none\" stroke=\"black\" points=\"623.5,-341.5 623.5,-377.5 805.5,-377.5 805.5,-341.5 623.5,-341.5\"/>\n<text text-anchor=\"middle\" x=\"633.5\" y=\"-355.8\" font-family=\"Times,serif\" font-size=\"14.00\"> </text>\n<polyline fill=\"none\" stroke=\"black\" points=\"643.5,-341.5 643.5,-377.5 \"/>\n<text text-anchor=\"middle\" x=\"683.5\" y=\"-355.8\" font-family=\"Times,serif\" font-size=\"14.00\">data 2.0000</text>\n<polyline fill=\"none\" stroke=\"black\" points=\"723.5,-341.5 723.5,-377.5 \"/>\n<text text-anchor=\"middle\" x=\"764.5\" y=\"-355.8\" font-family=\"Times,serif\" font-size=\"14.00\">grad 0.0000</text>\n</g>\n<!-- 139521640738112&#45;&gt;139521640738064* -->\n<g id=\"edge176\" class=\"edge\">\n<title>139521640738112&#45;&gt;139521640738064*</title>\n<path fill=\"none\" stroke=\"black\" d=\"M805.82,-343.13C816.07,-341.27 826.01,-339.47 834.88,-337.87\"/>\n<polygon fill=\"black\" stroke=\"black\" points=\"835.54,-341.3 844.75,-336.08 834.29,-334.42 835.54,-341.3\"/>\n</g>\n<!-- 139521640729904 -->\n<g id=\"node63\" class=\"node\">\n<title>139521640729904</title>\n<polygon fill=\"none\" stroke=\"black\" points=\"3751,-448.5 3751,-484.5 3938,-484.5 3938,-448.5 3751,-448.5\"/>\n<text text-anchor=\"middle\" x=\"3761\" y=\"-462.8\" font-family=\"Times,serif\" font-size=\"14.00\"> </text>\n<polyline fill=\"none\" stroke=\"black\" points=\"3771,-448.5 3771,-484.5 \"/>\n<text text-anchor=\"middle\" x=\"3813.5\" y=\"-462.8\" font-family=\"Times,serif\" font-size=\"14.00\">data &#45;0.1507</text>\n<polyline fill=\"none\" stroke=\"black\" points=\"3856,-448.5 3856,-484.5 \"/>\n<text text-anchor=\"middle\" x=\"3897\" y=\"-462.8\" font-family=\"Times,serif\" font-size=\"14.00\">grad 0.0000</text>\n</g>\n<!-- 139521640831472+ -->\n<g id=\"node161\" class=\"node\">\n<title>139521640831472+</title>\n<ellipse fill=\"none\" stroke=\"black\" cx=\"4065\" cy=\"-412.5\" rx=\"27\" ry=\"18\"/>\n<text text-anchor=\"middle\" x=\"4065\" y=\"-408.8\" font-family=\"Times,serif\" font-size=\"14.00\">+</text>\n</g>\n<!-- 139521640729904&#45;&gt;139521640831472+ -->\n<g id=\"edge152\" class=\"edge\">\n<title>139521640729904&#45;&gt;139521640831472+</title>\n<path fill=\"none\" stroke=\"black\" d=\"M3918.56,-448.44C3956.07,-439.17 4000,-428.32 4029.68,-420.98\"/>\n<polygon fill=\"black\" stroke=\"black\" points=\"4030.69,-424.34 4039.55,-418.54 4029.01,-417.54 4030.69,-424.34\"/>\n</g>\n<!-- 139521640729952 -->\n<g id=\"node64\" class=\"node\">\n<title>139521640729952</title>\n<polygon fill=\"none\" stroke=\"black\" points=\"3440.5,-227.5 3440.5,-263.5 3622.5,-263.5 3622.5,-227.5 3440.5,-227.5\"/>\n<text text-anchor=\"middle\" x=\"3450.5\" y=\"-241.8\" font-family=\"Times,serif\" font-size=\"14.00\"> </text>\n<polyline fill=\"none\" stroke=\"black\" points=\"3460.5,-227.5 3460.5,-263.5 \"/>\n<text text-anchor=\"middle\" x=\"3500.5\" y=\"-241.8\" font-family=\"Times,serif\" font-size=\"14.00\">data 0.1010</text>\n<polyline fill=\"none\" stroke=\"black\" points=\"3540.5,-227.5 3540.5,-263.5 \"/>\n<text text-anchor=\"middle\" x=\"3581.5\" y=\"-241.8\" font-family=\"Times,serif\" font-size=\"14.00\">grad 0.0000</text>\n</g>\n<!-- 139521640832432* -->\n<g id=\"node187\" class=\"node\">\n<title>139521640832432*</title>\n<ellipse fill=\"none\" stroke=\"black\" cx=\"3688\" cy=\"-245.5\" rx=\"27\" ry=\"18\"/>\n<text text-anchor=\"middle\" x=\"3688\" y=\"-241.8\" font-family=\"Times,serif\" font-size=\"14.00\">*</text>\n</g>\n<!-- 139521640729952&#45;&gt;139521640832432* -->\n<g id=\"edge119\" class=\"edge\">\n<title>139521640729952&#45;&gt;139521640832432*</title>\n<path fill=\"none\" stroke=\"black\" d=\"M3622.82,-245.5C3632.57,-245.5 3642.04,-245.5 3650.57,-245.5\"/>\n<polygon fill=\"black\" stroke=\"black\" points=\"3650.83,-249 3660.83,-245.5 3650.83,-242 3650.83,-249\"/>\n</g>\n<!-- 139521640730000 -->\n<g id=\"node65\" class=\"node\">\n<title>139521640730000</title>\n<polygon fill=\"none\" stroke=\"black\" points=\"3438,-337.5 3438,-373.5 3625,-373.5 3625,-337.5 3438,-337.5\"/>\n<text text-anchor=\"middle\" x=\"3448\" y=\"-351.8\" font-family=\"Times,serif\" font-size=\"14.00\"> </text>\n<polyline fill=\"none\" stroke=\"black\" points=\"3458,-337.5 3458,-373.5 \"/>\n<text text-anchor=\"middle\" x=\"3500.5\" y=\"-351.8\" font-family=\"Times,serif\" font-size=\"14.00\">data &#45;0.6491</text>\n<polyline fill=\"none\" stroke=\"black\" points=\"3543,-337.5 3543,-373.5 \"/>\n<text text-anchor=\"middle\" x=\"3584\" y=\"-351.8\" font-family=\"Times,serif\" font-size=\"14.00\">grad 0.0000</text>\n</g>\n<!-- 139521640832048* -->\n<g id=\"node177\" class=\"node\">\n<title>139521640832048*</title>\n<ellipse fill=\"none\" stroke=\"black\" cx=\"3688\" cy=\"-353.5\" rx=\"27\" ry=\"18\"/>\n<text text-anchor=\"middle\" x=\"3688\" y=\"-349.8\" font-family=\"Times,serif\" font-size=\"14.00\">*</text>\n</g>\n<!-- 139521640730000&#45;&gt;139521640832048* -->\n<g id=\"edge99\" class=\"edge\">\n<title>139521640730000&#45;&gt;139521640832048*</title>\n<path fill=\"none\" stroke=\"black\" d=\"M3625.05,-354.3C3634.06,-354.19 3642.79,-354.07 3650.7,-353.97\"/>\n<polygon fill=\"black\" stroke=\"black\" points=\"3651,-357.47 3660.95,-353.84 3650.91,-350.47 3651,-357.47\"/>\n</g>\n<!-- 139521640730048 -->\n<g id=\"node66\" class=\"node\">\n<title>139521640730048</title>\n<polygon fill=\"none\" stroke=\"black\" points=\"3438,-502.5 3438,-538.5 3625,-538.5 3625,-502.5 3438,-502.5\"/>\n<text text-anchor=\"middle\" x=\"3448\" y=\"-516.8\" font-family=\"Times,serif\" font-size=\"14.00\"> </text>\n<polyline fill=\"none\" stroke=\"black\" points=\"3458,-502.5 3458,-538.5 \"/>\n<text text-anchor=\"middle\" x=\"3500.5\" y=\"-516.8\" font-family=\"Times,serif\" font-size=\"14.00\">data &#45;0.3868</text>\n<polyline fill=\"none\" stroke=\"black\" points=\"3543,-502.5 3543,-538.5 \"/>\n<text text-anchor=\"middle\" x=\"3584\" y=\"-516.8\" font-family=\"Times,serif\" font-size=\"14.00\">grad 0.0000</text>\n</g>\n<!-- 139521640730048&#45;&gt;139521640831664* -->\n<g id=\"edge154\" class=\"edge\">\n<title>139521640730048&#45;&gt;139521640831664*</title>\n<path fill=\"none\" stroke=\"black\" d=\"M3625.05,-520.5C3634.06,-520.5 3642.79,-520.5 3650.7,-520.5\"/>\n<polygon fill=\"black\" stroke=\"black\" points=\"3650.95,-524 3660.95,-520.5 3650.95,-517 3650.95,-524\"/>\n</g>\n<!-- 139521640738256 -->\n<g id=\"node67\" class=\"node\">\n<title>139521640738256</title>\n<polygon fill=\"none\" stroke=\"black\" points=\"1249.5,-313.5 1249.5,-349.5 1431.5,-349.5 1431.5,-313.5 1249.5,-313.5\"/>\n<text text-anchor=\"middle\" x=\"1259.5\" y=\"-327.8\" font-family=\"Times,serif\" font-size=\"14.00\"> </text>\n<polyline fill=\"none\" stroke=\"black\" points=\"1269.5,-313.5 1269.5,-349.5 \"/>\n<text text-anchor=\"middle\" x=\"1309.5\" y=\"-327.8\" font-family=\"Times,serif\" font-size=\"14.00\">data 0.6383</text>\n<polyline fill=\"none\" stroke=\"black\" points=\"1349.5,-313.5 1349.5,-349.5 \"/>\n<text text-anchor=\"middle\" x=\"1390.5\" y=\"-327.8\" font-family=\"Times,serif\" font-size=\"14.00\">grad 0.0000</text>\n</g>\n<!-- 139521640738256&#45;&gt;139521640737584+ -->\n<g id=\"edge208\" class=\"edge\">\n<title>139521640738256&#45;&gt;139521640737584+</title>\n<path fill=\"none\" stroke=\"black\" d=\"M1407.56,-349.55C1416.51,-352.36 1425.53,-355.37 1434,-358.5 1444.49,-362.38 1455.71,-367.22 1465.68,-371.78\"/>\n<polygon fill=\"black\" stroke=\"black\" points=\"1464.25,-374.98 1474.79,-376.03 1467.2,-368.63 1464.25,-374.98\"/>\n</g>\n<!-- 139521640738256+&#45;&gt;139521640738256 -->\n<g id=\"edge29\" class=\"edge\">\n<title>139521640738256+&#45;&gt;139521640738256</title>\n<path fill=\"none\" stroke=\"black\" d=\"M1211.21,-331.5C1219.34,-331.5 1228.85,-331.5 1238.94,-331.5\"/>\n<polygon fill=\"black\" stroke=\"black\" points=\"1239.19,-335 1249.19,-331.5 1239.19,-328 1239.19,-335\"/>\n</g>\n<!-- 139521640828400 -->\n<g id=\"node69\" class=\"node\">\n<title>139521640828400</title>\n<polygon fill=\"none\" stroke=\"black\" points=\"2501.5,-584.5 2501.5,-620.5 2683.5,-620.5 2683.5,-584.5 2501.5,-584.5\"/>\n<text text-anchor=\"middle\" x=\"2511.5\" y=\"-598.8\" font-family=\"Times,serif\" font-size=\"14.00\"> </text>\n<polyline fill=\"none\" stroke=\"black\" points=\"2521.5,-584.5 2521.5,-620.5 \"/>\n<text text-anchor=\"middle\" x=\"2561.5\" y=\"-598.8\" font-family=\"Times,serif\" font-size=\"14.00\">data 0.6771</text>\n<polyline fill=\"none\" stroke=\"black\" points=\"2601.5,-584.5 2601.5,-620.5 \"/>\n<text text-anchor=\"middle\" x=\"2642.5\" y=\"-598.8\" font-family=\"Times,serif\" font-size=\"14.00\">grad 0.0000</text>\n</g>\n<!-- 139521640828784+ -->\n<g id=\"node81\" class=\"node\">\n<title>139521640828784+</title>\n<ellipse fill=\"none\" stroke=\"black\" cx=\"2749\" cy=\"-492.5\" rx=\"27\" ry=\"18\"/>\n<text text-anchor=\"middle\" x=\"2749\" y=\"-488.8\" font-family=\"Times,serif\" font-size=\"14.00\">+</text>\n</g>\n<!-- 139521640828400&#45;&gt;139521640828784+ -->\n<g id=\"edge91\" class=\"edge\">\n<title>139521640828400&#45;&gt;139521640828784+</title>\n<path fill=\"none\" stroke=\"black\" d=\"M2671.23,-584.44C2676.44,-581.85 2681.43,-578.89 2686,-575.5 2709.47,-558.11 2704,-543.51 2722,-520.5 2723.4,-518.72 2724.88,-516.91 2726.41,-515.12\"/>\n<polygon fill=\"black\" stroke=\"black\" points=\"2729.17,-517.28 2733.21,-507.49 2723.94,-512.63 2729.17,-517.28\"/>\n</g>\n<!-- 139521640828400+&#45;&gt;139521640828400 -->\n<g id=\"edge30\" class=\"edge\">\n<title>139521640828400+&#45;&gt;139521640828400</title>\n<path fill=\"none\" stroke=\"black\" d=\"M2463.21,-602.5C2471.34,-602.5 2480.85,-602.5 2490.94,-602.5\"/>\n<polygon fill=\"black\" stroke=\"black\" points=\"2491.19,-606 2501.19,-602.5 2491.19,-599 2491.19,-606\"/>\n</g>\n<!-- 139521640730144 -->\n<g id=\"node71\" class=\"node\">\n<title>139521640730144</title>\n<polygon fill=\"none\" stroke=\"black\" points=\"3438,-447.5 3438,-483.5 3625,-483.5 3625,-447.5 3438,-447.5\"/>\n<text text-anchor=\"middle\" x=\"3448\" y=\"-461.8\" font-family=\"Times,serif\" font-size=\"14.00\"> </text>\n<polyline fill=\"none\" stroke=\"black\" points=\"3458,-447.5 3458,-483.5 \"/>\n<text text-anchor=\"middle\" x=\"3500.5\" y=\"-461.8\" font-family=\"Times,serif\" font-size=\"14.00\">data &#45;0.0401</text>\n<polyline fill=\"none\" stroke=\"black\" points=\"3543,-447.5 3543,-483.5 \"/>\n<text text-anchor=\"middle\" x=\"3584\" y=\"-461.8\" font-family=\"Times,serif\" font-size=\"14.00\">grad 0.0000</text>\n</g>\n<!-- 139521640831280* -->\n<g id=\"node156\" class=\"node\">\n<title>139521640831280*</title>\n<ellipse fill=\"none\" stroke=\"black\" cx=\"3688\" cy=\"-411.5\" rx=\"27\" ry=\"18\"/>\n<text text-anchor=\"middle\" x=\"3688\" y=\"-407.8\" font-family=\"Times,serif\" font-size=\"14.00\">*</text>\n</g>\n<!-- 139521640730144&#45;&gt;139521640831280* -->\n<g id=\"edge157\" class=\"edge\">\n<title>139521640730144&#45;&gt;139521640831280*</title>\n<path fill=\"none\" stroke=\"black\" d=\"M3598.03,-447.5C3607.14,-444.66 3616.35,-441.63 3625,-438.5 3635.27,-434.78 3646.26,-430.2 3656.09,-425.88\"/>\n<polygon fill=\"black\" stroke=\"black\" points=\"3657.77,-428.96 3665.47,-421.68 3654.91,-422.57 3657.77,-428.96\"/>\n</g>\n<!-- 139521640828592 -->\n<g id=\"node72\" class=\"node\">\n<title>139521640828592</title>\n<polygon fill=\"none\" stroke=\"black\" points=\"2499,-474.5 2499,-510.5 2686,-510.5 2686,-474.5 2499,-474.5\"/>\n<text text-anchor=\"middle\" x=\"2509\" y=\"-488.8\" font-family=\"Times,serif\" font-size=\"14.00\"> </text>\n<polyline fill=\"none\" stroke=\"black\" points=\"2519,-474.5 2519,-510.5 \"/>\n<text text-anchor=\"middle\" x=\"2561.5\" y=\"-488.8\" font-family=\"Times,serif\" font-size=\"14.00\">data &#45;0.7950</text>\n<polyline fill=\"none\" stroke=\"black\" points=\"2604,-474.5 2604,-510.5 \"/>\n<text text-anchor=\"middle\" x=\"2645\" y=\"-488.8\" font-family=\"Times,serif\" font-size=\"14.00\">grad 0.0000</text>\n</g>\n<!-- 139521640828592&#45;&gt;139521640828784+ -->\n<g id=\"edge178\" class=\"edge\">\n<title>139521640828592&#45;&gt;139521640828784+</title>\n<path fill=\"none\" stroke=\"black\" d=\"M2686.05,-492.5C2695.06,-492.5 2703.79,-492.5 2711.7,-492.5\"/>\n<polygon fill=\"black\" stroke=\"black\" points=\"2711.95,-496 2721.95,-492.5 2711.95,-489 2711.95,-496\"/>\n</g>\n<!-- 139521640828592*&#45;&gt;139521640828592 -->\n<g id=\"edge31\" class=\"edge\">\n<title>139521640828592*&#45;&gt;139521640828592</title>\n<path fill=\"none\" stroke=\"black\" d=\"M2463.21,-486.69C2470.73,-487.03 2479.43,-487.42 2488.67,-487.84\"/>\n<polygon fill=\"black\" stroke=\"black\" points=\"2488.74,-491.35 2498.89,-488.3 2489.06,-484.35 2488.74,-491.35\"/>\n</g>\n<!-- 139521640730288 -->\n<g id=\"node74\" class=\"node\">\n<title>139521640730288</title>\n<polygon fill=\"none\" stroke=\"black\" points=\"1873,-907.5 1873,-943.5 2060,-943.5 2060,-907.5 1873,-907.5\"/>\n<text text-anchor=\"middle\" x=\"1883\" y=\"-921.8\" font-family=\"Times,serif\" font-size=\"14.00\"> </text>\n<polyline fill=\"none\" stroke=\"black\" points=\"1893,-907.5 1893,-943.5 \"/>\n<text text-anchor=\"middle\" x=\"1935.5\" y=\"-921.8\" font-family=\"Times,serif\" font-size=\"14.00\">data &#45;0.0888</text>\n<polyline fill=\"none\" stroke=\"black\" points=\"1978,-907.5 1978,-943.5 \"/>\n<text text-anchor=\"middle\" x=\"2019\" y=\"-921.8\" font-family=\"Times,serif\" font-size=\"14.00\">grad 0.0000</text>\n</g>\n<!-- 139521640730288&#45;&gt;139521640729808+ -->\n<g id=\"edge144\" class=\"edge\">\n<title>139521640730288&#45;&gt;139521640729808+</title>\n<path fill=\"none\" stroke=\"black\" d=\"M2060.05,-925.5C2069.06,-925.5 2077.79,-925.5 2085.7,-925.5\"/>\n<polygon fill=\"black\" stroke=\"black\" points=\"2085.95,-929 2095.95,-925.5 2085.95,-922 2085.95,-929\"/>\n</g>\n<!-- 139521640730288* -->\n<g id=\"node75\" class=\"node\">\n<title>139521640730288*</title>\n<ellipse fill=\"none\" stroke=\"black\" cx=\"1810\" cy=\"-870.5\" rx=\"27\" ry=\"18\"/>\n<text text-anchor=\"middle\" x=\"1810\" y=\"-866.8\" font-family=\"Times,serif\" font-size=\"14.00\">*</text>\n</g>\n<!-- 139521640730288*&#45;&gt;139521640730288 -->\n<g id=\"edge32\" class=\"edge\">\n<title>139521640730288*&#45;&gt;139521640730288</title>\n<path fill=\"none\" stroke=\"black\" d=\"M1832.21,-880.97C1844.05,-886.59 1859.15,-893.38 1873,-898.5 1878.43,-900.51 1884.08,-902.46 1889.79,-904.35\"/>\n<polygon fill=\"black\" stroke=\"black\" points=\"1888.85,-907.72 1899.44,-907.45 1890.99,-901.06 1888.85,-907.72\"/>\n</g>\n<!-- 139521640730336 -->\n<g id=\"node76\" class=\"node\">\n<title>139521640730336</title>\n<polygon fill=\"none\" stroke=\"black\" points=\"1875.5,-247.5 1875.5,-283.5 2057.5,-283.5 2057.5,-247.5 1875.5,-247.5\"/>\n<text text-anchor=\"middle\" x=\"1885.5\" y=\"-261.8\" font-family=\"Times,serif\" font-size=\"14.00\"> </text>\n<polyline fill=\"none\" stroke=\"black\" points=\"1895.5,-247.5 1895.5,-283.5 \"/>\n<text text-anchor=\"middle\" x=\"1935.5\" y=\"-261.8\" font-family=\"Times,serif\" font-size=\"14.00\">data 0.6701</text>\n<polyline fill=\"none\" stroke=\"black\" points=\"1975.5,-247.5 1975.5,-283.5 \"/>\n<text text-anchor=\"middle\" x=\"2016.5\" y=\"-261.8\" font-family=\"Times,serif\" font-size=\"14.00\">grad 0.0000</text>\n</g>\n<!-- 139521640829744+ -->\n<g id=\"node112\" class=\"node\">\n<title>139521640829744+</title>\n<ellipse fill=\"none\" stroke=\"black\" cx=\"2123\" cy=\"-265.5\" rx=\"27\" ry=\"18\"/>\n<text text-anchor=\"middle\" x=\"2123\" y=\"-261.8\" font-family=\"Times,serif\" font-size=\"14.00\">+</text>\n</g>\n<!-- 139521640730336&#45;&gt;139521640829744+ -->\n<g id=\"edge93\" class=\"edge\">\n<title>139521640730336&#45;&gt;139521640829744+</title>\n<path fill=\"none\" stroke=\"black\" d=\"M2057.82,-265.5C2067.57,-265.5 2077.04,-265.5 2085.57,-265.5\"/>\n<polygon fill=\"black\" stroke=\"black\" points=\"2085.83,-269 2095.83,-265.5 2085.83,-262 2085.83,-269\"/>\n</g>\n<!-- 139521640730384 -->\n<g id=\"node77\" class=\"node\">\n<title>139521640730384</title>\n<polygon fill=\"none\" stroke=\"black\" points=\"2501.5,-89.5 2501.5,-125.5 2683.5,-125.5 2683.5,-89.5 2501.5,-89.5\"/>\n<text text-anchor=\"middle\" x=\"2511.5\" y=\"-103.8\" font-family=\"Times,serif\" font-size=\"14.00\"> </text>\n<polyline fill=\"none\" stroke=\"black\" points=\"2521.5,-89.5 2521.5,-125.5 \"/>\n<text text-anchor=\"middle\" x=\"2561.5\" y=\"-103.8\" font-family=\"Times,serif\" font-size=\"14.00\">data 0.4932</text>\n<polyline fill=\"none\" stroke=\"black\" points=\"2601.5,-89.5 2601.5,-125.5 \"/>\n<text text-anchor=\"middle\" x=\"2642.5\" y=\"-103.8\" font-family=\"Times,serif\" font-size=\"14.00\">grad 0.0000</text>\n</g>\n<!-- 139521640730384&#45;&gt;139521640830704* -->\n<g id=\"edge161\" class=\"edge\">\n<title>139521640730384&#45;&gt;139521640830704*</title>\n<path fill=\"none\" stroke=\"black\" d=\"M2660.1,-125.6C2668.88,-128.38 2677.7,-131.37 2686,-134.5 2696.62,-138.51 2707.94,-143.56 2717.96,-148.32\"/>\n<polygon fill=\"black\" stroke=\"black\" points=\"2716.59,-151.54 2727.11,-152.75 2719.64,-145.24 2716.59,-151.54\"/>\n</g>\n<!-- 139521640730432 -->\n<g id=\"node78\" class=\"node\">\n<title>139521640730432</title>\n<polygon fill=\"none\" stroke=\"black\" points=\"2186,-357.5 2186,-393.5 2373,-393.5 2373,-357.5 2186,-357.5\"/>\n<text text-anchor=\"middle\" x=\"2196\" y=\"-371.8\" font-family=\"Times,serif\" font-size=\"14.00\"> </text>\n<polyline fill=\"none\" stroke=\"black\" points=\"2206,-357.5 2206,-393.5 \"/>\n<text text-anchor=\"middle\" x=\"2248.5\" y=\"-371.8\" font-family=\"Times,serif\" font-size=\"14.00\">data &#45;0.8348</text>\n<polyline fill=\"none\" stroke=\"black\" points=\"2291,-357.5 2291,-393.5 \"/>\n<text text-anchor=\"middle\" x=\"2332\" y=\"-371.8\" font-family=\"Times,serif\" font-size=\"14.00\">grad 0.0000</text>\n</g>\n<!-- 139521640730432&#45;&gt;139521640830320* -->\n<g id=\"edge136\" class=\"edge\">\n<title>139521640730432&#45;&gt;139521640830320*</title>\n<path fill=\"none\" stroke=\"black\" d=\"M2373.05,-375.5C2382.06,-375.5 2390.79,-375.5 2398.7,-375.5\"/>\n<polygon fill=\"black\" stroke=\"black\" points=\"2398.95,-379 2408.95,-375.5 2398.95,-372 2398.95,-379\"/>\n</g>\n<!-- 139521640730480 -->\n<g id=\"node79\" class=\"node\">\n<title>139521640730480</title>\n<polygon fill=\"none\" stroke=\"black\" points=\"1875.5,-357.5 1875.5,-393.5 2057.5,-393.5 2057.5,-357.5 1875.5,-357.5\"/>\n<text text-anchor=\"middle\" x=\"1885.5\" y=\"-371.8\" font-family=\"Times,serif\" font-size=\"14.00\"> </text>\n<polyline fill=\"none\" stroke=\"black\" points=\"1895.5,-357.5 1895.5,-393.5 \"/>\n<text text-anchor=\"middle\" x=\"1935.5\" y=\"-371.8\" font-family=\"Times,serif\" font-size=\"14.00\">data 0.3682</text>\n<polyline fill=\"none\" stroke=\"black\" points=\"1975.5,-357.5 1975.5,-393.5 \"/>\n<text text-anchor=\"middle\" x=\"2016.5\" y=\"-371.8\" font-family=\"Times,serif\" font-size=\"14.00\">grad 0.0000</text>\n</g>\n<!-- 139521640829936* -->\n<g id=\"node115\" class=\"node\">\n<title>139521640829936*</title>\n<ellipse fill=\"none\" stroke=\"black\" cx=\"2123\" cy=\"-375.5\" rx=\"27\" ry=\"18\"/>\n<text text-anchor=\"middle\" x=\"2123\" y=\"-371.8\" font-family=\"Times,serif\" font-size=\"14.00\">*</text>\n</g>\n<!-- 139521640730480&#45;&gt;139521640829936* -->\n<g id=\"edge121\" class=\"edge\">\n<title>139521640730480&#45;&gt;139521640829936*</title>\n<path fill=\"none\" stroke=\"black\" d=\"M2057.82,-375.5C2067.57,-375.5 2077.04,-375.5 2085.57,-375.5\"/>\n<polygon fill=\"black\" stroke=\"black\" points=\"2085.83,-379 2095.83,-375.5 2085.83,-372 2085.83,-379\"/>\n</g>\n<!-- 139521640828784 -->\n<g id=\"node80\" class=\"node\">\n<title>139521640828784</title>\n<polygon fill=\"none\" stroke=\"black\" points=\"2812,-474.5 2812,-510.5 2999,-510.5 2999,-474.5 2812,-474.5\"/>\n<text text-anchor=\"middle\" x=\"2822\" y=\"-488.8\" font-family=\"Times,serif\" font-size=\"14.00\"> </text>\n<polyline fill=\"none\" stroke=\"black\" points=\"2832,-474.5 2832,-510.5 \"/>\n<text text-anchor=\"middle\" x=\"2874.5\" y=\"-488.8\" font-family=\"Times,serif\" font-size=\"14.00\">data &#45;0.1179</text>\n<polyline fill=\"none\" stroke=\"black\" points=\"2917,-474.5 2917,-510.5 \"/>\n<text text-anchor=\"middle\" x=\"2958\" y=\"-488.8\" font-family=\"Times,serif\" font-size=\"14.00\">grad 0.0000</text>\n</g>\n<!-- 139521640829168+ -->\n<g id=\"node94\" class=\"node\">\n<title>139521640829168+</title>\n<ellipse fill=\"none\" stroke=\"black\" cx=\"3062\" cy=\"-300.5\" rx=\"27\" ry=\"18\"/>\n<text text-anchor=\"middle\" x=\"3062\" y=\"-296.8\" font-family=\"Times,serif\" font-size=\"14.00\">+</text>\n</g>\n<!-- 139521640828784&#45;&gt;139521640829168+ -->\n<g id=\"edge206\" class=\"edge\">\n<title>139521640828784&#45;&gt;139521640829168+</title>\n<path fill=\"none\" stroke=\"black\" d=\"M2987.32,-474.24C2991.5,-471.7 2995.44,-468.8 2999,-465.5 3009.51,-455.75 3037.86,-371.85 3052.3,-327.59\"/>\n<polygon fill=\"black\" stroke=\"black\" points=\"3055.64,-328.62 3055.4,-318.03 3048.98,-326.46 3055.64,-328.62\"/>\n</g>\n<!-- 139521640828784+&#45;&gt;139521640828784 -->\n<g id=\"edge33\" class=\"edge\">\n<title>139521640828784+&#45;&gt;139521640828784</title>\n<path fill=\"none\" stroke=\"black\" d=\"M2776.21,-492.5C2783.73,-492.5 2792.43,-492.5 2801.67,-492.5\"/>\n<polygon fill=\"black\" stroke=\"black\" points=\"2801.89,-496 2811.89,-492.5 2801.89,-489 2801.89,-496\"/>\n</g>\n<!-- 139521640730576 -->\n<g id=\"node82\" class=\"node\">\n<title>139521640730576</title>\n<polygon fill=\"none\" stroke=\"black\" points=\"1560,-309.5 1560,-345.5 1747,-345.5 1747,-309.5 1560,-309.5\"/>\n<text text-anchor=\"middle\" x=\"1570\" y=\"-323.8\" font-family=\"Times,serif\" font-size=\"14.00\"> </text>\n<polyline fill=\"none\" stroke=\"black\" points=\"1580,-309.5 1580,-345.5 \"/>\n<text text-anchor=\"middle\" x=\"1622.5\" y=\"-323.8\" font-family=\"Times,serif\" font-size=\"14.00\">data &#45;0.4985</text>\n<polyline fill=\"none\" stroke=\"black\" points=\"1665,-309.5 1665,-345.5 \"/>\n<text text-anchor=\"middle\" x=\"1706\" y=\"-323.8\" font-family=\"Times,serif\" font-size=\"14.00\">grad 0.0000</text>\n</g>\n<!-- 139521640829552* -->\n<g id=\"node107\" class=\"node\">\n<title>139521640829552*</title>\n<ellipse fill=\"none\" stroke=\"black\" cx=\"1810\" cy=\"-327.5\" rx=\"27\" ry=\"18\"/>\n<text text-anchor=\"middle\" x=\"1810\" y=\"-323.8\" font-family=\"Times,serif\" font-size=\"14.00\">*</text>\n</g>\n<!-- 139521640730576&#45;&gt;139521640829552* -->\n<g id=\"edge165\" class=\"edge\">\n<title>139521640730576&#45;&gt;139521640829552*</title>\n<path fill=\"none\" stroke=\"black\" d=\"M1747.05,-327.5C1756.06,-327.5 1764.79,-327.5 1772.7,-327.5\"/>\n<polygon fill=\"black\" stroke=\"black\" points=\"1772.95,-331 1782.95,-327.5 1772.95,-324 1772.95,-331\"/>\n</g>\n<!-- 139521640738832 -->\n<g id=\"node83\" class=\"node\">\n<title>139521640738832</title>\n<polygon fill=\"none\" stroke=\"black\" points=\"1247,-616.5 1247,-652.5 1434,-652.5 1434,-616.5 1247,-616.5\"/>\n<text text-anchor=\"middle\" x=\"1257\" y=\"-630.8\" font-family=\"Times,serif\" font-size=\"14.00\"> </text>\n<polyline fill=\"none\" stroke=\"black\" points=\"1267,-616.5 1267,-652.5 \"/>\n<text text-anchor=\"middle\" x=\"1309.5\" y=\"-630.8\" font-family=\"Times,serif\" font-size=\"14.00\">data &#45;3.1656</text>\n<polyline fill=\"none\" stroke=\"black\" points=\"1352,-616.5 1352,-652.5 \"/>\n<text text-anchor=\"middle\" x=\"1393\" y=\"-630.8\" font-family=\"Times,serif\" font-size=\"14.00\">grad 0.0000</text>\n</g>\n<!-- 139521640739504+ -->\n<g id=\"node109\" class=\"node\">\n<title>139521640739504+</title>\n<ellipse fill=\"none\" stroke=\"black\" cx=\"1497\" cy=\"-634.5\" rx=\"27\" ry=\"18\"/>\n<text text-anchor=\"middle\" x=\"1497\" y=\"-630.8\" font-family=\"Times,serif\" font-size=\"14.00\">+</text>\n</g>\n<!-- 139521640738832&#45;&gt;139521640739504+ -->\n<g id=\"edge134\" class=\"edge\">\n<title>139521640738832&#45;&gt;139521640739504+</title>\n<path fill=\"none\" stroke=\"black\" d=\"M1434.05,-634.5C1443.06,-634.5 1451.79,-634.5 1459.7,-634.5\"/>\n<polygon fill=\"black\" stroke=\"black\" points=\"1459.95,-638 1469.95,-634.5 1459.95,-631 1459.95,-638\"/>\n</g>\n<!-- 139521640738832+ -->\n<g id=\"node84\" class=\"node\">\n<title>139521640738832+</title>\n<ellipse fill=\"none\" stroke=\"black\" cx=\"1184\" cy=\"-634.5\" rx=\"27\" ry=\"18\"/>\n<text text-anchor=\"middle\" x=\"1184\" y=\"-630.8\" font-family=\"Times,serif\" font-size=\"14.00\">+</text>\n</g>\n<!-- 139521640738832+&#45;&gt;139521640738832 -->\n<g id=\"edge34\" class=\"edge\">\n<title>139521640738832+&#45;&gt;139521640738832</title>\n<path fill=\"none\" stroke=\"black\" d=\"M1211.21,-634.5C1218.73,-634.5 1227.43,-634.5 1236.67,-634.5\"/>\n<polygon fill=\"black\" stroke=\"black\" points=\"1236.89,-638 1246.89,-634.5 1236.89,-631 1236.89,-638\"/>\n</g>\n<!-- 139521640828976 -->\n<g id=\"node85\" class=\"node\">\n<title>139521640828976</title>\n<polygon fill=\"none\" stroke=\"black\" points=\"2814.5,-200.5 2814.5,-236.5 2996.5,-236.5 2996.5,-200.5 2814.5,-200.5\"/>\n<text text-anchor=\"middle\" x=\"2824.5\" y=\"-214.8\" font-family=\"Times,serif\" font-size=\"14.00\"> </text>\n<polyline fill=\"none\" stroke=\"black\" points=\"2834.5,-200.5 2834.5,-236.5 \"/>\n<text text-anchor=\"middle\" x=\"2874.5\" y=\"-214.8\" font-family=\"Times,serif\" font-size=\"14.00\">data 0.3328</text>\n<polyline fill=\"none\" stroke=\"black\" points=\"2914.5,-200.5 2914.5,-236.5 \"/>\n<text text-anchor=\"middle\" x=\"2955.5\" y=\"-214.8\" font-family=\"Times,serif\" font-size=\"14.00\">grad 0.0000</text>\n</g>\n<!-- 139521640828976&#45;&gt;139521640829168+ -->\n<g id=\"edge114\" class=\"edge\">\n<title>139521640828976&#45;&gt;139521640829168+</title>\n<path fill=\"none\" stroke=\"black\" d=\"M2979.94,-236.62C2986.54,-239.24 2993,-242.18 2999,-245.5 3014.14,-253.87 3028.74,-266.51 3039.96,-277.56\"/>\n<polygon fill=\"black\" stroke=\"black\" points=\"3037.65,-280.21 3047.16,-284.89 3042.65,-275.3 3037.65,-280.21\"/>\n</g>\n<!-- 139521640828976*&#45;&gt;139521640828976 -->\n<g id=\"edge35\" class=\"edge\">\n<title>139521640828976*&#45;&gt;139521640828976</title>\n<path fill=\"none\" stroke=\"black\" d=\"M2776.21,-217.67C2784.34,-217.72 2793.85,-217.78 2803.94,-217.85\"/>\n<polygon fill=\"black\" stroke=\"black\" points=\"2804.17,-221.35 2814.19,-217.92 2804.21,-214.35 2804.17,-221.35\"/>\n</g>\n<!-- 139521640730672 -->\n<g id=\"node87\" class=\"node\">\n<title>139521640730672</title>\n<polygon fill=\"none\" stroke=\"black\" points=\"1875.5,-467.5 1875.5,-503.5 2057.5,-503.5 2057.5,-467.5 1875.5,-467.5\"/>\n<text text-anchor=\"middle\" x=\"1885.5\" y=\"-481.8\" font-family=\"Times,serif\" font-size=\"14.00\"> </text>\n<polyline fill=\"none\" stroke=\"black\" points=\"1895.5,-467.5 1895.5,-503.5 \"/>\n<text text-anchor=\"middle\" x=\"1935.5\" y=\"-481.8\" font-family=\"Times,serif\" font-size=\"14.00\">data 0.0755</text>\n<polyline fill=\"none\" stroke=\"black\" points=\"1975.5,-467.5 1975.5,-503.5 \"/>\n<text text-anchor=\"middle\" x=\"2016.5\" y=\"-481.8\" font-family=\"Times,serif\" font-size=\"14.00\">grad 0.0000</text>\n</g>\n<!-- 139521640730672&#45;&gt;139521640828016+ -->\n<g id=\"edge122\" class=\"edge\">\n<title>139521640730672&#45;&gt;139521640828016+</title>\n<path fill=\"none\" stroke=\"black\" d=\"M2031.02,-503.65C2040.79,-506.76 2050.71,-510.08 2060,-513.5 2070.25,-517.27 2081.23,-521.86 2091.07,-526.18\"/>\n<polygon fill=\"black\" stroke=\"black\" points=\"2089.89,-529.49 2100.45,-530.37 2092.74,-523.1 2089.89,-529.49\"/>\n</g>\n<!-- 139521640730720 -->\n<g id=\"node88\" class=\"node\">\n<title>139521640730720</title>\n<polygon fill=\"none\" stroke=\"black\" points=\"2499,-144.5 2499,-180.5 2686,-180.5 2686,-144.5 2499,-144.5\"/>\n<text text-anchor=\"middle\" x=\"2509\" y=\"-158.8\" font-family=\"Times,serif\" font-size=\"14.00\"> </text>\n<polyline fill=\"none\" stroke=\"black\" points=\"2519,-144.5 2519,-180.5 \"/>\n<text text-anchor=\"middle\" x=\"2561.5\" y=\"-158.8\" font-family=\"Times,serif\" font-size=\"14.00\">data &#45;0.3483</text>\n<polyline fill=\"none\" stroke=\"black\" points=\"2604,-144.5 2604,-180.5 \"/>\n<text text-anchor=\"middle\" x=\"2645\" y=\"-158.8\" font-family=\"Times,serif\" font-size=\"14.00\">grad 0.0000</text>\n</g>\n<!-- 139521640730720&#45;&gt;139521640828976* -->\n<g id=\"edge203\" class=\"edge\">\n<title>139521640730720&#45;&gt;139521640828976*</title>\n<path fill=\"none\" stroke=\"black\" d=\"M2659.56,-180.55C2668.51,-183.36 2677.53,-186.37 2686,-189.5 2696.49,-193.38 2707.71,-198.22 2717.68,-202.78\"/>\n<polygon fill=\"black\" stroke=\"black\" points=\"2716.25,-205.98 2726.79,-207.03 2719.2,-199.63 2716.25,-205.98\"/>\n</g>\n<!-- 139521640730768 -->\n<g id=\"node89\" class=\"node\">\n<title>139521640730768</title>\n<polygon fill=\"none\" stroke=\"black\" points=\"2188.5,-412.5 2188.5,-448.5 2370.5,-448.5 2370.5,-412.5 2188.5,-412.5\"/>\n<text text-anchor=\"middle\" x=\"2198.5\" y=\"-426.8\" font-family=\"Times,serif\" font-size=\"14.00\"> </text>\n<polyline fill=\"none\" stroke=\"black\" points=\"2208.5,-412.5 2208.5,-448.5 \"/>\n<text text-anchor=\"middle\" x=\"2248.5\" y=\"-426.8\" font-family=\"Times,serif\" font-size=\"14.00\">data 0.9320</text>\n<polyline fill=\"none\" stroke=\"black\" points=\"2288.5,-412.5 2288.5,-448.5 \"/>\n<text text-anchor=\"middle\" x=\"2329.5\" y=\"-426.8\" font-family=\"Times,serif\" font-size=\"14.00\">grad 0.0000</text>\n</g>\n<!-- 139521640730768&#45;&gt;139521640828592* -->\n<g id=\"edge175\" class=\"edge\">\n<title>139521640730768&#45;&gt;139521640828592*</title>\n<path fill=\"none\" stroke=\"black\" d=\"M2344.02,-448.65C2353.79,-451.76 2363.71,-455.08 2373,-458.5 2383.25,-462.27 2394.23,-466.86 2404.07,-471.18\"/>\n<polygon fill=\"black\" stroke=\"black\" points=\"2402.89,-474.49 2413.45,-475.37 2405.74,-468.1 2402.89,-474.49\"/>\n</g>\n<!-- 139521640730816 -->\n<g id=\"node90\" class=\"node\">\n<title>139521640730816</title>\n<polygon fill=\"none\" stroke=\"black\" points=\"1873,-577.5 1873,-613.5 2060,-613.5 2060,-577.5 1873,-577.5\"/>\n<text text-anchor=\"middle\" x=\"1883\" y=\"-591.8\" font-family=\"Times,serif\" font-size=\"14.00\"> </text>\n<polyline fill=\"none\" stroke=\"black\" points=\"1893,-577.5 1893,-613.5 \"/>\n<text text-anchor=\"middle\" x=\"1935.5\" y=\"-591.8\" font-family=\"Times,serif\" font-size=\"14.00\">data &#45;0.5216</text>\n<polyline fill=\"none\" stroke=\"black\" points=\"1978,-577.5 1978,-613.5 \"/>\n<text text-anchor=\"middle\" x=\"2019\" y=\"-591.8\" font-family=\"Times,serif\" font-size=\"14.00\">grad 0.0000</text>\n</g>\n<!-- 139521640730816&#45;&gt;139521640828208* -->\n<g id=\"edge149\" class=\"edge\">\n<title>139521640730816&#45;&gt;139521640828208*</title>\n<path fill=\"none\" stroke=\"black\" d=\"M2031.02,-613.65C2040.79,-616.76 2050.71,-620.08 2060,-623.5 2070.25,-627.27 2081.23,-631.86 2091.07,-636.18\"/>\n<polygon fill=\"black\" stroke=\"black\" points=\"2089.89,-639.49 2100.45,-640.37 2092.74,-633.1 2089.89,-639.49\"/>\n</g>\n<!-- 139521640739024 -->\n<g id=\"node91\" class=\"node\">\n<title>139521640739024</title>\n<polygon fill=\"none\" stroke=\"black\" points=\"1249.5,-534.5 1249.5,-570.5 1431.5,-570.5 1431.5,-534.5 1249.5,-534.5\"/>\n<text text-anchor=\"middle\" x=\"1259.5\" y=\"-548.8\" font-family=\"Times,serif\" font-size=\"14.00\"> </text>\n<polyline fill=\"none\" stroke=\"black\" points=\"1269.5,-534.5 1269.5,-570.5 \"/>\n<text text-anchor=\"middle\" x=\"1309.5\" y=\"-548.8\" font-family=\"Times,serif\" font-size=\"14.00\">data 0.9717</text>\n<polyline fill=\"none\" stroke=\"black\" points=\"1349.5,-534.5 1349.5,-570.5 \"/>\n<text text-anchor=\"middle\" x=\"1390.5\" y=\"-548.8\" font-family=\"Times,serif\" font-size=\"14.00\">grad 0.0000</text>\n</g>\n<!-- 139521640739024&#45;&gt;139521640739504+ -->\n<g id=\"edge199\" class=\"edge\">\n<title>139521640739024&#45;&gt;139521640739504+</title>\n<path fill=\"none\" stroke=\"black\" d=\"M1375.79,-570.7C1402.87,-585.07 1440.27,-604.92 1466.13,-618.65\"/>\n<polygon fill=\"black\" stroke=\"black\" points=\"1464.62,-621.81 1475.1,-623.41 1467.91,-615.63 1464.62,-621.81\"/>\n</g>\n<!-- 139521640739024* -->\n<g id=\"node92\" class=\"node\">\n<title>139521640739024*</title>\n<ellipse fill=\"none\" stroke=\"black\" cx=\"1184\" cy=\"-551.5\" rx=\"27\" ry=\"18\"/>\n<text text-anchor=\"middle\" x=\"1184\" y=\"-547.8\" font-family=\"Times,serif\" font-size=\"14.00\">*</text>\n</g>\n<!-- 139521640739024*&#45;&gt;139521640739024 -->\n<g id=\"edge36\" class=\"edge\">\n<title>139521640739024*&#45;&gt;139521640739024</title>\n<path fill=\"none\" stroke=\"black\" d=\"M1211.21,-551.67C1219.34,-551.72 1228.85,-551.78 1238.94,-551.85\"/>\n<polygon fill=\"black\" stroke=\"black\" points=\"1239.17,-555.35 1249.19,-551.92 1239.21,-548.35 1239.17,-555.35\"/>\n</g>\n<!-- 139521640829168 -->\n<g id=\"node93\" class=\"node\">\n<title>139521640829168</title>\n<polygon fill=\"none\" stroke=\"black\" points=\"3127.5,-282.5 3127.5,-318.5 3309.5,-318.5 3309.5,-282.5 3127.5,-282.5\"/>\n<text text-anchor=\"middle\" x=\"3137.5\" y=\"-296.8\" font-family=\"Times,serif\" font-size=\"14.00\"> </text>\n<polyline fill=\"none\" stroke=\"black\" points=\"3147.5,-282.5 3147.5,-318.5 \"/>\n<text text-anchor=\"middle\" x=\"3187.5\" y=\"-296.8\" font-family=\"Times,serif\" font-size=\"14.00\">data 0.2149</text>\n<polyline fill=\"none\" stroke=\"black\" points=\"3227.5,-282.5 3227.5,-318.5 \"/>\n<text text-anchor=\"middle\" x=\"3268.5\" y=\"-296.8\" font-family=\"Times,serif\" font-size=\"14.00\">grad 0.0000</text>\n</g>\n<!-- 139521640829264tanh -->\n<g id=\"node98\" class=\"node\">\n<title>139521640829264tanh</title>\n<ellipse fill=\"none\" stroke=\"black\" cx=\"3375\" cy=\"-300.5\" rx=\"27\" ry=\"18\"/>\n<text text-anchor=\"middle\" x=\"3375\" y=\"-296.8\" font-family=\"Times,serif\" font-size=\"14.00\">tanh</text>\n</g>\n<!-- 139521640829168&#45;&gt;139521640829264tanh -->\n<g id=\"edge100\" class=\"edge\">\n<title>139521640829168&#45;&gt;139521640829264tanh</title>\n<path fill=\"none\" stroke=\"black\" d=\"M3309.82,-300.5C3319.57,-300.5 3329.04,-300.5 3337.57,-300.5\"/>\n<polygon fill=\"black\" stroke=\"black\" points=\"3337.83,-304 3347.83,-300.5 3337.83,-297 3337.83,-304\"/>\n</g>\n<!-- 139521640829168+&#45;&gt;139521640829168 -->\n<g id=\"edge37\" class=\"edge\">\n<title>139521640829168+&#45;&gt;139521640829168</title>\n<path fill=\"none\" stroke=\"black\" d=\"M3089.21,-300.5C3097.34,-300.5 3106.85,-300.5 3116.94,-300.5\"/>\n<polygon fill=\"black\" stroke=\"black\" points=\"3117.19,-304 3127.19,-300.5 3117.19,-297 3117.19,-304\"/>\n</g>\n<!-- 139521640730912 -->\n<g id=\"node95\" class=\"node\">\n<title>139521640730912</title>\n<polygon fill=\"none\" stroke=\"black\" points=\"1562.5,-547.5 1562.5,-583.5 1744.5,-583.5 1744.5,-547.5 1562.5,-547.5\"/>\n<text text-anchor=\"middle\" x=\"1572.5\" y=\"-561.8\" font-family=\"Times,serif\" font-size=\"14.00\"> </text>\n<polyline fill=\"none\" stroke=\"black\" points=\"1582.5,-547.5 1582.5,-583.5 \"/>\n<text text-anchor=\"middle\" x=\"1622.5\" y=\"-561.8\" font-family=\"Times,serif\" font-size=\"14.00\">data 0.4989</text>\n<polyline fill=\"none\" stroke=\"black\" points=\"1662.5,-547.5 1662.5,-583.5 \"/>\n<text text-anchor=\"middle\" x=\"1703.5\" y=\"-561.8\" font-family=\"Times,serif\" font-size=\"14.00\">grad 0.0000</text>\n</g>\n<!-- 139521640730912&#45;&gt;139521640827824* -->\n<g id=\"edge204\" class=\"edge\">\n<title>139521640730912&#45;&gt;139521640827824*</title>\n<path fill=\"none\" stroke=\"black\" d=\"M1744.82,-565.5C1754.57,-565.5 1764.04,-565.5 1772.57,-565.5\"/>\n<polygon fill=\"black\" stroke=\"black\" points=\"1772.83,-569 1782.83,-565.5 1772.83,-562 1772.83,-569\"/>\n</g>\n<!-- 139521640739120 -->\n<g id=\"node96\" class=\"node\">\n<title>139521640739120</title>\n<polygon fill=\"none\" stroke=\"black\" points=\"934,-533.5 934,-569.5 1121,-569.5 1121,-533.5 934,-533.5\"/>\n<text text-anchor=\"middle\" x=\"944\" y=\"-547.8\" font-family=\"Times,serif\" font-size=\"14.00\"> </text>\n<polyline fill=\"none\" stroke=\"black\" points=\"954,-533.5 954,-569.5 \"/>\n<text text-anchor=\"middle\" x=\"996.5\" y=\"-547.8\" font-family=\"Times,serif\" font-size=\"14.00\">data &#45;1.0000</text>\n<polyline fill=\"none\" stroke=\"black\" points=\"1039,-533.5 1039,-569.5 \"/>\n<text text-anchor=\"middle\" x=\"1080\" y=\"-547.8\" font-family=\"Times,serif\" font-size=\"14.00\">grad 0.0000</text>\n</g>\n<!-- 139521640739120&#45;&gt;139521640739024* -->\n<g id=\"edge94\" class=\"edge\">\n<title>139521640739120&#45;&gt;139521640739024*</title>\n<path fill=\"none\" stroke=\"black\" d=\"M1121.05,-551.5C1130.06,-551.5 1138.79,-551.5 1146.7,-551.5\"/>\n<polygon fill=\"black\" stroke=\"black\" points=\"1146.95,-555 1156.95,-551.5 1146.95,-548 1146.95,-555\"/>\n</g>\n<!-- 139521640829264 -->\n<g id=\"node97\" class=\"node\">\n<title>139521640829264</title>\n<polygon fill=\"none\" stroke=\"black\" points=\"3440.5,-282.5 3440.5,-318.5 3622.5,-318.5 3622.5,-282.5 3440.5,-282.5\"/>\n<text text-anchor=\"middle\" x=\"3450.5\" y=\"-296.8\" font-family=\"Times,serif\" font-size=\"14.00\"> </text>\n<polyline fill=\"none\" stroke=\"black\" points=\"3460.5,-282.5 3460.5,-318.5 \"/>\n<text text-anchor=\"middle\" x=\"3500.5\" y=\"-296.8\" font-family=\"Times,serif\" font-size=\"14.00\">data 0.2116</text>\n<polyline fill=\"none\" stroke=\"black\" points=\"3540.5,-282.5 3540.5,-318.5 \"/>\n<text text-anchor=\"middle\" x=\"3581.5\" y=\"-296.8\" font-family=\"Times,serif\" font-size=\"14.00\">grad 0.0000</text>\n</g>\n<!-- 139521640829264&#45;&gt;139521640832048* -->\n<g id=\"edge102\" class=\"edge\">\n<title>139521640829264&#45;&gt;139521640832048*</title>\n<path fill=\"none\" stroke=\"black\" d=\"M3597.99,-318.61C3607.11,-321.43 3616.33,-324.43 3625,-327.5 3635.15,-331.1 3646.03,-335.48 3655.81,-339.61\"/>\n<polygon fill=\"black\" stroke=\"black\" points=\"3654.57,-342.89 3665.14,-343.62 3657.34,-336.46 3654.57,-342.89\"/>\n</g>\n<!-- 139521640829264tanh&#45;&gt;139521640829264 -->\n<g id=\"edge38\" class=\"edge\">\n<title>139521640829264tanh&#45;&gt;139521640829264</title>\n<path fill=\"none\" stroke=\"black\" d=\"M3402.21,-300.5C3410.34,-300.5 3419.85,-300.5 3429.94,-300.5\"/>\n<polygon fill=\"black\" stroke=\"black\" points=\"3430.19,-304 3440.19,-300.5 3430.19,-297 3430.19,-304\"/>\n</g>\n<!-- 139521640731008 -->\n<g id=\"node99\" class=\"node\">\n<title>139521640731008</title>\n<polygon fill=\"none\" stroke=\"black\" points=\"1873,-962.5 1873,-998.5 2060,-998.5 2060,-962.5 1873,-962.5\"/>\n<text text-anchor=\"middle\" x=\"1883\" y=\"-976.8\" font-family=\"Times,serif\" font-size=\"14.00\"> </text>\n<polyline fill=\"none\" stroke=\"black\" points=\"1893,-962.5 1893,-998.5 \"/>\n<text text-anchor=\"middle\" x=\"1935.5\" y=\"-976.8\" font-family=\"Times,serif\" font-size=\"14.00\">data &#45;0.6570</text>\n<polyline fill=\"none\" stroke=\"black\" points=\"1978,-962.5 1978,-998.5 \"/>\n<text text-anchor=\"middle\" x=\"2019\" y=\"-976.8\" font-family=\"Times,serif\" font-size=\"14.00\">grad 0.0000</text>\n</g>\n<!-- 139521640731008&#45;&gt;139521640729808+ -->\n<g id=\"edge164\" class=\"edge\">\n<title>139521640731008&#45;&gt;139521640729808+</title>\n<path fill=\"none\" stroke=\"black\" d=\"M2033.56,-962.45C2042.51,-959.64 2051.53,-956.63 2060,-953.5 2070.49,-949.62 2081.71,-944.78 2091.68,-940.22\"/>\n<polygon fill=\"black\" stroke=\"black\" points=\"2093.2,-943.37 2100.79,-935.97 2090.25,-937.02 2093.2,-943.37\"/>\n</g>\n<!-- 139521640731056 -->\n<g id=\"node100\" class=\"node\">\n<title>139521640731056</title>\n<polygon fill=\"none\" stroke=\"black\" points=\"2501.5,-419.5 2501.5,-455.5 2683.5,-455.5 2683.5,-419.5 2501.5,-419.5\"/>\n<text text-anchor=\"middle\" x=\"2511.5\" y=\"-433.8\" font-family=\"Times,serif\" font-size=\"14.00\"> </text>\n<polyline fill=\"none\" stroke=\"black\" points=\"2521.5,-419.5 2521.5,-455.5 \"/>\n<text text-anchor=\"middle\" x=\"2561.5\" y=\"-433.8\" font-family=\"Times,serif\" font-size=\"14.00\">data 0.6259</text>\n<polyline fill=\"none\" stroke=\"black\" points=\"2601.5,-419.5 2601.5,-455.5 \"/>\n<text text-anchor=\"middle\" x=\"2642.5\" y=\"-433.8\" font-family=\"Times,serif\" font-size=\"14.00\">grad 0.0000</text>\n</g>\n<!-- 139521640731056&#45;&gt;139521640827248* -->\n<g id=\"edge195\" class=\"edge\">\n<title>139521640731056&#45;&gt;139521640827248*</title>\n<path fill=\"none\" stroke=\"black\" d=\"M2683.82,-437.5C2693.57,-437.5 2703.04,-437.5 2711.57,-437.5\"/>\n<polygon fill=\"black\" stroke=\"black\" points=\"2711.83,-441 2721.83,-437.5 2711.83,-434 2711.83,-441\"/>\n</g>\n<!-- 139521640731104 -->\n<g id=\"node101\" class=\"node\">\n<title>139521640731104</title>\n<polygon fill=\"none\" stroke=\"black\" points=\"2188.5,-687.5 2188.5,-723.5 2370.5,-723.5 2370.5,-687.5 2188.5,-687.5\"/>\n<text text-anchor=\"middle\" x=\"2198.5\" y=\"-701.8\" font-family=\"Times,serif\" font-size=\"14.00\"> </text>\n<polyline fill=\"none\" stroke=\"black\" points=\"2208.5,-687.5 2208.5,-723.5 \"/>\n<text text-anchor=\"middle\" x=\"2248.5\" y=\"-701.8\" font-family=\"Times,serif\" font-size=\"14.00\">data 0.2009</text>\n<polyline fill=\"none\" stroke=\"black\" points=\"2288.5,-687.5 2288.5,-723.5 \"/>\n<text text-anchor=\"middle\" x=\"2329.5\" y=\"-701.8\" font-family=\"Times,serif\" font-size=\"14.00\">grad 0.0000</text>\n</g>\n<!-- 139521640731104&#45;&gt;139521640826864* -->\n<g id=\"edge168\" class=\"edge\">\n<title>139521640731104&#45;&gt;139521640826864*</title>\n<path fill=\"none\" stroke=\"black\" d=\"M2370.82,-693.22C2380.87,-691.86 2390.61,-690.53 2399.34,-689.35\"/>\n<polygon fill=\"black\" stroke=\"black\" points=\"2400.01,-692.79 2409.45,-687.97 2399.07,-685.85 2400.01,-692.79\"/>\n</g>\n<!-- 139521640739312 -->\n<g id=\"node102\" class=\"node\">\n<title>139521640739312</title>\n<polygon fill=\"none\" stroke=\"black\" points=\"934,-643.5 934,-679.5 1121,-679.5 1121,-643.5 934,-643.5\"/>\n<text text-anchor=\"middle\" x=\"944\" y=\"-657.8\" font-family=\"Times,serif\" font-size=\"14.00\"> </text>\n<polyline fill=\"none\" stroke=\"black\" points=\"954,-643.5 954,-679.5 \"/>\n<text text-anchor=\"middle\" x=\"996.5\" y=\"-657.8\" font-family=\"Times,serif\" font-size=\"14.00\">data &#45;2.0948</text>\n<polyline fill=\"none\" stroke=\"black\" points=\"1039,-643.5 1039,-679.5 \"/>\n<text text-anchor=\"middle\" x=\"1080\" y=\"-657.8\" font-family=\"Times,serif\" font-size=\"14.00\">grad 0.0000</text>\n</g>\n<!-- 139521640739312&#45;&gt;139521640738832+ -->\n<g id=\"edge185\" class=\"edge\">\n<title>139521640739312&#45;&gt;139521640738832+</title>\n<path fill=\"none\" stroke=\"black\" d=\"M1121.05,-645.33C1130.34,-643.7 1139.33,-642.13 1147.44,-640.71\"/>\n<polygon fill=\"black\" stroke=\"black\" points=\"1148.3,-644.12 1157.55,-638.95 1147.1,-637.22 1148.3,-644.12\"/>\n</g>\n<!-- 139521640739312* -->\n<g id=\"node103\" class=\"node\">\n<title>139521640739312*</title>\n<ellipse fill=\"none\" stroke=\"black\" cx=\"871\" cy=\"-661.5\" rx=\"27\" ry=\"18\"/>\n<text text-anchor=\"middle\" x=\"871\" y=\"-657.8\" font-family=\"Times,serif\" font-size=\"14.00\">*</text>\n</g>\n<!-- 139521640739312*&#45;&gt;139521640739312 -->\n<g id=\"edge39\" class=\"edge\">\n<title>139521640739312*&#45;&gt;139521640739312</title>\n<path fill=\"none\" stroke=\"black\" d=\"M898.21,-661.5C905.73,-661.5 914.43,-661.5 923.67,-661.5\"/>\n<polygon fill=\"black\" stroke=\"black\" points=\"923.89,-665 933.89,-661.5 923.89,-658 923.89,-665\"/>\n</g>\n<!-- 139521640739408 -->\n<g id=\"node104\" class=\"node\">\n<title>139521640739408</title>\n<polygon fill=\"none\" stroke=\"black\" points=\"1873,-632.5 1873,-668.5 2060,-668.5 2060,-632.5 1873,-632.5\"/>\n<text text-anchor=\"middle\" x=\"1883\" y=\"-646.8\" font-family=\"Times,serif\" font-size=\"14.00\"> </text>\n<polyline fill=\"none\" stroke=\"black\" points=\"1893,-632.5 1893,-668.5 \"/>\n<text text-anchor=\"middle\" x=\"1935.5\" y=\"-646.8\" font-family=\"Times,serif\" font-size=\"14.00\">data &#45;0.9754</text>\n<polyline fill=\"none\" stroke=\"black\" points=\"1978,-632.5 1978,-668.5 \"/>\n<text text-anchor=\"middle\" x=\"2019\" y=\"-646.8\" font-family=\"Times,serif\" font-size=\"14.00\">grad 0.0000</text>\n</g>\n<!-- 139521640739408&#45;&gt;139521640735712* -->\n<g id=\"edge115\" class=\"edge\">\n<title>139521640739408&#45;&gt;139521640735712*</title>\n<path fill=\"none\" stroke=\"black\" d=\"M2047.2,-668.69C2051.83,-671.5 2056.16,-674.75 2060,-678.5 2096.52,-714.12 2070.05,-743.58 2096,-787.5 2097.15,-789.45 2098.46,-791.38 2099.86,-793.25\"/>\n<polygon fill=\"black\" stroke=\"black\" points=\"2097.3,-795.64 2106.4,-801.06 2102.66,-791.15 2097.3,-795.64\"/>\n</g>\n<!-- 139521640739408&#45;&gt;139521640826576* -->\n<g id=\"edge173\" class=\"edge\">\n<title>139521640739408&#45;&gt;139521640826576*</title>\n<path fill=\"none\" stroke=\"black\" d=\"M2048.07,-668.52C2052.43,-671.38 2056.47,-674.68 2060,-678.5 2110.67,-733.28 2061.39,-776.39 2096,-842.5 2097.05,-844.51 2098.28,-846.47 2099.63,-848.38\"/>\n<polygon fill=\"black\" stroke=\"black\" points=\"2097.02,-850.72 2106.06,-856.25 2102.44,-846.29 2097.02,-850.72\"/>\n</g>\n<!-- 139521640739408&#45;&gt;139521640828208* -->\n<g id=\"edge90\" class=\"edge\">\n<title>139521640739408&#45;&gt;139521640828208*</title>\n<path fill=\"none\" stroke=\"black\" d=\"M2060.05,-650.5C2069.06,-650.5 2077.79,-650.5 2085.7,-650.5\"/>\n<polygon fill=\"black\" stroke=\"black\" points=\"2085.95,-654 2095.95,-650.5 2085.95,-647 2085.95,-654\"/>\n</g>\n<!-- 139521640739408&#45;&gt;139521640829936* -->\n<g id=\"edge180\" class=\"edge\">\n<title>139521640739408&#45;&gt;139521640829936*</title>\n<path fill=\"none\" stroke=\"black\" d=\"M2049.85,-632.38C2053.55,-629.79 2056.97,-626.85 2060,-623.5 2118.55,-558.81 2069.13,-513.52 2096,-430.5 2099.15,-420.76 2103.65,-410.51 2108.01,-401.53\"/>\n<polygon fill=\"black\" stroke=\"black\" points=\"2111.25,-402.88 2112.63,-392.38 2105,-399.73 2111.25,-402.88\"/>\n</g>\n<!-- 139521640739408tanh -->\n<g id=\"node105\" class=\"node\">\n<title>139521640739408tanh</title>\n<ellipse fill=\"none\" stroke=\"black\" cx=\"1810\" cy=\"-648.5\" rx=\"27\" ry=\"18\"/>\n<text text-anchor=\"middle\" x=\"1810\" y=\"-644.8\" font-family=\"Times,serif\" font-size=\"14.00\">tanh</text>\n</g>\n<!-- 139521640739408tanh&#45;&gt;139521640739408 -->\n<g id=\"edge40\" class=\"edge\">\n<title>139521640739408tanh&#45;&gt;139521640739408</title>\n<path fill=\"none\" stroke=\"black\" d=\"M1837.21,-648.84C1844.73,-648.94 1853.43,-649.05 1862.67,-649.17\"/>\n<polygon fill=\"black\" stroke=\"black\" points=\"1862.84,-652.67 1872.89,-649.3 1862.93,-645.67 1862.84,-652.67\"/>\n</g>\n<!-- 139521640829552 -->\n<g id=\"node106\" class=\"node\">\n<title>139521640829552</title>\n<polygon fill=\"none\" stroke=\"black\" points=\"1873,-302.5 1873,-338.5 2060,-338.5 2060,-302.5 1873,-302.5\"/>\n<text text-anchor=\"middle\" x=\"1883\" y=\"-316.8\" font-family=\"Times,serif\" font-size=\"14.00\"> </text>\n<polyline fill=\"none\" stroke=\"black\" points=\"1893,-302.5 1893,-338.5 \"/>\n<text text-anchor=\"middle\" x=\"1935.5\" y=\"-316.8\" font-family=\"Times,serif\" font-size=\"14.00\">data &#45;0.0928</text>\n<polyline fill=\"none\" stroke=\"black\" points=\"1978,-302.5 1978,-338.5 \"/>\n<text text-anchor=\"middle\" x=\"2019\" y=\"-316.8\" font-family=\"Times,serif\" font-size=\"14.00\">grad 0.0000</text>\n</g>\n<!-- 139521640829552&#45;&gt;139521640829744+ -->\n<g id=\"edge190\" class=\"edge\">\n<title>139521640829552&#45;&gt;139521640829744+</title>\n<path fill=\"none\" stroke=\"black\" d=\"M2031.02,-302.35C2040.79,-299.24 2050.71,-295.92 2060,-292.5 2070.25,-288.73 2081.23,-284.14 2091.07,-279.82\"/>\n<polygon fill=\"black\" stroke=\"black\" points=\"2092.74,-282.9 2100.45,-275.63 2089.89,-276.51 2092.74,-282.9\"/>\n</g>\n<!-- 139521640829552*&#45;&gt;139521640829552 -->\n<g id=\"edge41\" class=\"edge\">\n<title>139521640829552*&#45;&gt;139521640829552</title>\n<path fill=\"none\" stroke=\"black\" d=\"M1837.21,-326.31C1844.73,-325.97 1853.43,-325.58 1862.67,-325.16\"/>\n<polygon fill=\"black\" stroke=\"black\" points=\"1863.06,-328.65 1872.89,-324.7 1862.74,-321.65 1863.06,-328.65\"/>\n</g>\n<!-- 139521640739504 -->\n<g id=\"node108\" class=\"node\">\n<title>139521640739504</title>\n<polygon fill=\"none\" stroke=\"black\" points=\"1560,-629.5 1560,-665.5 1747,-665.5 1747,-629.5 1560,-629.5\"/>\n<text text-anchor=\"middle\" x=\"1570\" y=\"-643.8\" font-family=\"Times,serif\" font-size=\"14.00\"> </text>\n<polyline fill=\"none\" stroke=\"black\" points=\"1580,-629.5 1580,-665.5 \"/>\n<text text-anchor=\"middle\" x=\"1622.5\" y=\"-643.8\" font-family=\"Times,serif\" font-size=\"14.00\">data &#45;2.1939</text>\n<polyline fill=\"none\" stroke=\"black\" points=\"1665,-629.5 1665,-665.5 \"/>\n<text text-anchor=\"middle\" x=\"1706\" y=\"-643.8\" font-family=\"Times,serif\" font-size=\"14.00\">grad 0.0000</text>\n</g>\n<!-- 139521640739504&#45;&gt;139521640739408tanh -->\n<g id=\"edge172\" class=\"edge\">\n<title>139521640739504&#45;&gt;139521640739408tanh</title>\n<path fill=\"none\" stroke=\"black\" d=\"M1747.05,-648.1C1756.06,-648.16 1764.79,-648.21 1772.7,-648.27\"/>\n<polygon fill=\"black\" stroke=\"black\" points=\"1772.93,-651.77 1782.95,-648.33 1772.97,-644.77 1772.93,-651.77\"/>\n</g>\n<!-- 139521640739504+&#45;&gt;139521640739504 -->\n<g id=\"edge42\" class=\"edge\">\n<title>139521640739504+&#45;&gt;139521640739504</title>\n<path fill=\"none\" stroke=\"black\" d=\"M1523.86,-636.68C1531.51,-637.32 1540.39,-638.07 1549.84,-638.86\"/>\n<polygon fill=\"black\" stroke=\"black\" points=\"1549.62,-642.36 1559.87,-639.71 1550.2,-635.38 1549.62,-642.36\"/>\n</g>\n<!-- 139521640739552 -->\n<g id=\"node110\" class=\"node\">\n<title>139521640739552</title>\n<polygon fill=\"none\" stroke=\"black\" points=\"623.5,-656.5 623.5,-692.5 805.5,-692.5 805.5,-656.5 623.5,-656.5\"/>\n<text text-anchor=\"middle\" x=\"633.5\" y=\"-670.8\" font-family=\"Times,serif\" font-size=\"14.00\"> </text>\n<polyline fill=\"none\" stroke=\"black\" points=\"643.5,-656.5 643.5,-692.5 \"/>\n<text text-anchor=\"middle\" x=\"683.5\" y=\"-670.8\" font-family=\"Times,serif\" font-size=\"14.00\">data 3.0000</text>\n<polyline fill=\"none\" stroke=\"black\" points=\"723.5,-656.5 723.5,-692.5 \"/>\n<text text-anchor=\"middle\" x=\"764.5\" y=\"-670.8\" font-family=\"Times,serif\" font-size=\"14.00\">grad 0.0000</text>\n</g>\n<!-- 139521640739552&#45;&gt;139521640739312* -->\n<g id=\"edge150\" class=\"edge\">\n<title>139521640739552&#45;&gt;139521640739312*</title>\n<path fill=\"none\" stroke=\"black\" d=\"M805.82,-666.9C815.77,-666.06 825.43,-665.25 834.1,-664.52\"/>\n<polygon fill=\"black\" stroke=\"black\" points=\"834.47,-668 844.14,-663.68 833.88,-661.03 834.47,-668\"/>\n</g>\n<!-- 139521640829744 -->\n<g id=\"node111\" class=\"node\">\n<title>139521640829744</title>\n<polygon fill=\"none\" stroke=\"black\" points=\"2188.5,-247.5 2188.5,-283.5 2370.5,-283.5 2370.5,-247.5 2188.5,-247.5\"/>\n<text text-anchor=\"middle\" x=\"2198.5\" y=\"-261.8\" font-family=\"Times,serif\" font-size=\"14.00\"> </text>\n<polyline fill=\"none\" stroke=\"black\" points=\"2208.5,-247.5 2208.5,-283.5 \"/>\n<text text-anchor=\"middle\" x=\"2248.5\" y=\"-261.8\" font-family=\"Times,serif\" font-size=\"14.00\">data 0.5773</text>\n<polyline fill=\"none\" stroke=\"black\" points=\"2288.5,-247.5 2288.5,-283.5 \"/>\n<text text-anchor=\"middle\" x=\"2329.5\" y=\"-261.8\" font-family=\"Times,serif\" font-size=\"14.00\">grad 0.0000</text>\n</g>\n<!-- 139521640830128+ -->\n<g id=\"node119\" class=\"node\">\n<title>139521640830128+</title>\n<ellipse fill=\"none\" stroke=\"black\" cx=\"2436\" cy=\"-272.5\" rx=\"27\" ry=\"18\"/>\n<text text-anchor=\"middle\" x=\"2436\" y=\"-268.8\" font-family=\"Times,serif\" font-size=\"14.00\">+</text>\n</g>\n<!-- 139521640829744&#45;&gt;139521640830128+ -->\n<g id=\"edge171\" class=\"edge\">\n<title>139521640829744&#45;&gt;139521640830128+</title>\n<path fill=\"none\" stroke=\"black\" d=\"M2370.82,-269.59C2380.57,-270.03 2390.04,-270.46 2398.57,-270.85\"/>\n<polygon fill=\"black\" stroke=\"black\" points=\"2398.68,-274.36 2408.83,-271.31 2399,-267.37 2398.68,-274.36\"/>\n</g>\n<!-- 139521640829744+&#45;&gt;139521640829744 -->\n<g id=\"edge43\" class=\"edge\">\n<title>139521640829744+&#45;&gt;139521640829744</title>\n<path fill=\"none\" stroke=\"black\" d=\"M2150.21,-265.5C2158.34,-265.5 2167.85,-265.5 2177.94,-265.5\"/>\n<polygon fill=\"black\" stroke=\"black\" points=\"2178.19,-269 2188.19,-265.5 2178.19,-262 2178.19,-269\"/>\n</g>\n<!-- 139521640739792 -->\n<g id=\"node113\" class=\"node\">\n<title>139521640739792</title>\n<polygon fill=\"none\" stroke=\"black\" points=\"310.5,-574.5 310.5,-610.5 492.5,-610.5 492.5,-574.5 310.5,-574.5\"/>\n<text text-anchor=\"middle\" x=\"320.5\" y=\"-588.8\" font-family=\"Times,serif\" font-size=\"14.00\"> </text>\n<polyline fill=\"none\" stroke=\"black\" points=\"330.5,-574.5 330.5,-610.5 \"/>\n<text text-anchor=\"middle\" x=\"370.5\" y=\"-588.8\" font-family=\"Times,serif\" font-size=\"14.00\">data 2.0000</text>\n<polyline fill=\"none\" stroke=\"black\" points=\"410.5,-574.5 410.5,-610.5 \"/>\n<text text-anchor=\"middle\" x=\"451.5\" y=\"-588.8\" font-family=\"Times,serif\" font-size=\"14.00\">grad 0.0000</text>\n</g>\n<!-- 139521640739936* -->\n<g id=\"node117\" class=\"node\">\n<title>139521640739936*</title>\n<ellipse fill=\"none\" stroke=\"black\" cx=\"558\" cy=\"-564.5\" rx=\"27\" ry=\"18\"/>\n<text text-anchor=\"middle\" x=\"558\" y=\"-560.8\" font-family=\"Times,serif\" font-size=\"14.00\">*</text>\n</g>\n<!-- 139521640739792&#45;&gt;139521640739936* -->\n<g id=\"edge77\" class=\"edge\">\n<title>139521640739792&#45;&gt;139521640739936*</title>\n<path fill=\"none\" stroke=\"black\" d=\"M492.82,-576.13C503.07,-574.27 513.01,-572.47 521.88,-570.87\"/>\n<polygon fill=\"black\" stroke=\"black\" points=\"522.54,-574.3 531.75,-569.08 521.29,-567.42 522.54,-574.3\"/>\n</g>\n<!-- 139521640829936 -->\n<g id=\"node114\" class=\"node\">\n<title>139521640829936</title>\n<polygon fill=\"none\" stroke=\"black\" points=\"2186,-302.5 2186,-338.5 2373,-338.5 2373,-302.5 2186,-302.5\"/>\n<text text-anchor=\"middle\" x=\"2196\" y=\"-316.8\" font-family=\"Times,serif\" font-size=\"14.00\"> </text>\n<polyline fill=\"none\" stroke=\"black\" points=\"2206,-302.5 2206,-338.5 \"/>\n<text text-anchor=\"middle\" x=\"2248.5\" y=\"-316.8\" font-family=\"Times,serif\" font-size=\"14.00\">data &#45;0.3592</text>\n<polyline fill=\"none\" stroke=\"black\" points=\"2291,-302.5 2291,-338.5 \"/>\n<text text-anchor=\"middle\" x=\"2332\" y=\"-316.8\" font-family=\"Times,serif\" font-size=\"14.00\">grad 0.0000</text>\n</g>\n<!-- 139521640829936&#45;&gt;139521640830128+ -->\n<g id=\"edge116\" class=\"edge\">\n<title>139521640829936&#45;&gt;139521640830128+</title>\n<path fill=\"none\" stroke=\"black\" d=\"M2340.76,-302.43C2351.5,-299.16 2362.59,-295.75 2373,-292.5 2382.35,-289.58 2392.48,-286.34 2401.78,-283.34\"/>\n<polygon fill=\"black\" stroke=\"black\" points=\"2403.04,-286.61 2411.48,-280.2 2400.89,-279.95 2403.04,-286.61\"/>\n</g>\n<!-- 139521640829936*&#45;&gt;139521640829936 -->\n<g id=\"edge44\" class=\"edge\">\n<title>139521640829936*&#45;&gt;139521640829936</title>\n<path fill=\"none\" stroke=\"black\" d=\"M2145.21,-365.03C2157.05,-359.41 2172.15,-352.62 2186,-347.5 2191.43,-345.49 2197.08,-343.54 2202.79,-341.65\"/>\n<polygon fill=\"black\" stroke=\"black\" points=\"2203.99,-344.94 2212.44,-338.55 2201.85,-338.28 2203.99,-344.94\"/>\n</g>\n<!-- 139521640739936 -->\n<g id=\"node116\" class=\"node\">\n<title>139521640739936</title>\n<polygon fill=\"none\" stroke=\"black\" points=\"621,-546.5 621,-582.5 808,-582.5 808,-546.5 621,-546.5\"/>\n<text text-anchor=\"middle\" x=\"631\" y=\"-560.8\" font-family=\"Times,serif\" font-size=\"14.00\"> </text>\n<polyline fill=\"none\" stroke=\"black\" points=\"641,-546.5 641,-582.5 \"/>\n<text text-anchor=\"middle\" x=\"683.5\" y=\"-560.8\" font-family=\"Times,serif\" font-size=\"14.00\">data &#45;1.5782</text>\n<polyline fill=\"none\" stroke=\"black\" points=\"726,-546.5 726,-582.5 \"/>\n<text text-anchor=\"middle\" x=\"767\" y=\"-560.8\" font-family=\"Times,serif\" font-size=\"14.00\">grad 0.0000</text>\n</g>\n<!-- 139521640741088+ -->\n<g id=\"node152\" class=\"node\">\n<title>139521640741088+</title>\n<ellipse fill=\"none\" stroke=\"black\" cx=\"871\" cy=\"-564.5\" rx=\"27\" ry=\"18\"/>\n<text text-anchor=\"middle\" x=\"871\" y=\"-560.8\" font-family=\"Times,serif\" font-size=\"14.00\">+</text>\n</g>\n<!-- 139521640739936&#45;&gt;139521640741088+ -->\n<g id=\"edge189\" class=\"edge\">\n<title>139521640739936&#45;&gt;139521640741088+</title>\n<path fill=\"none\" stroke=\"black\" d=\"M808.05,-564.5C817.06,-564.5 825.79,-564.5 833.7,-564.5\"/>\n<polygon fill=\"black\" stroke=\"black\" points=\"833.95,-568 843.95,-564.5 833.95,-561 833.95,-568\"/>\n</g>\n<!-- 139521640739936*&#45;&gt;139521640739936 -->\n<g id=\"edge45\" class=\"edge\">\n<title>139521640739936*&#45;&gt;139521640739936</title>\n<path fill=\"none\" stroke=\"black\" d=\"M585.21,-564.5C592.73,-564.5 601.43,-564.5 610.67,-564.5\"/>\n<polygon fill=\"black\" stroke=\"black\" points=\"610.89,-568 620.89,-564.5 610.89,-561 610.89,-568\"/>\n</g>\n<!-- 139521640830128 -->\n<g id=\"node118\" class=\"node\">\n<title>139521640830128</title>\n<polygon fill=\"none\" stroke=\"black\" points=\"2501.5,-254.5 2501.5,-290.5 2683.5,-290.5 2683.5,-254.5 2501.5,-254.5\"/>\n<text text-anchor=\"middle\" x=\"2511.5\" y=\"-268.8\" font-family=\"Times,serif\" font-size=\"14.00\"> </text>\n<polyline fill=\"none\" stroke=\"black\" points=\"2521.5,-254.5 2521.5,-290.5 \"/>\n<text text-anchor=\"middle\" x=\"2561.5\" y=\"-268.8\" font-family=\"Times,serif\" font-size=\"14.00\">data 0.2181</text>\n<polyline fill=\"none\" stroke=\"black\" points=\"2601.5,-254.5 2601.5,-290.5 \"/>\n<text text-anchor=\"middle\" x=\"2642.5\" y=\"-268.8\" font-family=\"Times,serif\" font-size=\"14.00\">grad 0.0000</text>\n</g>\n<!-- 139521640830512+ -->\n<g id=\"node127\" class=\"node\">\n<title>139521640830512+</title>\n<ellipse fill=\"none\" stroke=\"black\" cx=\"2749\" cy=\"-273.5\" rx=\"27\" ry=\"18\"/>\n<text text-anchor=\"middle\" x=\"2749\" y=\"-269.8\" font-family=\"Times,serif\" font-size=\"14.00\">+</text>\n</g>\n<!-- 139521640830128&#45;&gt;139521640830512+ -->\n<g id=\"edge137\" class=\"edge\">\n<title>139521640830128&#45;&gt;139521640830512+</title>\n<path fill=\"none\" stroke=\"black\" d=\"M2683.82,-273.08C2693.57,-273.15 2703.04,-273.21 2711.57,-273.26\"/>\n<polygon fill=\"black\" stroke=\"black\" points=\"2711.81,-276.77 2721.83,-273.33 2711.85,-269.77 2711.81,-276.77\"/>\n</g>\n<!-- 139521640830128+&#45;&gt;139521640830128 -->\n<g id=\"edge46\" class=\"edge\">\n<title>139521640830128+&#45;&gt;139521640830128</title>\n<path fill=\"none\" stroke=\"black\" d=\"M2463.21,-272.5C2471.34,-272.5 2480.85,-272.5 2490.94,-272.5\"/>\n<polygon fill=\"black\" stroke=\"black\" points=\"2491.19,-276 2501.19,-272.5 2491.19,-269 2491.19,-276\"/>\n</g>\n<!-- 139521640740032 -->\n<g id=\"node120\" class=\"node\">\n<title>139521640740032</title>\n<polygon fill=\"none\" stroke=\"black\" points=\"1562.5,-686.5 1562.5,-722.5 1744.5,-722.5 1744.5,-686.5 1562.5,-686.5\"/>\n<text text-anchor=\"middle\" x=\"1572.5\" y=\"-700.8\" font-family=\"Times,serif\" font-size=\"14.00\"> </text>\n<polyline fill=\"none\" stroke=\"black\" points=\"1582.5,-686.5 1582.5,-722.5 \"/>\n<text text-anchor=\"middle\" x=\"1622.5\" y=\"-700.8\" font-family=\"Times,serif\" font-size=\"14.00\">data 0.1861</text>\n<polyline fill=\"none\" stroke=\"black\" points=\"1662.5,-686.5 1662.5,-722.5 \"/>\n<text text-anchor=\"middle\" x=\"1703.5\" y=\"-700.8\" font-family=\"Times,serif\" font-size=\"14.00\">grad 0.0000</text>\n</g>\n<!-- 139521640740032&#45;&gt;139521640735232* -->\n<g id=\"edge120\" class=\"edge\">\n<title>139521640740032&#45;&gt;139521640735232*</title>\n<path fill=\"none\" stroke=\"black\" d=\"M1744.82,-705.08C1754.57,-705.15 1764.04,-705.21 1772.57,-705.26\"/>\n<polygon fill=\"black\" stroke=\"black\" points=\"1772.81,-708.77 1782.83,-705.33 1772.85,-701.77 1772.81,-708.77\"/>\n</g>\n<!-- 139521640740032&#45;&gt;139521640827824* -->\n<g id=\"edge162\" class=\"edge\">\n<title>139521640740032&#45;&gt;139521640827824*</title>\n<path fill=\"none\" stroke=\"black\" d=\"M1729.76,-686.45C1735.91,-683.36 1741.77,-679.74 1747,-675.5 1761.23,-663.97 1783.3,-620.62 1796.91,-591.91\"/>\n<polygon fill=\"black\" stroke=\"black\" points=\"1800.11,-593.34 1801.18,-582.8 1793.77,-590.37 1800.11,-593.34\"/>\n</g>\n<!-- 139521640740032&#45;&gt;139521640730288* -->\n<g id=\"edge167\" class=\"edge\">\n<title>139521640740032&#45;&gt;139521640730288*</title>\n<path fill=\"none\" stroke=\"black\" d=\"M1732.87,-722.65C1737.94,-725.47 1742.72,-728.73 1747,-732.5 1779.96,-761.48 1796.31,-811.43 1803.69,-842.62\"/>\n<polygon fill=\"black\" stroke=\"black\" points=\"1800.28,-843.42 1805.86,-852.42 1807.11,-841.9 1800.28,-843.42\"/>\n</g>\n<!-- 139521640740032&#45;&gt;139521640829552* -->\n<g id=\"edge104\" class=\"edge\">\n<title>139521640740032&#45;&gt;139521640829552*</title>\n<path fill=\"none\" stroke=\"black\" d=\"M1734.65,-686.5C1739.23,-683.39 1743.43,-679.75 1747,-675.5 1786.25,-628.84 1769.06,-462.86 1783,-403.5 1786.9,-386.89 1793.01,-368.81 1798.32,-354.45\"/>\n<polygon fill=\"black\" stroke=\"black\" points=\"1801.74,-355.31 1802.01,-344.72 1795.19,-352.83 1801.74,-355.31\"/>\n</g>\n<!-- 139521640740032tanh -->\n<g id=\"node121\" class=\"node\">\n<title>139521640740032tanh</title>\n<ellipse fill=\"none\" stroke=\"black\" cx=\"1497\" cy=\"-710.5\" rx=\"27\" ry=\"18\"/>\n<text text-anchor=\"middle\" x=\"1497\" y=\"-706.8\" font-family=\"Times,serif\" font-size=\"14.00\">tanh</text>\n</g>\n<!-- 139521640740032tanh&#45;&gt;139521640740032 -->\n<g id=\"edge47\" class=\"edge\">\n<title>139521640740032tanh&#45;&gt;139521640740032</title>\n<path fill=\"none\" stroke=\"black\" d=\"M1524.21,-709.48C1532.34,-709.17 1541.85,-708.8 1551.94,-708.41\"/>\n<polygon fill=\"black\" stroke=\"black\" points=\"1552.33,-711.89 1562.19,-708.01 1552.06,-704.9 1552.33,-711.89\"/>\n</g>\n<!-- 139521640740176 -->\n<g id=\"node122\" class=\"node\">\n<title>139521640740176</title>\n<polygon fill=\"none\" stroke=\"black\" points=\"934,-794.5 934,-830.5 1121,-830.5 1121,-794.5 934,-794.5\"/>\n<text text-anchor=\"middle\" x=\"944\" y=\"-808.8\" font-family=\"Times,serif\" font-size=\"14.00\"> </text>\n<polyline fill=\"none\" stroke=\"black\" points=\"954,-794.5 954,-830.5 \"/>\n<text text-anchor=\"middle\" x=\"996.5\" y=\"-808.8\" font-family=\"Times,serif\" font-size=\"14.00\">data &#45;0.1478</text>\n<polyline fill=\"none\" stroke=\"black\" points=\"1039,-794.5 1039,-830.5 \"/>\n<text text-anchor=\"middle\" x=\"1080\" y=\"-808.8\" font-family=\"Times,serif\" font-size=\"14.00\">grad 0.0000</text>\n</g>\n<!-- 139521640740656+ -->\n<g id=\"node138\" class=\"node\">\n<title>139521640740656+</title>\n<ellipse fill=\"none\" stroke=\"black\" cx=\"1184\" cy=\"-743.5\" rx=\"27\" ry=\"18\"/>\n<text text-anchor=\"middle\" x=\"1184\" y=\"-739.8\" font-family=\"Times,serif\" font-size=\"14.00\">+</text>\n</g>\n<!-- 139521640740176&#45;&gt;139521640740656+ -->\n<g id=\"edge142\" class=\"edge\">\n<title>139521640740176&#45;&gt;139521640740656+</title>\n<path fill=\"none\" stroke=\"black\" d=\"M1069.51,-794.4C1085.58,-787.28 1104.16,-779.03 1121,-771.5 1131.03,-767.01 1141.95,-762.09 1151.8,-757.64\"/>\n<polygon fill=\"black\" stroke=\"black\" points=\"1153.54,-760.7 1161.21,-753.39 1150.66,-754.32 1153.54,-760.7\"/>\n</g>\n<!-- 139521640740176+ -->\n<g id=\"node123\" class=\"node\">\n<title>139521640740176+</title>\n<ellipse fill=\"none\" stroke=\"black\" cx=\"871\" cy=\"-839.5\" rx=\"27\" ry=\"18\"/>\n<text text-anchor=\"middle\" x=\"871\" y=\"-835.8\" font-family=\"Times,serif\" font-size=\"14.00\">+</text>\n</g>\n<!-- 139521640740176+&#45;&gt;139521640740176 -->\n<g id=\"edge48\" class=\"edge\">\n<title>139521640740176+&#45;&gt;139521640740176</title>\n<path fill=\"none\" stroke=\"black\" d=\"M897.51,-835.04C905.21,-833.7 914.17,-832.13 923.73,-830.46\"/>\n<polygon fill=\"black\" stroke=\"black\" points=\"924.62,-833.86 933.86,-828.69 923.41,-826.96 924.62,-833.86\"/>\n</g>\n<!-- 139521640830320 -->\n<g id=\"node124\" class=\"node\">\n<title>139521640830320</title>\n<polygon fill=\"none\" stroke=\"black\" points=\"2501.5,-309.5 2501.5,-345.5 2683.5,-345.5 2683.5,-309.5 2501.5,-309.5\"/>\n<text text-anchor=\"middle\" x=\"2511.5\" y=\"-323.8\" font-family=\"Times,serif\" font-size=\"14.00\"> </text>\n<polyline fill=\"none\" stroke=\"black\" points=\"2521.5,-309.5 2521.5,-345.5 \"/>\n<text text-anchor=\"middle\" x=\"2561.5\" y=\"-323.8\" font-family=\"Times,serif\" font-size=\"14.00\">data 0.7121</text>\n<polyline fill=\"none\" stroke=\"black\" points=\"2601.5,-309.5 2601.5,-345.5 \"/>\n<text text-anchor=\"middle\" x=\"2642.5\" y=\"-323.8\" font-family=\"Times,serif\" font-size=\"14.00\">grad 0.0000</text>\n</g>\n<!-- 139521640830320&#45;&gt;139521640830512+ -->\n<g id=\"edge95\" class=\"edge\">\n<title>139521640830320&#45;&gt;139521640830512+</title>\n<path fill=\"none\" stroke=\"black\" d=\"M2656.48,-309.39C2666.41,-306.26 2676.53,-302.91 2686,-299.5 2696.13,-295.85 2707.01,-291.46 2716.79,-287.33\"/>\n<polygon fill=\"black\" stroke=\"black\" points=\"2718.31,-290.48 2726.12,-283.32 2715.55,-284.05 2718.31,-290.48\"/>\n</g>\n<!-- 139521640830320*&#45;&gt;139521640830320 -->\n<g id=\"edge49\" class=\"edge\">\n<title>139521640830320*&#45;&gt;139521640830320</title>\n<path fill=\"none\" stroke=\"black\" d=\"M2460.18,-367.39C2471.8,-363.39 2486.1,-358.56 2499,-354.5 2505.32,-352.51 2511.91,-350.48 2518.52,-348.49\"/>\n<polygon fill=\"black\" stroke=\"black\" points=\"2519.62,-351.81 2528.2,-345.59 2517.62,-345.1 2519.62,-351.81\"/>\n</g>\n<!-- 139521640830512 -->\n<g id=\"node126\" class=\"node\">\n<title>139521640830512</title>\n<polygon fill=\"none\" stroke=\"black\" points=\"2814.5,-255.5 2814.5,-291.5 2996.5,-291.5 2996.5,-255.5 2814.5,-255.5\"/>\n<text text-anchor=\"middle\" x=\"2824.5\" y=\"-269.8\" font-family=\"Times,serif\" font-size=\"14.00\"> </text>\n<polyline fill=\"none\" stroke=\"black\" points=\"2834.5,-255.5 2834.5,-291.5 \"/>\n<text text-anchor=\"middle\" x=\"2874.5\" y=\"-269.8\" font-family=\"Times,serif\" font-size=\"14.00\">data 0.9302</text>\n<polyline fill=\"none\" stroke=\"black\" points=\"2914.5,-255.5 2914.5,-291.5 \"/>\n<text text-anchor=\"middle\" x=\"2955.5\" y=\"-269.8\" font-family=\"Times,serif\" font-size=\"14.00\">grad 0.0000</text>\n</g>\n<!-- 139521640830896+ -->\n<g id=\"node143\" class=\"node\">\n<title>139521640830896+</title>\n<ellipse fill=\"none\" stroke=\"black\" cx=\"3062\" cy=\"-190.5\" rx=\"27\" ry=\"18\"/>\n<text text-anchor=\"middle\" x=\"3062\" y=\"-186.8\" font-family=\"Times,serif\" font-size=\"14.00\">+</text>\n</g>\n<!-- 139521640830512&#45;&gt;139521640830896+ -->\n<g id=\"edge106\" class=\"edge\">\n<title>139521640830512&#45;&gt;139521640830896+</title>\n<path fill=\"none\" stroke=\"black\" d=\"M2977.51,-255.49C2984.96,-252.58 2992.26,-249.27 2999,-245.5 3014.1,-237.06 3028.7,-224.41 3039.93,-213.37\"/>\n<polygon fill=\"black\" stroke=\"black\" points=\"3042.61,-215.64 3047.13,-206.06 3037.62,-210.73 3042.61,-215.64\"/>\n</g>\n<!-- 139521640830512+&#45;&gt;139521640830512 -->\n<g id=\"edge50\" class=\"edge\">\n<title>139521640830512+&#45;&gt;139521640830512</title>\n<path fill=\"none\" stroke=\"black\" d=\"M2776.21,-273.5C2784.34,-273.5 2793.85,-273.5 2803.94,-273.5\"/>\n<polygon fill=\"black\" stroke=\"black\" points=\"2804.19,-277 2814.19,-273.5 2804.19,-270 2804.19,-277\"/>\n</g>\n<!-- 139521640740416 -->\n<g id=\"node128\" class=\"node\">\n<title>139521640740416</title>\n<polygon fill=\"none\" stroke=\"black\" points=\"936.5,-725.5 936.5,-761.5 1118.5,-761.5 1118.5,-725.5 936.5,-725.5\"/>\n<text text-anchor=\"middle\" x=\"946.5\" y=\"-739.8\" font-family=\"Times,serif\" font-size=\"14.00\"> </text>\n<polyline fill=\"none\" stroke=\"black\" points=\"956.5,-725.5 956.5,-761.5 \"/>\n<text text-anchor=\"middle\" x=\"996.5\" y=\"-739.8\" font-family=\"Times,serif\" font-size=\"14.00\">data 0.3361</text>\n<polyline fill=\"none\" stroke=\"black\" points=\"1036.5,-725.5 1036.5,-761.5 \"/>\n<text text-anchor=\"middle\" x=\"1077.5\" y=\"-739.8\" font-family=\"Times,serif\" font-size=\"14.00\">grad 0.0000</text>\n</g>\n<!-- 139521640740416&#45;&gt;139521640740656+ -->\n<g id=\"edge155\" class=\"edge\">\n<title>139521640740416&#45;&gt;139521640740656+</title>\n<path fill=\"none\" stroke=\"black\" d=\"M1118.82,-743.5C1128.57,-743.5 1138.04,-743.5 1146.57,-743.5\"/>\n<polygon fill=\"black\" stroke=\"black\" points=\"1146.83,-747 1156.83,-743.5 1146.83,-740 1146.83,-747\"/>\n</g>\n<!-- 139521640740416* -->\n<g id=\"node129\" class=\"node\">\n<title>139521640740416*</title>\n<ellipse fill=\"none\" stroke=\"black\" cx=\"871\" cy=\"-743.5\" rx=\"27\" ry=\"18\"/>\n<text text-anchor=\"middle\" x=\"871\" y=\"-739.8\" font-family=\"Times,serif\" font-size=\"14.00\">*</text>\n</g>\n<!-- 139521640740416*&#45;&gt;139521640740416 -->\n<g id=\"edge51\" class=\"edge\">\n<title>139521640740416*&#45;&gt;139521640740416</title>\n<path fill=\"none\" stroke=\"black\" d=\"M898.21,-743.5C906.34,-743.5 915.85,-743.5 925.94,-743.5\"/>\n<polygon fill=\"black\" stroke=\"black\" points=\"926.19,-747 936.19,-743.5 926.19,-740 926.19,-747\"/>\n</g>\n<!-- 139521640732256 -->\n<g id=\"node130\" class=\"node\">\n<title>139521640732256</title>\n<polygon fill=\"none\" stroke=\"black\" points=\"0,-794.5 0,-830.5 182,-830.5 182,-794.5 0,-794.5\"/>\n<text text-anchor=\"middle\" x=\"10\" y=\"-808.8\" font-family=\"Times,serif\" font-size=\"14.00\"> </text>\n<polyline fill=\"none\" stroke=\"black\" points=\"20,-794.5 20,-830.5 \"/>\n<text text-anchor=\"middle\" x=\"60\" y=\"-808.8\" font-family=\"Times,serif\" font-size=\"14.00\">data 0.0710</text>\n<polyline fill=\"none\" stroke=\"black\" points=\"100,-794.5 100,-830.5 \"/>\n<text text-anchor=\"middle\" x=\"141\" y=\"-808.8\" font-family=\"Times,serif\" font-size=\"14.00\">grad 0.0000</text>\n</g>\n<!-- 139521640741472* -->\n<g id=\"node165\" class=\"node\">\n<title>139521640741472*</title>\n<ellipse fill=\"none\" stroke=\"black\" cx=\"245\" cy=\"-784.5\" rx=\"27\" ry=\"18\"/>\n<text text-anchor=\"middle\" x=\"245\" y=\"-780.8\" font-family=\"Times,serif\" font-size=\"14.00\">*</text>\n</g>\n<!-- 139521640732256&#45;&gt;139521640741472* -->\n<g id=\"edge151\" class=\"edge\">\n<title>139521640732256&#45;&gt;139521640741472*</title>\n<path fill=\"none\" stroke=\"black\" d=\"M182.18,-795.89C191.61,-794.15 200.75,-792.47 208.98,-790.95\"/>\n<polygon fill=\"black\" stroke=\"black\" points=\"209.66,-794.39 218.86,-789.13 208.39,-787.5 209.66,-794.39\"/>\n</g>\n<!-- 139521640740464 -->\n<g id=\"node131\" class=\"node\">\n<title>139521640740464</title>\n<polygon fill=\"none\" stroke=\"black\" points=\"621,-766.5 621,-802.5 808,-802.5 808,-766.5 621,-766.5\"/>\n<text text-anchor=\"middle\" x=\"631\" y=\"-780.8\" font-family=\"Times,serif\" font-size=\"14.00\"> </text>\n<polyline fill=\"none\" stroke=\"black\" points=\"641,-766.5 641,-802.5 \"/>\n<text text-anchor=\"middle\" x=\"683.5\" y=\"-780.8\" font-family=\"Times,serif\" font-size=\"14.00\">data &#45;1.0000</text>\n<polyline fill=\"none\" stroke=\"black\" points=\"726,-766.5 726,-802.5 \"/>\n<text text-anchor=\"middle\" x=\"767\" y=\"-780.8\" font-family=\"Times,serif\" font-size=\"14.00\">grad 0.0000</text>\n</g>\n<!-- 139521640740464&#45;&gt;139521640740416* -->\n<g id=\"edge133\" class=\"edge\">\n<title>139521640740464&#45;&gt;139521640740416*</title>\n<path fill=\"none\" stroke=\"black\" d=\"M783.72,-766.4C801.71,-761.62 820.37,-756.67 835.71,-752.6\"/>\n<polygon fill=\"black\" stroke=\"black\" points=\"836.99,-755.88 845.76,-749.93 835.2,-749.12 836.99,-755.88\"/>\n</g>\n<!-- 139521640732352 -->\n<g id=\"node132\" class=\"node\">\n<title>139521640732352</title>\n<polygon fill=\"none\" stroke=\"black\" points=\"308,-931.5 308,-967.5 495,-967.5 495,-931.5 308,-931.5\"/>\n<text text-anchor=\"middle\" x=\"318\" y=\"-945.8\" font-family=\"Times,serif\" font-size=\"14.00\"> </text>\n<polyline fill=\"none\" stroke=\"black\" points=\"328,-931.5 328,-967.5 \"/>\n<text text-anchor=\"middle\" x=\"370.5\" y=\"-945.8\" font-family=\"Times,serif\" font-size=\"14.00\">data &#45;0.1953</text>\n<polyline fill=\"none\" stroke=\"black\" points=\"413,-931.5 413,-967.5 \"/>\n<text text-anchor=\"middle\" x=\"454\" y=\"-945.8\" font-family=\"Times,serif\" font-size=\"14.00\">grad 0.0000</text>\n</g>\n<!-- 139521640740752* -->\n<g id=\"node141\" class=\"node\">\n<title>139521640740752*</title>\n<ellipse fill=\"none\" stroke=\"black\" cx=\"558\" cy=\"-894.5\" rx=\"27\" ry=\"18\"/>\n<text text-anchor=\"middle\" x=\"558\" y=\"-890.8\" font-family=\"Times,serif\" font-size=\"14.00\">*</text>\n</g>\n<!-- 139521640732352&#45;&gt;139521640740752* -->\n<g id=\"edge197\" class=\"edge\">\n<title>139521640732352&#45;&gt;139521640740752*</title>\n<path fill=\"none\" stroke=\"black\" d=\"M468.56,-931.45C477.51,-928.64 486.53,-925.63 495,-922.5 505.49,-918.62 516.71,-913.78 526.68,-909.22\"/>\n<polygon fill=\"black\" stroke=\"black\" points=\"528.2,-912.37 535.79,-904.97 525.25,-906.02 528.2,-912.37\"/>\n</g>\n<!-- 139521640732400 -->\n<g id=\"node133\" class=\"node\">\n<title>139521640732400</title>\n<polygon fill=\"none\" stroke=\"black\" points=\"621,-711.5 621,-747.5 808,-747.5 808,-711.5 621,-711.5\"/>\n<text text-anchor=\"middle\" x=\"631\" y=\"-725.8\" font-family=\"Times,serif\" font-size=\"14.00\"> </text>\n<polyline fill=\"none\" stroke=\"black\" points=\"641,-711.5 641,-747.5 \"/>\n<text text-anchor=\"middle\" x=\"683.5\" y=\"-725.8\" font-family=\"Times,serif\" font-size=\"14.00\">data &#45;0.3361</text>\n<polyline fill=\"none\" stroke=\"black\" points=\"726,-711.5 726,-747.5 \"/>\n<text text-anchor=\"middle\" x=\"767\" y=\"-725.8\" font-family=\"Times,serif\" font-size=\"14.00\">grad 0.0000</text>\n</g>\n<!-- 139521640732400&#45;&gt;139521640740416* -->\n<g id=\"edge177\" class=\"edge\">\n<title>139521640732400&#45;&gt;139521640740416*</title>\n<path fill=\"none\" stroke=\"black\" d=\"M808.05,-737.89C817.16,-738.71 825.98,-739.51 833.97,-740.24\"/>\n<polygon fill=\"black\" stroke=\"black\" points=\"833.67,-743.72 843.95,-741.14 834.31,-736.75 833.67,-743.72\"/>\n</g>\n<!-- 139521640830704 -->\n<g id=\"node134\" class=\"node\">\n<title>139521640830704</title>\n<polygon fill=\"none\" stroke=\"black\" points=\"2812,-145.5 2812,-181.5 2999,-181.5 2999,-145.5 2812,-145.5\"/>\n<text text-anchor=\"middle\" x=\"2822\" y=\"-159.8\" font-family=\"Times,serif\" font-size=\"14.00\"> </text>\n<polyline fill=\"none\" stroke=\"black\" points=\"2832,-145.5 2832,-181.5 \"/>\n<text text-anchor=\"middle\" x=\"2874.5\" y=\"-159.8\" font-family=\"Times,serif\" font-size=\"14.00\">data &#45;0.4712</text>\n<polyline fill=\"none\" stroke=\"black\" points=\"2917,-145.5 2917,-181.5 \"/>\n<text text-anchor=\"middle\" x=\"2958\" y=\"-159.8\" font-family=\"Times,serif\" font-size=\"14.00\">grad 0.0000</text>\n</g>\n<!-- 139521640830704&#45;&gt;139521640830896+ -->\n<g id=\"edge209\" class=\"edge\">\n<title>139521640830704&#45;&gt;139521640830896+</title>\n<path fill=\"none\" stroke=\"black\" d=\"M2999.05,-179.67C3008.34,-181.3 3017.33,-182.87 3025.44,-184.29\"/>\n<polygon fill=\"black\" stroke=\"black\" points=\"3025.1,-187.78 3035.55,-186.05 3026.3,-180.88 3025.1,-187.78\"/>\n</g>\n<!-- 139521640830704*&#45;&gt;139521640830704 -->\n<g id=\"edge52\" class=\"edge\">\n<title>139521640830704*&#45;&gt;139521640830704</title>\n<path fill=\"none\" stroke=\"black\" d=\"M2776.21,-163.5C2783.73,-163.5 2792.43,-163.5 2801.67,-163.5\"/>\n<polygon fill=\"black\" stroke=\"black\" points=\"2801.89,-167 2811.89,-163.5 2801.89,-160 2801.89,-167\"/>\n</g>\n<!-- 139521640732448 -->\n<g id=\"node136\" class=\"node\">\n<title>139521640732448</title>\n<polygon fill=\"none\" stroke=\"black\" points=\"310.5,-821.5 310.5,-857.5 492.5,-857.5 492.5,-821.5 310.5,-821.5\"/>\n<text text-anchor=\"middle\" x=\"320.5\" y=\"-835.8\" font-family=\"Times,serif\" font-size=\"14.00\"> </text>\n<polyline fill=\"none\" stroke=\"black\" points=\"330.5,-821.5 330.5,-857.5 \"/>\n<text text-anchor=\"middle\" x=\"370.5\" y=\"-835.8\" font-family=\"Times,serif\" font-size=\"14.00\">data 0.2960</text>\n<polyline fill=\"none\" stroke=\"black\" points=\"410.5,-821.5 410.5,-857.5 \"/>\n<text text-anchor=\"middle\" x=\"451.5\" y=\"-835.8\" font-family=\"Times,serif\" font-size=\"14.00\">grad 0.0000</text>\n</g>\n<!-- 139521640742624+ -->\n<g id=\"node195\" class=\"node\">\n<title>139521640742624+</title>\n<ellipse fill=\"none\" stroke=\"black\" cx=\"558\" cy=\"-839.5\" rx=\"27\" ry=\"18\"/>\n<text text-anchor=\"middle\" x=\"558\" y=\"-835.8\" font-family=\"Times,serif\" font-size=\"14.00\">+</text>\n</g>\n<!-- 139521640732448&#45;&gt;139521640742624+ -->\n<g id=\"edge194\" class=\"edge\">\n<title>139521640732448&#45;&gt;139521640742624+</title>\n<path fill=\"none\" stroke=\"black\" d=\"M492.82,-839.5C502.57,-839.5 512.04,-839.5 520.57,-839.5\"/>\n<polygon fill=\"black\" stroke=\"black\" points=\"520.83,-843 530.83,-839.5 520.83,-836 520.83,-843\"/>\n</g>\n<!-- 139521640740656 -->\n<g id=\"node137\" class=\"node\">\n<title>139521640740656</title>\n<polygon fill=\"none\" stroke=\"black\" points=\"1249.5,-698.5 1249.5,-734.5 1431.5,-734.5 1431.5,-698.5 1249.5,-698.5\"/>\n<text text-anchor=\"middle\" x=\"1259.5\" y=\"-712.8\" font-family=\"Times,serif\" font-size=\"14.00\"> </text>\n<polyline fill=\"none\" stroke=\"black\" points=\"1269.5,-698.5 1269.5,-734.5 \"/>\n<text text-anchor=\"middle\" x=\"1309.5\" y=\"-712.8\" font-family=\"Times,serif\" font-size=\"14.00\">data 0.1883</text>\n<polyline fill=\"none\" stroke=\"black\" points=\"1349.5,-698.5 1349.5,-734.5 \"/>\n<text text-anchor=\"middle\" x=\"1390.5\" y=\"-712.8\" font-family=\"Times,serif\" font-size=\"14.00\">grad 0.0000</text>\n</g>\n<!-- 139521640740656&#45;&gt;139521640740032tanh -->\n<g id=\"edge148\" class=\"edge\">\n<title>139521640740656&#45;&gt;139521640740032tanh</title>\n<path fill=\"none\" stroke=\"black\" d=\"M1431.82,-712.99C1441.57,-712.61 1451.04,-712.25 1459.57,-711.91\"/>\n<polygon fill=\"black\" stroke=\"black\" points=\"1459.97,-715.4 1469.83,-711.52 1459.7,-708.41 1459.97,-715.4\"/>\n</g>\n<!-- 139521640740656+&#45;&gt;139521640740656 -->\n<g id=\"edge53\" class=\"edge\">\n<title>139521640740656+&#45;&gt;139521640740656</title>\n<path fill=\"none\" stroke=\"black\" d=\"M1210.51,-739.04C1218.83,-737.59 1228.62,-735.88 1239.03,-734.06\"/>\n<polygon fill=\"black\" stroke=\"black\" points=\"1239.93,-737.45 1249.18,-732.28 1238.73,-730.56 1239.93,-737.45\"/>\n</g>\n<!-- 139521640732544 -->\n<g id=\"node139\" class=\"node\">\n<title>139521640732544</title>\n<polygon fill=\"none\" stroke=\"black\" points=\"308,-519.5 308,-555.5 495,-555.5 495,-519.5 308,-519.5\"/>\n<text text-anchor=\"middle\" x=\"318\" y=\"-533.8\" font-family=\"Times,serif\" font-size=\"14.00\"> </text>\n<polyline fill=\"none\" stroke=\"black\" points=\"328,-519.5 328,-555.5 \"/>\n<text text-anchor=\"middle\" x=\"370.5\" y=\"-533.8\" font-family=\"Times,serif\" font-size=\"14.00\">data &#45;0.7891</text>\n<polyline fill=\"none\" stroke=\"black\" points=\"413,-519.5 413,-555.5 \"/>\n<text text-anchor=\"middle\" x=\"454\" y=\"-533.8\" font-family=\"Times,serif\" font-size=\"14.00\">grad 0.0000</text>\n</g>\n<!-- 139521640732544&#45;&gt;139521640739936* -->\n<g id=\"edge159\" class=\"edge\">\n<title>139521640732544&#45;&gt;139521640739936*</title>\n<path fill=\"none\" stroke=\"black\" d=\"M495.05,-553.67C504.34,-555.3 513.33,-556.87 521.44,-558.29\"/>\n<polygon fill=\"black\" stroke=\"black\" points=\"521.1,-561.78 531.55,-560.05 522.3,-554.88 521.1,-561.78\"/>\n</g>\n<!-- 139521640740752 -->\n<g id=\"node140\" class=\"node\">\n<title>139521640740752</title>\n<polygon fill=\"none\" stroke=\"black\" points=\"621,-876.5 621,-912.5 808,-912.5 808,-876.5 621,-876.5\"/>\n<text text-anchor=\"middle\" x=\"631\" y=\"-890.8\" font-family=\"Times,serif\" font-size=\"14.00\"> </text>\n<polyline fill=\"none\" stroke=\"black\" points=\"641,-876.5 641,-912.5 \"/>\n<text text-anchor=\"middle\" x=\"683.5\" y=\"-890.8\" font-family=\"Times,serif\" font-size=\"14.00\">data &#45;0.5859</text>\n<polyline fill=\"none\" stroke=\"black\" points=\"726,-876.5 726,-912.5 \"/>\n<text text-anchor=\"middle\" x=\"767\" y=\"-890.8\" font-family=\"Times,serif\" font-size=\"14.00\">grad 0.0000</text>\n</g>\n<!-- 139521640740752&#45;&gt;139521640740176+ -->\n<g id=\"edge170\" class=\"edge\">\n<title>139521640740752&#45;&gt;139521640740176+</title>\n<path fill=\"none\" stroke=\"black\" d=\"M781.56,-876.45C790.51,-873.64 799.53,-870.63 808,-867.5 818.49,-863.62 829.71,-858.78 839.68,-854.22\"/>\n<polygon fill=\"black\" stroke=\"black\" points=\"841.2,-857.37 848.79,-849.97 838.25,-851.02 841.2,-857.37\"/>\n</g>\n<!-- 139521640740752*&#45;&gt;139521640740752 -->\n<g id=\"edge54\" class=\"edge\">\n<title>139521640740752*&#45;&gt;139521640740752</title>\n<path fill=\"none\" stroke=\"black\" d=\"M585.21,-894.5C592.73,-894.5 601.43,-894.5 610.67,-894.5\"/>\n<polygon fill=\"black\" stroke=\"black\" points=\"610.89,-898 620.89,-894.5 610.89,-891 610.89,-898\"/>\n</g>\n<!-- 139521640830896 -->\n<g id=\"node142\" class=\"node\">\n<title>139521640830896</title>\n<polygon fill=\"none\" stroke=\"black\" points=\"3127.5,-172.5 3127.5,-208.5 3309.5,-208.5 3309.5,-172.5 3127.5,-172.5\"/>\n<text text-anchor=\"middle\" x=\"3137.5\" y=\"-186.8\" font-family=\"Times,serif\" font-size=\"14.00\"> </text>\n<polyline fill=\"none\" stroke=\"black\" points=\"3147.5,-172.5 3147.5,-208.5 \"/>\n<text text-anchor=\"middle\" x=\"3187.5\" y=\"-186.8\" font-family=\"Times,serif\" font-size=\"14.00\">data 0.4590</text>\n<polyline fill=\"none\" stroke=\"black\" points=\"3227.5,-172.5 3227.5,-208.5 \"/>\n<text text-anchor=\"middle\" x=\"3268.5\" y=\"-186.8\" font-family=\"Times,serif\" font-size=\"14.00\">grad 0.0000</text>\n</g>\n<!-- 139521640830992tanh -->\n<g id=\"node147\" class=\"node\">\n<title>139521640830992tanh</title>\n<ellipse fill=\"none\" stroke=\"black\" cx=\"3375\" cy=\"-190.5\" rx=\"27\" ry=\"18\"/>\n<text text-anchor=\"middle\" x=\"3375\" y=\"-186.8\" font-family=\"Times,serif\" font-size=\"14.00\">tanh</text>\n</g>\n<!-- 139521640830896&#45;&gt;139521640830992tanh -->\n<g id=\"edge192\" class=\"edge\">\n<title>139521640830896&#45;&gt;139521640830992tanh</title>\n<path fill=\"none\" stroke=\"black\" d=\"M3309.82,-190.5C3319.57,-190.5 3329.04,-190.5 3337.57,-190.5\"/>\n<polygon fill=\"black\" stroke=\"black\" points=\"3337.83,-194 3347.83,-190.5 3337.83,-187 3337.83,-194\"/>\n</g>\n<!-- 139521640830896+&#45;&gt;139521640830896 -->\n<g id=\"edge55\" class=\"edge\">\n<title>139521640830896+&#45;&gt;139521640830896</title>\n<path fill=\"none\" stroke=\"black\" d=\"M3089.21,-190.5C3097.34,-190.5 3106.85,-190.5 3116.94,-190.5\"/>\n<polygon fill=\"black\" stroke=\"black\" points=\"3117.19,-194 3127.19,-190.5 3117.19,-187 3117.19,-194\"/>\n</g>\n<!-- 139521640732640 -->\n<g id=\"node144\" class=\"node\">\n<title>139521640732640</title>\n<polygon fill=\"none\" stroke=\"black\" points=\"621,-601.5 621,-637.5 808,-637.5 808,-601.5 621,-601.5\"/>\n<text text-anchor=\"middle\" x=\"631\" y=\"-615.8\" font-family=\"Times,serif\" font-size=\"14.00\"> </text>\n<polyline fill=\"none\" stroke=\"black\" points=\"641,-601.5 641,-637.5 \"/>\n<text text-anchor=\"middle\" x=\"683.5\" y=\"-615.8\" font-family=\"Times,serif\" font-size=\"14.00\">data &#45;0.6983</text>\n<polyline fill=\"none\" stroke=\"black\" points=\"726,-601.5 726,-637.5 \"/>\n<text text-anchor=\"middle\" x=\"767\" y=\"-615.8\" font-family=\"Times,serif\" font-size=\"14.00\">grad 0.0000</text>\n</g>\n<!-- 139521640732640&#45;&gt;139521640739312* -->\n<g id=\"edge207\" class=\"edge\">\n<title>139521640732640&#45;&gt;139521640739312*</title>\n<path fill=\"none\" stroke=\"black\" d=\"M781.92,-637.56C800.44,-642.59 819.8,-647.85 835.64,-652.16\"/>\n<polygon fill=\"black\" stroke=\"black\" points=\"834.93,-655.59 845.5,-654.84 836.77,-648.84 834.93,-655.59\"/>\n</g>\n<!-- 139521640740848 -->\n<g id=\"node145\" class=\"node\">\n<title>139521640740848</title>\n<polygon fill=\"none\" stroke=\"black\" points=\"310.5,-876.5 310.5,-912.5 492.5,-912.5 492.5,-876.5 310.5,-876.5\"/>\n<text text-anchor=\"middle\" x=\"320.5\" y=\"-890.8\" font-family=\"Times,serif\" font-size=\"14.00\"> </text>\n<polyline fill=\"none\" stroke=\"black\" points=\"330.5,-876.5 330.5,-912.5 \"/>\n<text text-anchor=\"middle\" x=\"370.5\" y=\"-890.8\" font-family=\"Times,serif\" font-size=\"14.00\">data 3.0000</text>\n<polyline fill=\"none\" stroke=\"black\" points=\"410.5,-876.5 410.5,-912.5 \"/>\n<text text-anchor=\"middle\" x=\"451.5\" y=\"-890.8\" font-family=\"Times,serif\" font-size=\"14.00\">grad 0.0000</text>\n</g>\n<!-- 139521640740848&#45;&gt;139521640740752* -->\n<g id=\"edge139\" class=\"edge\">\n<title>139521640740848&#45;&gt;139521640740752*</title>\n<path fill=\"none\" stroke=\"black\" d=\"M492.82,-894.5C502.57,-894.5 512.04,-894.5 520.57,-894.5\"/>\n<polygon fill=\"black\" stroke=\"black\" points=\"520.83,-898 530.83,-894.5 520.83,-891 520.83,-898\"/>\n</g>\n<!-- 139521640830992 -->\n<g id=\"node146\" class=\"node\">\n<title>139521640830992</title>\n<polygon fill=\"none\" stroke=\"black\" points=\"3440.5,-172.5 3440.5,-208.5 3622.5,-208.5 3622.5,-172.5 3440.5,-172.5\"/>\n<text text-anchor=\"middle\" x=\"3450.5\" y=\"-186.8\" font-family=\"Times,serif\" font-size=\"14.00\"> </text>\n<polyline fill=\"none\" stroke=\"black\" points=\"3460.5,-172.5 3460.5,-208.5 \"/>\n<text text-anchor=\"middle\" x=\"3500.5\" y=\"-186.8\" font-family=\"Times,serif\" font-size=\"14.00\">data 0.4293</text>\n<polyline fill=\"none\" stroke=\"black\" points=\"3540.5,-172.5 3540.5,-208.5 \"/>\n<text text-anchor=\"middle\" x=\"3581.5\" y=\"-186.8\" font-family=\"Times,serif\" font-size=\"14.00\">grad 0.0000</text>\n</g>\n<!-- 139521640830992&#45;&gt;139521640832432* -->\n<g id=\"edge105\" class=\"edge\">\n<title>139521640830992&#45;&gt;139521640832432*</title>\n<path fill=\"none\" stroke=\"black\" d=\"M3598.56,-208.55C3607.51,-211.36 3616.53,-214.37 3625,-217.5 3635.49,-221.38 3646.71,-226.22 3656.68,-230.78\"/>\n<polygon fill=\"black\" stroke=\"black\" points=\"3655.25,-233.98 3665.79,-235.03 3658.2,-227.63 3655.25,-233.98\"/>\n</g>\n<!-- 139521640830992tanh&#45;&gt;139521640830992 -->\n<g id=\"edge56\" class=\"edge\">\n<title>139521640830992tanh&#45;&gt;139521640830992</title>\n<path fill=\"none\" stroke=\"black\" d=\"M3402.21,-190.5C3410.34,-190.5 3419.85,-190.5 3429.94,-190.5\"/>\n<polygon fill=\"black\" stroke=\"black\" points=\"3430.19,-194 3440.19,-190.5 3430.19,-187 3430.19,-194\"/>\n</g>\n<!-- 139521640732688 -->\n<g id=\"node148\" class=\"node\">\n<title>139521640732688</title>\n<polygon fill=\"none\" stroke=\"black\" points=\"934,-478.5 934,-514.5 1121,-514.5 1121,-478.5 934,-478.5\"/>\n<text text-anchor=\"middle\" x=\"944\" y=\"-492.8\" font-family=\"Times,serif\" font-size=\"14.00\"> </text>\n<polyline fill=\"none\" stroke=\"black\" points=\"954,-478.5 954,-514.5 \"/>\n<text text-anchor=\"middle\" x=\"996.5\" y=\"-492.8\" font-family=\"Times,serif\" font-size=\"14.00\">data &#45;0.9717</text>\n<polyline fill=\"none\" stroke=\"black\" points=\"1039,-478.5 1039,-514.5 \"/>\n<text text-anchor=\"middle\" x=\"1080\" y=\"-492.8\" font-family=\"Times,serif\" font-size=\"14.00\">grad 0.0000</text>\n</g>\n<!-- 139521640732688&#45;&gt;139521640739024* -->\n<g id=\"edge84\" class=\"edge\">\n<title>139521640732688&#45;&gt;139521640739024*</title>\n<path fill=\"none\" stroke=\"black\" d=\"M1092.02,-514.65C1101.79,-517.76 1111.71,-521.08 1121,-524.5 1131.25,-528.27 1142.23,-532.86 1152.07,-537.18\"/>\n<polygon fill=\"black\" stroke=\"black\" points=\"1150.89,-540.49 1161.45,-541.37 1153.74,-534.1 1150.89,-540.49\"/>\n</g>\n<!-- 139521640732736 -->\n<g id=\"node149\" class=\"node\">\n<title>139521640732736</title>\n<polygon fill=\"none\" stroke=\"black\" points=\"623.5,-491.5 623.5,-527.5 805.5,-527.5 805.5,-491.5 623.5,-491.5\"/>\n<text text-anchor=\"middle\" x=\"633.5\" y=\"-505.8\" font-family=\"Times,serif\" font-size=\"14.00\"> </text>\n<polyline fill=\"none\" stroke=\"black\" points=\"643.5,-491.5 643.5,-527.5 \"/>\n<text text-anchor=\"middle\" x=\"683.5\" y=\"-505.8\" font-family=\"Times,serif\" font-size=\"14.00\">data 0.5074</text>\n<polyline fill=\"none\" stroke=\"black\" points=\"723.5,-491.5 723.5,-527.5 \"/>\n<text text-anchor=\"middle\" x=\"764.5\" y=\"-505.8\" font-family=\"Times,serif\" font-size=\"14.00\">grad 0.0000</text>\n</g>\n<!-- 139521640732736&#45;&gt;139521640741088+ -->\n<g id=\"edge97\" class=\"edge\">\n<title>139521640732736&#45;&gt;139521640741088+</title>\n<path fill=\"none\" stroke=\"black\" d=\"M779.02,-527.65C788.79,-530.76 798.71,-534.08 808,-537.5 818.25,-541.27 829.23,-545.86 839.07,-550.18\"/>\n<polygon fill=\"black\" stroke=\"black\" points=\"837.89,-553.49 848.45,-554.37 840.74,-547.1 837.89,-553.49\"/>\n</g>\n<!-- 139521640732832 -->\n<g id=\"node150\" class=\"node\">\n<title>139521640732832</title>\n<polygon fill=\"none\" stroke=\"black\" points=\"623.5,-286.5 623.5,-322.5 805.5,-322.5 805.5,-286.5 623.5,-286.5\"/>\n<text text-anchor=\"middle\" x=\"633.5\" y=\"-300.8\" font-family=\"Times,serif\" font-size=\"14.00\"> </text>\n<polyline fill=\"none\" stroke=\"black\" points=\"643.5,-286.5 643.5,-322.5 \"/>\n<text text-anchor=\"middle\" x=\"683.5\" y=\"-300.8\" font-family=\"Times,serif\" font-size=\"14.00\">data 0.6095</text>\n<polyline fill=\"none\" stroke=\"black\" points=\"723.5,-286.5 723.5,-322.5 \"/>\n<text text-anchor=\"middle\" x=\"764.5\" y=\"-300.8\" font-family=\"Times,serif\" font-size=\"14.00\">grad 0.0000</text>\n</g>\n<!-- 139521640732832&#45;&gt;139521640738064* -->\n<g id=\"edge131\" class=\"edge\">\n<title>139521640732832&#45;&gt;139521640738064*</title>\n<path fill=\"none\" stroke=\"black\" d=\"M805.82,-320.28C816.07,-322.08 826.01,-323.81 834.88,-325.36\"/>\n<polygon fill=\"black\" stroke=\"black\" points=\"834.3,-328.81 844.75,-327.09 835.5,-321.92 834.3,-328.81\"/>\n</g>\n<!-- 139521640741088 -->\n<g id=\"node151\" class=\"node\">\n<title>139521640741088</title>\n<polygon fill=\"none\" stroke=\"black\" points=\"934,-588.5 934,-624.5 1121,-624.5 1121,-588.5 934,-588.5\"/>\n<text text-anchor=\"middle\" x=\"944\" y=\"-602.8\" font-family=\"Times,serif\" font-size=\"14.00\"> </text>\n<polyline fill=\"none\" stroke=\"black\" points=\"954,-588.5 954,-624.5 \"/>\n<text text-anchor=\"middle\" x=\"996.5\" y=\"-602.8\" font-family=\"Times,serif\" font-size=\"14.00\">data &#45;1.0707</text>\n<polyline fill=\"none\" stroke=\"black\" points=\"1039,-588.5 1039,-624.5 \"/>\n<text text-anchor=\"middle\" x=\"1080\" y=\"-602.8\" font-family=\"Times,serif\" font-size=\"14.00\">grad 0.0000</text>\n</g>\n<!-- 139521640741088&#45;&gt;139521640738832+ -->\n<g id=\"edge127\" class=\"edge\">\n<title>139521640741088&#45;&gt;139521640738832+</title>\n<path fill=\"none\" stroke=\"black\" d=\"M1121.05,-623.27C1130.54,-624.99 1139.71,-626.65 1147.95,-628.15\"/>\n<polygon fill=\"black\" stroke=\"black\" points=\"1147.39,-631.6 1157.85,-629.94 1148.64,-624.72 1147.39,-631.6\"/>\n</g>\n<!-- 139521640741088+&#45;&gt;139521640741088 -->\n<g id=\"edge57\" class=\"edge\">\n<title>139521640741088+&#45;&gt;139521640741088</title>\n<path fill=\"none\" stroke=\"black\" d=\"M896.48,-571.16C911.18,-575.15 930.77,-580.48 950.28,-585.78\"/>\n<polygon fill=\"black\" stroke=\"black\" points=\"949.56,-589.21 960.13,-588.46 951.4,-582.46 949.56,-589.21\"/>\n</g>\n<!-- 139521640732928 -->\n<g id=\"node153\" class=\"node\">\n<title>139521640732928</title>\n<polygon fill=\"none\" stroke=\"black\" points=\"934,-368.5 934,-404.5 1121,-404.5 1121,-368.5 934,-368.5\"/>\n<text text-anchor=\"middle\" x=\"944\" y=\"-382.8\" font-family=\"Times,serif\" font-size=\"14.00\"> </text>\n<polyline fill=\"none\" stroke=\"black\" points=\"954,-368.5 954,-404.5 \"/>\n<text text-anchor=\"middle\" x=\"996.5\" y=\"-382.8\" font-family=\"Times,serif\" font-size=\"14.00\">data &#45;0.7034</text>\n<polyline fill=\"none\" stroke=\"black\" points=\"1039,-368.5 1039,-404.5 \"/>\n<text text-anchor=\"middle\" x=\"1080\" y=\"-382.8\" font-family=\"Times,serif\" font-size=\"14.00\">grad 0.0000</text>\n</g>\n<!-- 139521640732928&#45;&gt;139521640737920* -->\n<g id=\"edge141\" class=\"edge\">\n<title>139521640732928&#45;&gt;139521640737920*</title>\n<path fill=\"none\" stroke=\"black\" d=\"M1121.05,-386.5C1130.06,-386.5 1138.79,-386.5 1146.7,-386.5\"/>\n<polygon fill=\"black\" stroke=\"black\" points=\"1146.95,-390 1156.95,-386.5 1146.95,-383 1146.95,-390\"/>\n</g>\n<!-- 139521640732976 -->\n<g id=\"node154\" class=\"node\">\n<title>139521640732976</title>\n<polygon fill=\"none\" stroke=\"black\" points=\"1247,-423.5 1247,-459.5 1434,-459.5 1434,-423.5 1247,-423.5\"/>\n<text text-anchor=\"middle\" x=\"1257\" y=\"-437.8\" font-family=\"Times,serif\" font-size=\"14.00\"> </text>\n<polyline fill=\"none\" stroke=\"black\" points=\"1267,-423.5 1267,-459.5 \"/>\n<text text-anchor=\"middle\" x=\"1309.5\" y=\"-437.8\" font-family=\"Times,serif\" font-size=\"14.00\">data &#45;0.2048</text>\n<polyline fill=\"none\" stroke=\"black\" points=\"1352,-423.5 1352,-459.5 \"/>\n<text text-anchor=\"middle\" x=\"1393\" y=\"-437.8\" font-family=\"Times,serif\" font-size=\"14.00\">grad 0.0000</text>\n</g>\n<!-- 139521640732976&#45;&gt;139521640737776* -->\n<g id=\"edge160\" class=\"edge\">\n<title>139521640732976&#45;&gt;139521640737776*</title>\n<path fill=\"none\" stroke=\"black\" d=\"M1434.05,-441.5C1443.06,-441.5 1451.79,-441.5 1459.7,-441.5\"/>\n<polygon fill=\"black\" stroke=\"black\" points=\"1459.95,-445 1469.95,-441.5 1459.95,-438 1459.95,-445\"/>\n</g>\n<!-- 139521640831280 -->\n<g id=\"node155\" class=\"node\">\n<title>139521640831280</title>\n<polygon fill=\"none\" stroke=\"black\" points=\"3751,-393.5 3751,-429.5 3938,-429.5 3938,-393.5 3751,-393.5\"/>\n<text text-anchor=\"middle\" x=\"3761\" y=\"-407.8\" font-family=\"Times,serif\" font-size=\"14.00\"> </text>\n<polyline fill=\"none\" stroke=\"black\" points=\"3771,-393.5 3771,-429.5 \"/>\n<text text-anchor=\"middle\" x=\"3813.5\" y=\"-407.8\" font-family=\"Times,serif\" font-size=\"14.00\">data &#45;0.0215</text>\n<polyline fill=\"none\" stroke=\"black\" points=\"3856,-393.5 3856,-429.5 \"/>\n<text text-anchor=\"middle\" x=\"3897\" y=\"-407.8\" font-family=\"Times,serif\" font-size=\"14.00\">grad 0.0000</text>\n</g>\n<!-- 139521640831280&#45;&gt;139521640831472+ -->\n<g id=\"edge124\" class=\"edge\">\n<title>139521640831280&#45;&gt;139521640831472+</title>\n<path fill=\"none\" stroke=\"black\" d=\"M3938.16,-411.92C3969.57,-412.07 4002.85,-412.22 4027.3,-412.33\"/>\n<polygon fill=\"black\" stroke=\"black\" points=\"4027.52,-415.83 4037.53,-412.38 4027.55,-408.83 4027.52,-415.83\"/>\n</g>\n<!-- 139521640831280*&#45;&gt;139521640831280 -->\n<g id=\"edge58\" class=\"edge\">\n<title>139521640831280*&#45;&gt;139521640831280</title>\n<path fill=\"none\" stroke=\"black\" d=\"M3715.21,-411.5C3722.73,-411.5 3731.43,-411.5 3740.67,-411.5\"/>\n<polygon fill=\"black\" stroke=\"black\" points=\"3740.89,-415 3750.89,-411.5 3740.89,-408 3740.89,-415\"/>\n</g>\n<!-- 139521640733024 -->\n<g id=\"node157\" class=\"node\">\n<title>139521640733024</title>\n<polygon fill=\"none\" stroke=\"black\" points=\"934,-258.5 934,-294.5 1121,-294.5 1121,-258.5 934,-258.5\"/>\n<text text-anchor=\"middle\" x=\"944\" y=\"-272.8\" font-family=\"Times,serif\" font-size=\"14.00\"> </text>\n<polyline fill=\"none\" stroke=\"black\" points=\"954,-258.5 954,-294.5 \"/>\n<text text-anchor=\"middle\" x=\"996.5\" y=\"-272.8\" font-family=\"Times,serif\" font-size=\"14.00\">data &#45;0.5808</text>\n<polyline fill=\"none\" stroke=\"black\" points=\"1039,-258.5 1039,-294.5 \"/>\n<text text-anchor=\"middle\" x=\"1080\" y=\"-272.8\" font-family=\"Times,serif\" font-size=\"14.00\">grad 0.0000</text>\n</g>\n<!-- 139521640733024&#45;&gt;139521640738256+ -->\n<g id=\"edge202\" class=\"edge\">\n<title>139521640733024&#45;&gt;139521640738256+</title>\n<path fill=\"none\" stroke=\"black\" d=\"M1094.56,-294.55C1103.51,-297.36 1112.53,-300.37 1121,-303.5 1131.49,-307.38 1142.71,-312.22 1152.68,-316.78\"/>\n<polygon fill=\"black\" stroke=\"black\" points=\"1151.25,-319.98 1161.79,-321.03 1154.2,-313.63 1151.25,-319.98\"/>\n</g>\n<!-- 139521640733120 -->\n<g id=\"node158\" class=\"node\">\n<title>139521640733120</title>\n<polygon fill=\"none\" stroke=\"black\" points=\"934,-0.5 934,-36.5 1121,-36.5 1121,-0.5 934,-0.5\"/>\n<text text-anchor=\"middle\" x=\"944\" y=\"-14.8\" font-family=\"Times,serif\" font-size=\"14.00\"> </text>\n<polyline fill=\"none\" stroke=\"black\" points=\"954,-0.5 954,-36.5 \"/>\n<text text-anchor=\"middle\" x=\"996.5\" y=\"-14.8\" font-family=\"Times,serif\" font-size=\"14.00\">data &#45;0.2654</text>\n<polyline fill=\"none\" stroke=\"black\" points=\"1039,-0.5 1039,-36.5 \"/>\n<text text-anchor=\"middle\" x=\"1080\" y=\"-14.8\" font-family=\"Times,serif\" font-size=\"14.00\">grad 0.0000</text>\n</g>\n<!-- 139521640733120&#45;&gt;139521640736672* -->\n<g id=\"edge108\" class=\"edge\">\n<title>139521640733120&#45;&gt;139521640736672*</title>\n<path fill=\"none\" stroke=\"black\" d=\"M1121.05,-34.67C1130.34,-36.3 1139.33,-37.87 1147.44,-39.29\"/>\n<polygon fill=\"black\" stroke=\"black\" points=\"1147.1,-42.78 1157.55,-41.05 1148.3,-35.88 1147.1,-42.78\"/>\n</g>\n<!-- 139521640741328 -->\n<g id=\"node159\" class=\"node\">\n<title>139521640741328</title>\n<polygon fill=\"none\" stroke=\"black\" points=\"0,-739.5 0,-775.5 182,-775.5 182,-739.5 0,-739.5\"/>\n<text text-anchor=\"middle\" x=\"10\" y=\"-753.8\" font-family=\"Times,serif\" font-size=\"14.00\"> </text>\n<polyline fill=\"none\" stroke=\"black\" points=\"20,-739.5 20,-775.5 \"/>\n<text text-anchor=\"middle\" x=\"60\" y=\"-753.8\" font-family=\"Times,serif\" font-size=\"14.00\">data 2.0000</text>\n<polyline fill=\"none\" stroke=\"black\" points=\"100,-739.5 100,-775.5 \"/>\n<text text-anchor=\"middle\" x=\"141\" y=\"-753.8\" font-family=\"Times,serif\" font-size=\"14.00\">grad 0.0000</text>\n</g>\n<!-- 139521640741328&#45;&gt;139521640741472* -->\n<g id=\"edge75\" class=\"edge\">\n<title>139521640741328&#45;&gt;139521640741472*</title>\n<path fill=\"none\" stroke=\"black\" d=\"M182.18,-773.52C191.42,-775.16 200.38,-776.75 208.47,-778.19\"/>\n<polygon fill=\"black\" stroke=\"black\" points=\"208.1,-781.68 218.56,-779.98 209.32,-774.79 208.1,-781.68\"/>\n</g>\n<!-- 139521640831472 -->\n<g id=\"node160\" class=\"node\">\n<title>139521640831472</title>\n<polygon fill=\"none\" stroke=\"black\" points=\"4192,-394.5 4192,-430.5 4379,-430.5 4379,-394.5 4192,-394.5\"/>\n<text text-anchor=\"middle\" x=\"4202\" y=\"-408.8\" font-family=\"Times,serif\" font-size=\"14.00\"> </text>\n<polyline fill=\"none\" stroke=\"black\" points=\"4212,-394.5 4212,-430.5 \"/>\n<text text-anchor=\"middle\" x=\"4254.5\" y=\"-408.8\" font-family=\"Times,serif\" font-size=\"14.00\">data &#45;0.1722</text>\n<polyline fill=\"none\" stroke=\"black\" points=\"4297,-394.5 4297,-430.5 \"/>\n<text text-anchor=\"middle\" x=\"4338\" y=\"-408.8\" font-family=\"Times,serif\" font-size=\"14.00\">grad 0.0000</text>\n</g>\n<!-- 139521640831856+ -->\n<g id=\"node172\" class=\"node\">\n<title>139521640831856+</title>\n<ellipse fill=\"none\" stroke=\"black\" cx=\"4508.5\" cy=\"-412.5\" rx=\"27\" ry=\"18\"/>\n<text text-anchor=\"middle\" x=\"4508.5\" y=\"-408.8\" font-family=\"Times,serif\" font-size=\"14.00\">+</text>\n</g>\n<!-- 139521640831472&#45;&gt;139521640831856+ -->\n<g id=\"edge111\" class=\"edge\">\n<title>139521640831472&#45;&gt;139521640831856+</title>\n<path fill=\"none\" stroke=\"black\" d=\"M4379.26,-412.5C4411.72,-412.5 4446.27,-412.5 4471.32,-412.5\"/>\n<polygon fill=\"black\" stroke=\"black\" points=\"4471.44,-416 4481.44,-412.5 4471.44,-409 4471.44,-416\"/>\n</g>\n<!-- 139521640831472+&#45;&gt;139521640831472 -->\n<g id=\"edge59\" class=\"edge\">\n<title>139521640831472+&#45;&gt;139521640831472</title>\n<path fill=\"none\" stroke=\"black\" d=\"M4092.36,-412.5C4114.78,-412.5 4148.51,-412.5 4181.48,-412.5\"/>\n<polygon fill=\"black\" stroke=\"black\" points=\"4181.67,-416 4191.67,-412.5 4181.67,-409 4181.67,-416\"/>\n</g>\n<!-- 139521640733216 -->\n<g id=\"node162\" class=\"node\">\n<title>139521640733216</title>\n<polygon fill=\"none\" stroke=\"black\" points=\"1247,-192.5 1247,-228.5 1434,-228.5 1434,-192.5 1247,-192.5\"/>\n<text text-anchor=\"middle\" x=\"1257\" y=\"-206.8\" font-family=\"Times,serif\" font-size=\"14.00\"> </text>\n<polyline fill=\"none\" stroke=\"black\" points=\"1267,-192.5 1267,-228.5 \"/>\n<text text-anchor=\"middle\" x=\"1309.5\" y=\"-206.8\" font-family=\"Times,serif\" font-size=\"14.00\">data &#45;0.3768</text>\n<polyline fill=\"none\" stroke=\"black\" points=\"1352,-192.5 1352,-228.5 \"/>\n<text text-anchor=\"middle\" x=\"1393\" y=\"-206.8\" font-family=\"Times,serif\" font-size=\"14.00\">grad 0.0000</text>\n</g>\n<!-- 139521640733216&#45;&gt;139521640736624* -->\n<g id=\"edge89\" class=\"edge\">\n<title>139521640733216&#45;&gt;139521640736624*</title>\n<path fill=\"none\" stroke=\"black\" d=\"M1405.02,-192.35C1414.79,-189.24 1424.71,-185.92 1434,-182.5 1444.25,-178.73 1455.23,-174.14 1465.07,-169.82\"/>\n<polygon fill=\"black\" stroke=\"black\" points=\"1466.74,-172.9 1474.45,-165.63 1463.89,-166.51 1466.74,-172.9\"/>\n</g>\n<!-- 139521640733264 -->\n<g id=\"node163\" class=\"node\">\n<title>139521640733264</title>\n<polygon fill=\"none\" stroke=\"black\" points=\"1562.5,-247.5 1562.5,-283.5 1744.5,-283.5 1744.5,-247.5 1562.5,-247.5\"/>\n<text text-anchor=\"middle\" x=\"1572.5\" y=\"-261.8\" font-family=\"Times,serif\" font-size=\"14.00\"> </text>\n<polyline fill=\"none\" stroke=\"black\" points=\"1582.5,-247.5 1582.5,-283.5 \"/>\n<text text-anchor=\"middle\" x=\"1622.5\" y=\"-261.8\" font-family=\"Times,serif\" font-size=\"14.00\">data 0.3231</text>\n<polyline fill=\"none\" stroke=\"black\" points=\"1662.5,-247.5 1662.5,-283.5 \"/>\n<text text-anchor=\"middle\" x=\"1703.5\" y=\"-261.8\" font-family=\"Times,serif\" font-size=\"14.00\">grad 0.0000</text>\n</g>\n<!-- 139521640733264&#45;&gt;139521640736576* -->\n<g id=\"edge81\" class=\"edge\">\n<title>139521640733264&#45;&gt;139521640736576*</title>\n<path fill=\"none\" stroke=\"black\" d=\"M1718.02,-247.35C1727.79,-244.24 1737.71,-240.92 1747,-237.5 1757.25,-233.73 1768.23,-229.14 1778.07,-224.82\"/>\n<polygon fill=\"black\" stroke=\"black\" points=\"1779.74,-227.9 1787.45,-220.63 1776.89,-221.51 1779.74,-227.9\"/>\n</g>\n<!-- 139521640741472 -->\n<g id=\"node164\" class=\"node\">\n<title>139521640741472</title>\n<polygon fill=\"none\" stroke=\"black\" points=\"310.5,-766.5 310.5,-802.5 492.5,-802.5 492.5,-766.5 310.5,-766.5\"/>\n<text text-anchor=\"middle\" x=\"320.5\" y=\"-780.8\" font-family=\"Times,serif\" font-size=\"14.00\"> </text>\n<polyline fill=\"none\" stroke=\"black\" points=\"330.5,-766.5 330.5,-802.5 \"/>\n<text text-anchor=\"middle\" x=\"370.5\" y=\"-780.8\" font-family=\"Times,serif\" font-size=\"14.00\">data 0.1420</text>\n<polyline fill=\"none\" stroke=\"black\" points=\"410.5,-766.5 410.5,-802.5 \"/>\n<text text-anchor=\"middle\" x=\"451.5\" y=\"-780.8\" font-family=\"Times,serif\" font-size=\"14.00\">grad 0.0000</text>\n</g>\n<!-- 139521640741472&#45;&gt;139521640742624+ -->\n<g id=\"edge187\" class=\"edge\">\n<title>139521640741472&#45;&gt;139521640742624+</title>\n<path fill=\"none\" stroke=\"black\" d=\"M466.02,-802.65C475.79,-805.76 485.71,-809.08 495,-812.5 505.25,-816.27 516.23,-820.86 526.07,-825.18\"/>\n<polygon fill=\"black\" stroke=\"black\" points=\"524.89,-828.49 535.45,-829.37 527.74,-822.1 524.89,-828.49\"/>\n</g>\n<!-- 139521640741472*&#45;&gt;139521640741472 -->\n<g id=\"edge60\" class=\"edge\">\n<title>139521640741472*&#45;&gt;139521640741472</title>\n<path fill=\"none\" stroke=\"black\" d=\"M272.21,-784.5C280.34,-784.5 289.85,-784.5 299.94,-784.5\"/>\n<polygon fill=\"black\" stroke=\"black\" points=\"300.19,-788 310.19,-784.5 300.19,-781 300.19,-788\"/>\n</g>\n<!-- 139521640733312 -->\n<g id=\"node166\" class=\"node\">\n<title>139521640733312</title>\n<polygon fill=\"none\" stroke=\"black\" points=\"1249.5,-82.5 1249.5,-118.5 1431.5,-118.5 1431.5,-82.5 1249.5,-82.5\"/>\n<text text-anchor=\"middle\" x=\"1259.5\" y=\"-96.8\" font-family=\"Times,serif\" font-size=\"14.00\"> </text>\n<polyline fill=\"none\" stroke=\"black\" points=\"1269.5,-82.5 1269.5,-118.5 \"/>\n<text text-anchor=\"middle\" x=\"1309.5\" y=\"-96.8\" font-family=\"Times,serif\" font-size=\"14.00\">data 0.0941</text>\n<polyline fill=\"none\" stroke=\"black\" points=\"1349.5,-82.5 1349.5,-118.5 \"/>\n<text text-anchor=\"middle\" x=\"1390.5\" y=\"-96.8\" font-family=\"Times,serif\" font-size=\"14.00\">grad 0.0000</text>\n</g>\n<!-- 139521640733312&#45;&gt;139521640735904+ -->\n<g id=\"edge200\" class=\"edge\">\n<title>139521640733312&#45;&gt;139521640735904+</title>\n<path fill=\"none\" stroke=\"black\" d=\"M1431.82,-100.5C1441.57,-100.5 1451.04,-100.5 1459.57,-100.5\"/>\n<polygon fill=\"black\" stroke=\"black\" points=\"1459.83,-104 1469.83,-100.5 1459.83,-97 1459.83,-104\"/>\n</g>\n<!-- 139521640831664 -->\n<g id=\"node167\" class=\"node\">\n<title>139521640831664</title>\n<polygon fill=\"none\" stroke=\"black\" points=\"4194.5,-472.5 4194.5,-508.5 4376.5,-508.5 4376.5,-472.5 4194.5,-472.5\"/>\n<text text-anchor=\"middle\" x=\"4204.5\" y=\"-486.8\" font-family=\"Times,serif\" font-size=\"14.00\"> </text>\n<polyline fill=\"none\" stroke=\"black\" points=\"4214.5,-472.5 4214.5,-508.5 \"/>\n<text text-anchor=\"middle\" x=\"4254.5\" y=\"-486.8\" font-family=\"Times,serif\" font-size=\"14.00\">data 0.3005</text>\n<polyline fill=\"none\" stroke=\"black\" points=\"4294.5,-472.5 4294.5,-508.5 \"/>\n<text text-anchor=\"middle\" x=\"4335.5\" y=\"-486.8\" font-family=\"Times,serif\" font-size=\"14.00\">grad 0.0000</text>\n</g>\n<!-- 139521640831664&#45;&gt;139521640831856+ -->\n<g id=\"edge74\" class=\"edge\">\n<title>139521640831664&#45;&gt;139521640831856+</title>\n<path fill=\"none\" stroke=\"black\" d=\"M4337.76,-472.41C4379.95,-457.52 4438.5,-436.85 4474.65,-424.1\"/>\n<polygon fill=\"black\" stroke=\"black\" points=\"4475.95,-427.35 4484.21,-420.72 4473.62,-420.75 4475.95,-427.35\"/>\n</g>\n<!-- 139521640831664*&#45;&gt;139521640831664 -->\n<g id=\"edge61\" class=\"edge\">\n<title>139521640831664*&#45;&gt;139521640831664</title>\n<path fill=\"none\" stroke=\"black\" d=\"M3714.97,-519.19C3795.34,-515.14 4043.03,-502.66 4183.87,-495.57\"/>\n<polygon fill=\"black\" stroke=\"black\" points=\"4184.43,-499.05 4194.24,-495.05 4184.07,-492.05 4184.43,-499.05\"/>\n</g>\n<!-- 139521640733408 -->\n<g id=\"node169\" class=\"node\">\n<title>139521640733408</title>\n<polygon fill=\"none\" stroke=\"black\" points=\"1873,-852.5 1873,-888.5 2060,-888.5 2060,-852.5 1873,-852.5\"/>\n<text text-anchor=\"middle\" x=\"1883\" y=\"-866.8\" font-family=\"Times,serif\" font-size=\"14.00\"> </text>\n<polyline fill=\"none\" stroke=\"black\" points=\"1893,-852.5 1893,-888.5 \"/>\n<text text-anchor=\"middle\" x=\"1935.5\" y=\"-866.8\" font-family=\"Times,serif\" font-size=\"14.00\">data &#45;0.4900</text>\n<polyline fill=\"none\" stroke=\"black\" points=\"1978,-852.5 1978,-888.5 \"/>\n<text text-anchor=\"middle\" x=\"2019\" y=\"-866.8\" font-family=\"Times,serif\" font-size=\"14.00\">grad 0.0000</text>\n</g>\n<!-- 139521640733408&#45;&gt;139521640826576* -->\n<g id=\"edge82\" class=\"edge\">\n<title>139521640733408&#45;&gt;139521640826576*</title>\n<path fill=\"none\" stroke=\"black\" d=\"M2060.05,-870.5C2069.06,-870.5 2077.79,-870.5 2085.7,-870.5\"/>\n<polygon fill=\"black\" stroke=\"black\" points=\"2085.95,-874 2095.95,-870.5 2085.95,-867 2085.95,-874\"/>\n</g>\n<!-- 139521640733504 -->\n<g id=\"node170\" class=\"node\">\n<title>139521640733504</title>\n<polygon fill=\"none\" stroke=\"black\" points=\"1560,-852.5 1560,-888.5 1747,-888.5 1747,-852.5 1560,-852.5\"/>\n<text text-anchor=\"middle\" x=\"1570\" y=\"-866.8\" font-family=\"Times,serif\" font-size=\"14.00\"> </text>\n<polyline fill=\"none\" stroke=\"black\" points=\"1580,-852.5 1580,-888.5 \"/>\n<text text-anchor=\"middle\" x=\"1622.5\" y=\"-866.8\" font-family=\"Times,serif\" font-size=\"14.00\">data &#45;0.4772</text>\n<polyline fill=\"none\" stroke=\"black\" points=\"1665,-852.5 1665,-888.5 \"/>\n<text text-anchor=\"middle\" x=\"1706\" y=\"-866.8\" font-family=\"Times,serif\" font-size=\"14.00\">grad 0.0000</text>\n</g>\n<!-- 139521640733504&#45;&gt;139521640730288* -->\n<g id=\"edge80\" class=\"edge\">\n<title>139521640733504&#45;&gt;139521640730288*</title>\n<path fill=\"none\" stroke=\"black\" d=\"M1747.05,-870.5C1756.06,-870.5 1764.79,-870.5 1772.7,-870.5\"/>\n<polygon fill=\"black\" stroke=\"black\" points=\"1772.95,-874 1782.95,-870.5 1772.95,-867 1772.95,-874\"/>\n</g>\n<!-- 139521640831856 -->\n<g id=\"node171\" class=\"node\">\n<title>139521640831856</title>\n<polygon fill=\"none\" stroke=\"black\" points=\"4638,-386.5 4638,-422.5 4820,-422.5 4820,-386.5 4638,-386.5\"/>\n<text text-anchor=\"middle\" x=\"4648\" y=\"-400.8\" font-family=\"Times,serif\" font-size=\"14.00\"> </text>\n<polyline fill=\"none\" stroke=\"black\" points=\"4658,-386.5 4658,-422.5 \"/>\n<text text-anchor=\"middle\" x=\"4698\" y=\"-400.8\" font-family=\"Times,serif\" font-size=\"14.00\">data 0.1283</text>\n<polyline fill=\"none\" stroke=\"black\" points=\"4738,-386.5 4738,-422.5 \"/>\n<text text-anchor=\"middle\" x=\"4779\" y=\"-400.8\" font-family=\"Times,serif\" font-size=\"14.00\">grad 0.0000</text>\n</g>\n<!-- 139521640832240+ -->\n<g id=\"node181\" class=\"node\">\n<title>139521640832240+</title>\n<ellipse fill=\"none\" stroke=\"black\" cx=\"4883\" cy=\"-353.5\" rx=\"27\" ry=\"18\"/>\n<text text-anchor=\"middle\" x=\"4883\" y=\"-349.8\" font-family=\"Times,serif\" font-size=\"14.00\">+</text>\n</g>\n<!-- 139521640831856&#45;&gt;139521640832240+ -->\n<g id=\"edge205\" class=\"edge\">\n<title>139521640831856&#45;&gt;139521640832240+</title>\n<path fill=\"none\" stroke=\"black\" d=\"M4784.02,-386.38C4805.72,-379.1 4830.03,-370.94 4849.01,-364.57\"/>\n<polygon fill=\"black\" stroke=\"black\" points=\"4850.31,-367.82 4858.68,-361.32 4848.09,-361.19 4850.31,-367.82\"/>\n</g>\n<!-- 139521640831856+&#45;&gt;139521640831856 -->\n<g id=\"edge62\" class=\"edge\">\n<title>139521640831856+&#45;&gt;139521640831856</title>\n<path fill=\"none\" stroke=\"black\" d=\"M4535.86,-411.54C4558.79,-410.7 4593.56,-409.42 4627.24,-408.19\"/>\n<polygon fill=\"black\" stroke=\"black\" points=\"4627.78,-411.67 4637.65,-407.81 4627.53,-404.68 4627.78,-411.67\"/>\n</g>\n<!-- 139521640733600 -->\n<g id=\"node173\" class=\"node\">\n<title>139521640733600</title>\n<polygon fill=\"none\" stroke=\"black\" points=\"1873,-742.5 1873,-778.5 2060,-778.5 2060,-742.5 1873,-742.5\"/>\n<text text-anchor=\"middle\" x=\"1883\" y=\"-756.8\" font-family=\"Times,serif\" font-size=\"14.00\"> </text>\n<polyline fill=\"none\" stroke=\"black\" points=\"1893,-742.5 1893,-778.5 \"/>\n<text text-anchor=\"middle\" x=\"1935.5\" y=\"-756.8\" font-family=\"Times,serif\" font-size=\"14.00\">data &#45;0.3745</text>\n<polyline fill=\"none\" stroke=\"black\" points=\"1978,-742.5 1978,-778.5 \"/>\n<text text-anchor=\"middle\" x=\"2019\" y=\"-756.8\" font-family=\"Times,serif\" font-size=\"14.00\">grad 0.0000</text>\n</g>\n<!-- 139521640733600&#45;&gt;139521640735520+ -->\n<g id=\"edge191\" class=\"edge\">\n<title>139521640733600&#45;&gt;139521640735520+</title>\n<path fill=\"none\" stroke=\"black\" d=\"M2060.05,-760.5C2069.06,-760.5 2077.79,-760.5 2085.7,-760.5\"/>\n<polygon fill=\"black\" stroke=\"black\" points=\"2085.95,-764 2095.95,-760.5 2085.95,-757 2085.95,-764\"/>\n</g>\n<!-- 139521640733648 -->\n<g id=\"node174\" class=\"node\">\n<title>139521640733648</title>\n<polygon fill=\"none\" stroke=\"black\" points=\"2499,-364.5 2499,-400.5 2686,-400.5 2686,-364.5 2499,-364.5\"/>\n<text text-anchor=\"middle\" x=\"2509\" y=\"-378.8\" font-family=\"Times,serif\" font-size=\"14.00\"> </text>\n<polyline fill=\"none\" stroke=\"black\" points=\"2519,-364.5 2519,-400.5 \"/>\n<text text-anchor=\"middle\" x=\"2561.5\" y=\"-378.8\" font-family=\"Times,serif\" font-size=\"14.00\">data &#45;0.9212</text>\n<polyline fill=\"none\" stroke=\"black\" points=\"2604,-364.5 2604,-400.5 \"/>\n<text text-anchor=\"middle\" x=\"2645\" y=\"-378.8\" font-family=\"Times,serif\" font-size=\"14.00\">grad 0.0000</text>\n</g>\n<!-- 139521640733648&#45;&gt;139521640734272* -->\n<g id=\"edge118\" class=\"edge\">\n<title>139521640733648&#45;&gt;139521640734272*</title>\n<path fill=\"none\" stroke=\"black\" d=\"M2686.05,-382.5C2695.06,-382.5 2703.79,-382.5 2711.7,-382.5\"/>\n<polygon fill=\"black\" stroke=\"black\" points=\"2711.95,-386 2721.95,-382.5 2711.95,-379 2711.95,-386\"/>\n</g>\n<!-- 139521640733696 -->\n<g id=\"node175\" class=\"node\">\n<title>139521640733696</title>\n<polygon fill=\"none\" stroke=\"black\" points=\"2188.5,-522.5 2188.5,-558.5 2370.5,-558.5 2370.5,-522.5 2188.5,-522.5\"/>\n<text text-anchor=\"middle\" x=\"2198.5\" y=\"-536.8\" font-family=\"Times,serif\" font-size=\"14.00\"> </text>\n<polyline fill=\"none\" stroke=\"black\" points=\"2208.5,-522.5 2208.5,-558.5 \"/>\n<text text-anchor=\"middle\" x=\"2248.5\" y=\"-536.8\" font-family=\"Times,serif\" font-size=\"14.00\">data 0.7559</text>\n<polyline fill=\"none\" stroke=\"black\" points=\"2288.5,-522.5 2288.5,-558.5 \"/>\n<text text-anchor=\"middle\" x=\"2329.5\" y=\"-536.8\" font-family=\"Times,serif\" font-size=\"14.00\">grad 0.0000</text>\n</g>\n<!-- 139521640733696&#45;&gt;139521640734704* -->\n<g id=\"edge182\" class=\"edge\">\n<title>139521640733696&#45;&gt;139521640734704*</title>\n<path fill=\"none\" stroke=\"black\" d=\"M2370.82,-540.5C2380.57,-540.5 2390.04,-540.5 2398.57,-540.5\"/>\n<polygon fill=\"black\" stroke=\"black\" points=\"2398.83,-544 2408.83,-540.5 2398.83,-537 2398.83,-544\"/>\n</g>\n<!-- 139521640832048 -->\n<g id=\"node176\" class=\"node\">\n<title>139521640832048</title>\n<polygon fill=\"none\" stroke=\"black\" points=\"4415,-335.5 4415,-371.5 4602,-371.5 4602,-335.5 4415,-335.5\"/>\n<text text-anchor=\"middle\" x=\"4425\" y=\"-349.8\" font-family=\"Times,serif\" font-size=\"14.00\"> </text>\n<polyline fill=\"none\" stroke=\"black\" points=\"4435,-335.5 4435,-371.5 \"/>\n<text text-anchor=\"middle\" x=\"4477.5\" y=\"-349.8\" font-family=\"Times,serif\" font-size=\"14.00\">data &#45;0.1373</text>\n<polyline fill=\"none\" stroke=\"black\" points=\"4520,-335.5 4520,-371.5 \"/>\n<text text-anchor=\"middle\" x=\"4561\" y=\"-349.8\" font-family=\"Times,serif\" font-size=\"14.00\">grad 0.0000</text>\n</g>\n<!-- 139521640832048&#45;&gt;139521640832240+ -->\n<g id=\"edge143\" class=\"edge\">\n<title>139521640832048&#45;&gt;139521640832240+</title>\n<path fill=\"none\" stroke=\"black\" d=\"M4602.06,-353.5C4680.8,-353.5 4789.75,-353.5 4845.68,-353.5\"/>\n<polygon fill=\"black\" stroke=\"black\" points=\"4845.81,-357 4855.81,-353.5 4845.81,-350 4845.81,-357\"/>\n</g>\n<!-- 139521640832048*&#45;&gt;139521640832048 -->\n<g id=\"edge63\" class=\"edge\">\n<title>139521640832048*&#45;&gt;139521640832048</title>\n<path fill=\"none\" stroke=\"black\" d=\"M3715.31,-353.5C3820.56,-353.5 4214.83,-353.5 4404.42,-353.5\"/>\n<polygon fill=\"black\" stroke=\"black\" points=\"4404.67,-357 4414.67,-353.5 4404.67,-350 4404.67,-357\"/>\n</g>\n<!-- 139521640733744 -->\n<g id=\"node178\" class=\"node\">\n<title>139521640733744</title>\n<polygon fill=\"none\" stroke=\"black\" points=\"1873,-797.5 1873,-833.5 2060,-833.5 2060,-797.5 1873,-797.5\"/>\n<text text-anchor=\"middle\" x=\"1883\" y=\"-811.8\" font-family=\"Times,serif\" font-size=\"14.00\"> </text>\n<polyline fill=\"none\" stroke=\"black\" points=\"1893,-797.5 1893,-833.5 \"/>\n<text text-anchor=\"middle\" x=\"1935.5\" y=\"-811.8\" font-family=\"Times,serif\" font-size=\"14.00\">data &#45;0.6402</text>\n<polyline fill=\"none\" stroke=\"black\" points=\"1978,-797.5 1978,-833.5 \"/>\n<text text-anchor=\"middle\" x=\"2019\" y=\"-811.8\" font-family=\"Times,serif\" font-size=\"14.00\">grad 0.0000</text>\n</g>\n<!-- 139521640733744&#45;&gt;139521640735712* -->\n<g id=\"edge145\" class=\"edge\">\n<title>139521640733744&#45;&gt;139521640735712*</title>\n<path fill=\"none\" stroke=\"black\" d=\"M2060.05,-815.5C2069.06,-815.5 2077.79,-815.5 2085.7,-815.5\"/>\n<polygon fill=\"black\" stroke=\"black\" points=\"2085.95,-819 2095.95,-815.5 2085.95,-812 2085.95,-819\"/>\n</g>\n<!-- 139521640733840 -->\n<g id=\"node179\" class=\"node\">\n<title>139521640733840</title>\n<polygon fill=\"none\" stroke=\"black\" points=\"1562.5,-741.5 1562.5,-777.5 1744.5,-777.5 1744.5,-741.5 1562.5,-741.5\"/>\n<text text-anchor=\"middle\" x=\"1572.5\" y=\"-755.8\" font-family=\"Times,serif\" font-size=\"14.00\"> </text>\n<polyline fill=\"none\" stroke=\"black\" points=\"1582.5,-741.5 1582.5,-777.5 \"/>\n<text text-anchor=\"middle\" x=\"1622.5\" y=\"-755.8\" font-family=\"Times,serif\" font-size=\"14.00\">data 0.6175</text>\n<polyline fill=\"none\" stroke=\"black\" points=\"1662.5,-741.5 1662.5,-777.5 \"/>\n<text text-anchor=\"middle\" x=\"1703.5\" y=\"-755.8\" font-family=\"Times,serif\" font-size=\"14.00\">grad 0.0000</text>\n</g>\n<!-- 139521640733840&#45;&gt;139521640735232* -->\n<g id=\"edge146\" class=\"edge\">\n<title>139521640733840&#45;&gt;139521640735232*</title>\n<path fill=\"none\" stroke=\"black\" d=\"M1720.03,-741.5C1729.14,-738.66 1738.35,-735.63 1747,-732.5 1757.27,-728.78 1768.26,-724.2 1778.09,-719.88\"/>\n<polygon fill=\"black\" stroke=\"black\" points=\"1779.77,-722.96 1787.47,-715.68 1776.91,-716.57 1779.77,-722.96\"/>\n</g>\n<!-- 139521640832240 -->\n<g id=\"node180\" class=\"node\">\n<title>139521640832240</title>\n<polygon fill=\"none\" stroke=\"black\" points=\"4946,-335.5 4946,-371.5 5133,-371.5 5133,-335.5 4946,-335.5\"/>\n<text text-anchor=\"middle\" x=\"4956\" y=\"-349.8\" font-family=\"Times,serif\" font-size=\"14.00\"> </text>\n<polyline fill=\"none\" stroke=\"black\" points=\"4966,-335.5 4966,-371.5 \"/>\n<text text-anchor=\"middle\" x=\"5008.5\" y=\"-349.8\" font-family=\"Times,serif\" font-size=\"14.00\">data &#45;0.0090</text>\n<polyline fill=\"none\" stroke=\"black\" points=\"5051,-335.5 5051,-371.5 \"/>\n<text text-anchor=\"middle\" x=\"5092\" y=\"-349.8\" font-family=\"Times,serif\" font-size=\"14.00\">grad 0.0000</text>\n</g>\n<!-- 139521640832624+ -->\n<g id=\"node191\" class=\"node\">\n<title>139521640832624+</title>\n<ellipse fill=\"none\" stroke=\"black\" cx=\"5196\" cy=\"-329.5\" rx=\"27\" ry=\"18\"/>\n<text text-anchor=\"middle\" x=\"5196\" y=\"-325.8\" font-family=\"Times,serif\" font-size=\"14.00\">+</text>\n</g>\n<!-- 139521640832240&#45;&gt;139521640832624+ -->\n<g id=\"edge169\" class=\"edge\">\n<title>139521640832240&#45;&gt;139521640832624+</title>\n<path fill=\"none\" stroke=\"black\" d=\"M5133.05,-339.12C5142.34,-337.68 5151.33,-336.28 5159.44,-335.02\"/>\n<polygon fill=\"black\" stroke=\"black\" points=\"5160.21,-338.45 5169.55,-333.45 5159.13,-331.53 5160.21,-338.45\"/>\n</g>\n<!-- 139521640832240+&#45;&gt;139521640832240 -->\n<g id=\"edge64\" class=\"edge\">\n<title>139521640832240+&#45;&gt;139521640832240</title>\n<path fill=\"none\" stroke=\"black\" d=\"M4910.21,-353.5C4917.73,-353.5 4926.43,-353.5 4935.67,-353.5\"/>\n<polygon fill=\"black\" stroke=\"black\" points=\"4935.89,-357 4945.89,-353.5 4935.89,-350 4935.89,-357\"/>\n</g>\n<!-- 139521640734032 -->\n<g id=\"node182\" class=\"node\">\n<title>139521640734032</title>\n<polygon fill=\"none\" stroke=\"black\" points=\"3127.5,-392.5 3127.5,-428.5 3309.5,-428.5 3309.5,-392.5 3127.5,-392.5\"/>\n<text text-anchor=\"middle\" x=\"3137.5\" y=\"-406.8\" font-family=\"Times,serif\" font-size=\"14.00\"> </text>\n<polyline fill=\"none\" stroke=\"black\" points=\"3147.5,-392.5 3147.5,-428.5 \"/>\n<text text-anchor=\"middle\" x=\"3187.5\" y=\"-406.8\" font-family=\"Times,serif\" font-size=\"14.00\">data 0.6001</text>\n<polyline fill=\"none\" stroke=\"black\" points=\"3227.5,-392.5 3227.5,-428.5 \"/>\n<text text-anchor=\"middle\" x=\"3268.5\" y=\"-406.8\" font-family=\"Times,serif\" font-size=\"14.00\">grad 0.0000</text>\n</g>\n<!-- 139521640734080tanh -->\n<g id=\"node185\" class=\"node\">\n<title>139521640734080tanh</title>\n<ellipse fill=\"none\" stroke=\"black\" cx=\"3375\" cy=\"-410.5\" rx=\"27\" ry=\"18\"/>\n<text text-anchor=\"middle\" x=\"3375\" y=\"-406.8\" font-family=\"Times,serif\" font-size=\"14.00\">tanh</text>\n</g>\n<!-- 139521640734032&#45;&gt;139521640734080tanh -->\n<g id=\"edge196\" class=\"edge\">\n<title>139521640734032&#45;&gt;139521640734080tanh</title>\n<path fill=\"none\" stroke=\"black\" d=\"M3309.82,-410.5C3319.57,-410.5 3329.04,-410.5 3337.57,-410.5\"/>\n<polygon fill=\"black\" stroke=\"black\" points=\"3337.83,-414 3347.83,-410.5 3337.83,-407 3337.83,-414\"/>\n</g>\n<!-- 139521640734032+ -->\n<g id=\"node183\" class=\"node\">\n<title>139521640734032+</title>\n<ellipse fill=\"none\" stroke=\"black\" cx=\"3062\" cy=\"-410.5\" rx=\"27\" ry=\"18\"/>\n<text text-anchor=\"middle\" x=\"3062\" y=\"-406.8\" font-family=\"Times,serif\" font-size=\"14.00\">+</text>\n</g>\n<!-- 139521640734032+&#45;&gt;139521640734032 -->\n<g id=\"edge65\" class=\"edge\">\n<title>139521640734032+&#45;&gt;139521640734032</title>\n<path fill=\"none\" stroke=\"black\" d=\"M3089.21,-410.5C3097.34,-410.5 3106.85,-410.5 3116.94,-410.5\"/>\n<polygon fill=\"black\" stroke=\"black\" points=\"3117.19,-414 3127.19,-410.5 3117.19,-407 3117.19,-414\"/>\n</g>\n<!-- 139521640734080 -->\n<g id=\"node184\" class=\"node\">\n<title>139521640734080</title>\n<polygon fill=\"none\" stroke=\"black\" points=\"3440.5,-392.5 3440.5,-428.5 3622.5,-428.5 3622.5,-392.5 3440.5,-392.5\"/>\n<text text-anchor=\"middle\" x=\"3450.5\" y=\"-406.8\" font-family=\"Times,serif\" font-size=\"14.00\"> </text>\n<polyline fill=\"none\" stroke=\"black\" points=\"3460.5,-392.5 3460.5,-428.5 \"/>\n<text text-anchor=\"middle\" x=\"3500.5\" y=\"-406.8\" font-family=\"Times,serif\" font-size=\"14.00\">data 0.5372</text>\n<polyline fill=\"none\" stroke=\"black\" points=\"3540.5,-392.5 3540.5,-428.5 \"/>\n<text text-anchor=\"middle\" x=\"3581.5\" y=\"-406.8\" font-family=\"Times,serif\" font-size=\"14.00\">grad 0.0000</text>\n</g>\n<!-- 139521640734080&#45;&gt;139521640831280* -->\n<g id=\"edge125\" class=\"edge\">\n<title>139521640734080&#45;&gt;139521640831280*</title>\n<path fill=\"none\" stroke=\"black\" d=\"M3622.82,-411.08C3632.57,-411.15 3642.04,-411.21 3650.57,-411.26\"/>\n<polygon fill=\"black\" stroke=\"black\" points=\"3650.81,-414.77 3660.83,-411.33 3650.85,-407.77 3650.81,-414.77\"/>\n</g>\n<!-- 139521640734080tanh&#45;&gt;139521640734080 -->\n<g id=\"edge66\" class=\"edge\">\n<title>139521640734080tanh&#45;&gt;139521640734080</title>\n<path fill=\"none\" stroke=\"black\" d=\"M3402.21,-410.5C3410.34,-410.5 3419.85,-410.5 3429.94,-410.5\"/>\n<polygon fill=\"black\" stroke=\"black\" points=\"3430.19,-414 3440.19,-410.5 3430.19,-407 3430.19,-414\"/>\n</g>\n<!-- 139521640832432 -->\n<g id=\"node186\" class=\"node\">\n<title>139521640832432</title>\n<polygon fill=\"none\" stroke=\"black\" points=\"3974,-272.5 3974,-308.5 4156,-308.5 4156,-272.5 3974,-272.5\"/>\n<text text-anchor=\"middle\" x=\"3984\" y=\"-286.8\" font-family=\"Times,serif\" font-size=\"14.00\"> </text>\n<polyline fill=\"none\" stroke=\"black\" points=\"3994,-272.5 3994,-308.5 \"/>\n<text text-anchor=\"middle\" x=\"4034\" y=\"-286.8\" font-family=\"Times,serif\" font-size=\"14.00\">data 0.0434</text>\n<polyline fill=\"none\" stroke=\"black\" points=\"4074,-272.5 4074,-308.5 \"/>\n<text text-anchor=\"middle\" x=\"4115\" y=\"-286.8\" font-family=\"Times,serif\" font-size=\"14.00\">grad 0.0000</text>\n</g>\n<!-- 139521640832432&#45;&gt;139521640832624+ -->\n<g id=\"edge113\" class=\"edge\">\n<title>139521640832432&#45;&gt;139521640832624+</title>\n<path fill=\"none\" stroke=\"black\" d=\"M4156.02,-295.67C4245.21,-300.35 4385.74,-306.5 4507.5,-306.5 4507.5,-306.5 4507.5,-306.5 4884,-306.5 4983.9,-306.5 5101.35,-318.45 5159.16,-325.12\"/>\n<polygon fill=\"black\" stroke=\"black\" points=\"5158.9,-328.62 5169.24,-326.3 5159.72,-321.66 5158.9,-328.62\"/>\n</g>\n<!-- 139521640832432*&#45;&gt;139521640832432 -->\n<g id=\"edge67\" class=\"edge\">\n<title>139521640832432*&#45;&gt;139521640832432</title>\n<path fill=\"none\" stroke=\"black\" d=\"M3714.78,-248.59C3765.26,-254.65 3879.58,-268.37 3963.74,-278.47\"/>\n<polygon fill=\"black\" stroke=\"black\" points=\"3963.5,-281.96 3973.84,-279.68 3964.33,-275.01 3963.5,-281.96\"/>\n</g>\n<!-- 139521640734272 -->\n<g id=\"node188\" class=\"node\">\n<title>139521640734272</title>\n<polygon fill=\"none\" stroke=\"black\" points=\"2814.5,-364.5 2814.5,-400.5 2996.5,-400.5 2996.5,-364.5 2814.5,-364.5\"/>\n<text text-anchor=\"middle\" x=\"2824.5\" y=\"-378.8\" font-family=\"Times,serif\" font-size=\"14.00\"> </text>\n<polyline fill=\"none\" stroke=\"black\" points=\"2834.5,-364.5 2834.5,-400.5 \"/>\n<text text-anchor=\"middle\" x=\"2874.5\" y=\"-378.8\" font-family=\"Times,serif\" font-size=\"14.00\">data 0.8801</text>\n<polyline fill=\"none\" stroke=\"black\" points=\"2914.5,-364.5 2914.5,-400.5 \"/>\n<text text-anchor=\"middle\" x=\"2955.5\" y=\"-378.8\" font-family=\"Times,serif\" font-size=\"14.00\">grad 0.0000</text>\n</g>\n<!-- 139521640734272&#45;&gt;139521640734032+ -->\n<g id=\"edge98\" class=\"edge\">\n<title>139521640734272&#45;&gt;139521640734032+</title>\n<path fill=\"none\" stroke=\"black\" d=\"M2996.82,-398.87C3007.07,-400.73 3017.01,-402.53 3025.88,-404.13\"/>\n<polygon fill=\"black\" stroke=\"black\" points=\"3025.29,-407.58 3035.75,-405.92 3026.54,-400.7 3025.29,-407.58\"/>\n</g>\n<!-- 139521640734272*&#45;&gt;139521640734272 -->\n<g id=\"edge68\" class=\"edge\">\n<title>139521640734272*&#45;&gt;139521640734272</title>\n<path fill=\"none\" stroke=\"black\" d=\"M2776.21,-382.5C2784.34,-382.5 2793.85,-382.5 2803.94,-382.5\"/>\n<polygon fill=\"black\" stroke=\"black\" points=\"2804.19,-386 2814.19,-382.5 2804.19,-379 2804.19,-386\"/>\n</g>\n<!-- 139521640832624 -->\n<g id=\"node190\" class=\"node\">\n<title>139521640832624</title>\n<polygon fill=\"none\" stroke=\"black\" points=\"5259,-311.5 5259,-347.5 5441,-347.5 5441,-311.5 5259,-311.5\"/>\n<text text-anchor=\"middle\" x=\"5269\" y=\"-325.8\" font-family=\"Times,serif\" font-size=\"14.00\"> </text>\n<polyline fill=\"none\" stroke=\"black\" points=\"5279,-311.5 5279,-347.5 \"/>\n<text text-anchor=\"middle\" x=\"5319\" y=\"-325.8\" font-family=\"Times,serif\" font-size=\"14.00\">data 0.0343</text>\n<polyline fill=\"none\" stroke=\"black\" points=\"5359,-311.5 5359,-347.5 \"/>\n<text text-anchor=\"middle\" x=\"5400\" y=\"-325.8\" font-family=\"Times,serif\" font-size=\"14.00\">grad 0.0000</text>\n</g>\n<!-- 139521640832720tanh -->\n<g id=\"node193\" class=\"node\">\n<title>139521640832720tanh</title>\n<ellipse fill=\"none\" stroke=\"black\" cx=\"5504\" cy=\"-329.5\" rx=\"27\" ry=\"18\"/>\n<text text-anchor=\"middle\" x=\"5504\" y=\"-325.8\" font-family=\"Times,serif\" font-size=\"14.00\">tanh</text>\n</g>\n<!-- 139521640832624&#45;&gt;139521640832720tanh -->\n<g id=\"edge135\" class=\"edge\">\n<title>139521640832624&#45;&gt;139521640832720tanh</title>\n<path fill=\"none\" stroke=\"black\" d=\"M5441.18,-329.5C5450.14,-329.5 5458.83,-329.5 5466.73,-329.5\"/>\n<polygon fill=\"black\" stroke=\"black\" points=\"5466.96,-333 5476.96,-329.5 5466.96,-326 5466.96,-333\"/>\n</g>\n<!-- 139521640832624+&#45;&gt;139521640832624 -->\n<g id=\"edge69\" class=\"edge\">\n<title>139521640832624+&#45;&gt;139521640832624</title>\n<path fill=\"none\" stroke=\"black\" d=\"M5223.13,-329.5C5230.67,-329.5 5239.39,-329.5 5248.64,-329.5\"/>\n<polygon fill=\"black\" stroke=\"black\" points=\"5248.87,-333 5258.87,-329.5 5248.87,-326 5248.87,-333\"/>\n</g>\n<!-- 139521640832720 -->\n<g id=\"node192\" class=\"node\">\n<title>139521640832720</title>\n<polygon fill=\"none\" stroke=\"black\" points=\"5567,-311.5 5567,-347.5 5749,-347.5 5749,-311.5 5567,-311.5\"/>\n<text text-anchor=\"middle\" x=\"5577\" y=\"-325.8\" font-family=\"Times,serif\" font-size=\"14.00\"> </text>\n<polyline fill=\"none\" stroke=\"black\" points=\"5587,-311.5 5587,-347.5 \"/>\n<text text-anchor=\"middle\" x=\"5627\" y=\"-325.8\" font-family=\"Times,serif\" font-size=\"14.00\">data 0.0343</text>\n<polyline fill=\"none\" stroke=\"black\" points=\"5667,-311.5 5667,-347.5 \"/>\n<text text-anchor=\"middle\" x=\"5708\" y=\"-325.8\" font-family=\"Times,serif\" font-size=\"14.00\">grad 0.0000</text>\n</g>\n<!-- 139521640832720tanh&#45;&gt;139521640832720 -->\n<g id=\"edge70\" class=\"edge\">\n<title>139521640832720tanh&#45;&gt;139521640832720</title>\n<path fill=\"none\" stroke=\"black\" d=\"M5531.13,-329.5C5538.67,-329.5 5547.39,-329.5 5556.64,-329.5\"/>\n<polygon fill=\"black\" stroke=\"black\" points=\"5556.87,-333 5566.87,-329.5 5556.87,-326 5556.87,-333\"/>\n</g>\n<!-- 139521640742624 -->\n<g id=\"node194\" class=\"node\">\n<title>139521640742624</title>\n<polygon fill=\"none\" stroke=\"black\" points=\"623.5,-821.5 623.5,-857.5 805.5,-857.5 805.5,-821.5 623.5,-821.5\"/>\n<text text-anchor=\"middle\" x=\"633.5\" y=\"-835.8\" font-family=\"Times,serif\" font-size=\"14.00\"> </text>\n<polyline fill=\"none\" stroke=\"black\" points=\"643.5,-821.5 643.5,-857.5 \"/>\n<text text-anchor=\"middle\" x=\"683.5\" y=\"-835.8\" font-family=\"Times,serif\" font-size=\"14.00\">data 0.4380</text>\n<polyline fill=\"none\" stroke=\"black\" points=\"723.5,-821.5 723.5,-857.5 \"/>\n<text text-anchor=\"middle\" x=\"764.5\" y=\"-835.8\" font-family=\"Times,serif\" font-size=\"14.00\">grad 0.0000</text>\n</g>\n<!-- 139521640742624&#45;&gt;139521640740176+ -->\n<g id=\"edge158\" class=\"edge\">\n<title>139521640742624&#45;&gt;139521640740176+</title>\n<path fill=\"none\" stroke=\"black\" d=\"M805.82,-839.5C815.57,-839.5 825.04,-839.5 833.57,-839.5\"/>\n<polygon fill=\"black\" stroke=\"black\" points=\"833.83,-843 843.83,-839.5 833.83,-836 833.83,-843\"/>\n</g>\n<!-- 139521640742624+&#45;&gt;139521640742624 -->\n<g id=\"edge71\" class=\"edge\">\n<title>139521640742624+&#45;&gt;139521640742624</title>\n<path fill=\"none\" stroke=\"black\" d=\"M585.21,-839.5C593.34,-839.5 602.85,-839.5 612.94,-839.5\"/>\n<polygon fill=\"black\" stroke=\"black\" points=\"613.19,-843 623.19,-839.5 613.19,-836 613.19,-843\"/>\n</g>\n<!-- 139521640734464 -->\n<g id=\"node196\" class=\"node\">\n<title>139521640734464</title>\n<polygon fill=\"none\" stroke=\"black\" points=\"2812,-529.5 2812,-565.5 2999,-565.5 2999,-529.5 2812,-529.5\"/>\n<text text-anchor=\"middle\" x=\"2822\" y=\"-543.8\" font-family=\"Times,serif\" font-size=\"14.00\"> </text>\n<polyline fill=\"none\" stroke=\"black\" points=\"2832,-529.5 2832,-565.5 \"/>\n<text text-anchor=\"middle\" x=\"2874.5\" y=\"-543.8\" font-family=\"Times,serif\" font-size=\"14.00\">data &#45;0.2799</text>\n<polyline fill=\"none\" stroke=\"black\" points=\"2917,-529.5 2917,-565.5 \"/>\n<text text-anchor=\"middle\" x=\"2958\" y=\"-543.8\" font-family=\"Times,serif\" font-size=\"14.00\">grad 0.0000</text>\n</g>\n<!-- 139521640734464&#45;&gt;139521640734032+ -->\n<g id=\"edge188\" class=\"edge\">\n<title>139521640734464&#45;&gt;139521640734032+</title>\n<path fill=\"none\" stroke=\"black\" d=\"M2985.39,-529.3C2990.22,-526.75 2994.81,-523.83 2999,-520.5 3025.87,-499.18 3043.05,-462.84 3052.35,-437.8\"/>\n<polygon fill=\"black\" stroke=\"black\" points=\"3055.73,-438.75 3055.75,-428.16 3049.13,-436.42 3055.73,-438.75\"/>\n</g>\n<!-- 139521640734464+&#45;&gt;139521640734464 -->\n<g id=\"edge72\" class=\"edge\">\n<title>139521640734464+&#45;&gt;139521640734464</title>\n<path fill=\"none\" stroke=\"black\" d=\"M2776.21,-547.5C2783.73,-547.5 2792.43,-547.5 2801.67,-547.5\"/>\n<polygon fill=\"black\" stroke=\"black\" points=\"2801.89,-551 2811.89,-547.5 2801.89,-544 2801.89,-551\"/>\n</g>\n<!-- 139521640734704 -->\n<g id=\"node198\" class=\"node\">\n<title>139521640734704</title>\n<polygon fill=\"none\" stroke=\"black\" points=\"2499,-529.5 2499,-565.5 2686,-565.5 2686,-529.5 2499,-529.5\"/>\n<text text-anchor=\"middle\" x=\"2509\" y=\"-543.8\" font-family=\"Times,serif\" font-size=\"14.00\"> </text>\n<polyline fill=\"none\" stroke=\"black\" points=\"2519,-529.5 2519,-565.5 \"/>\n<text text-anchor=\"middle\" x=\"2561.5\" y=\"-543.8\" font-family=\"Times,serif\" font-size=\"14.00\">data &#45;0.6448</text>\n<polyline fill=\"none\" stroke=\"black\" points=\"2604,-529.5 2604,-565.5 \"/>\n<text text-anchor=\"middle\" x=\"2645\" y=\"-543.8\" font-family=\"Times,serif\" font-size=\"14.00\">grad 0.0000</text>\n</g>\n<!-- 139521640734704&#45;&gt;139521640734464+ -->\n<g id=\"edge198\" class=\"edge\">\n<title>139521640734704&#45;&gt;139521640734464+</title>\n<path fill=\"none\" stroke=\"black\" d=\"M2686.05,-547.5C2695.06,-547.5 2703.79,-547.5 2711.7,-547.5\"/>\n<polygon fill=\"black\" stroke=\"black\" points=\"2711.95,-551 2721.95,-547.5 2711.95,-544 2711.95,-551\"/>\n</g>\n<!-- 139521640734704*&#45;&gt;139521640734704 -->\n<g id=\"edge73\" class=\"edge\">\n<title>139521640734704*&#45;&gt;139521640734704</title>\n<path fill=\"none\" stroke=\"black\" d=\"M2463.21,-541.69C2470.73,-542.03 2479.43,-542.42 2488.67,-542.84\"/>\n<polygon fill=\"black\" stroke=\"black\" points=\"2488.74,-546.35 2498.89,-543.3 2489.06,-539.35 2488.74,-546.35\"/>\n</g>\n</g>\n</svg>\n",
            "text/plain": [
              "<graphviz.graphs.Digraph at 0x7ee4e9d5bc40>"
            ]
          },
          "metadata": {},
          "execution_count": 25
        }
      ]
    },
    {
      "cell_type": "code",
      "source": [
        "# Running a binary classifier NN\n",
        "xs = [\n",
        "    [2,3,-1],  # each sub list inside the xs list is the input for the NN\n",
        "    [3,-1,0.5],\n",
        "    [0.5,1,1],\n",
        "    [1,1,-1]\n",
        "]\n",
        "ys = [1,-1,-1,1] # each sublist input above has its corresponding desired output\n",
        "\n",
        "n = MLP(3,[4,4,1])\n",
        "ypred = [n(x) for x in xs] # predicted y output by the NN\n",
        "ypred"
      ],
      "metadata": {
        "colab": {
          "base_uri": "https://localhost:8080/"
        },
        "id": "3y9j61lRCZdz",
        "outputId": "66433a7d-71bf-4bcc-da1e-0338f9100c6e"
      },
      "execution_count": null,
      "outputs": [
        {
          "output_type": "execute_result",
          "data": {
            "text/plain": [
              "[Value(data = 0.8931538176872622),\n",
              " Value(data = 0.9475877888942322),\n",
              " Value(data = 0.723795361556083),\n",
              " Value(data = 0.9458929070011027)]"
            ]
          },
          "metadata": {},
          "execution_count": 23
        }
      ]
    },
    {
      "cell_type": "code",
      "source": [
        "for k in range(20):\n",
        "  # forward pass\n",
        "  ypred = [n(x) for x in xs] # predicted y output by the NN\n",
        "\n",
        "  # calculate the error from the desired values using the loss function (here, using squared error)\n",
        "  loss = sum([(yout-ygt)**2 for ygt,yout in zip(ys,ypred)])\n",
        "\n",
        "  # zeroing out the gradients because if they are not zeroed out, then the gradients would keep accumulating, thereby giving a larger step size\n",
        "  # (greater modification to the weights and biases) thereby overfitting the model on the desired outputs\n",
        "  for p in n.parameters():\n",
        "    p.grad = 0\n",
        "\n",
        "  # performing backpropagation\n",
        "  loss.backward()\n",
        "\n",
        "  # updating the weights and the biases based on the gradients calculated for each of them during backpropagation\n",
        "  for p in n.parameters():\n",
        "    p.data += -0.01 * p.grad\n",
        "\n",
        "  print(k,loss)"
      ],
      "metadata": {
        "colab": {
          "base_uri": "https://localhost:8080/"
        },
        "id": "ytOkbQ352prN",
        "outputId": "07619775-cb3c-4ce6-836c-cd2d35a1e8cd"
      },
      "execution_count": null,
      "outputs": [
        {
          "output_type": "stream",
          "name": "stdout",
          "text": [
            "0 Value(data = 0.007803195478133449)\n",
            "1 Value(data = 0.007786902374309641)\n",
            "2 Value(data = 0.0077706744538295)\n",
            "3 Value(data = 0.007754511332401669)\n",
            "4 Value(data = 0.0077384126287262205)\n",
            "5 Value(data = 0.007722377964465949)\n",
            "6 Value(data = 0.007706406964217436)\n",
            "7 Value(data = 0.007690499255483209)\n",
            "8 Value(data = 0.007674654468643445)\n",
            "9 Value(data = 0.007658872236928476)\n",
            "10 Value(data = 0.007643152196391553)\n",
            "11 Value(data = 0.007627493985881825)\n",
            "12 Value(data = 0.0076118972470175204)\n",
            "13 Value(data = 0.007596361624159789)\n",
            "14 Value(data = 0.007580886764386473)\n",
            "15 Value(data = 0.007565472317466332)\n",
            "16 Value(data = 0.0075501179358336695)\n",
            "17 Value(data = 0.007534823274562993)\n",
            "18 Value(data = 0.007519587991344197)\n",
            "19 Value(data = 0.00750441174645787)\n"
          ]
        }
      ]
    },
    {
      "cell_type": "code",
      "source": [
        "ypred"
      ],
      "metadata": {
        "colab": {
          "base_uri": "https://localhost:8080/"
        },
        "id": "K82VFOmv_Kj7",
        "outputId": "e8ae7675-ff26-4139-cf15-93c36685ea04"
      },
      "execution_count": null,
      "outputs": [
        {
          "output_type": "execute_result",
          "data": {
            "text/plain": [
              "[Value(data = 0.965624775188247),\n",
              " Value(data = -0.9594226697253314),\n",
              " Value(data = -0.9521660954403258),\n",
              " Value(data = 0.9511312624681612)]"
            ]
          },
          "metadata": {},
          "execution_count": 77
        }
      ]
    },
    {
      "cell_type": "markdown",
      "source": [
        "### NOTE REGARDING CHANGING THE WEIGHTS AND BIASES OF THE NN:\n",
        "Changing all the weights and biases by the gradient calculated for each of it; Here, since the gradient vector always points towards maximum increase of a function (in this case, the function is the error function), thus to obtain the minima of the error function, the weights and the biases must be changed in opposite sign of the gradient. Hence the equation:\n",
        "\n",
        "new_weight = old_weight - 0.01*(gradient of that weight wrt the error function)\n",
        "\n",
        "holds valid to calculate the new weights and biases of the NN.\n",
        "\n",
        "Hence, this is equal to:\n",
        "\n",
        "p.data = p.data - 0.01*p.grad\n",
        "\n",
        "where the variables in this equation means the ones in the above equation"
      ],
      "metadata": {
        "id": "jbFSJRBN1fQf"
      }
    },
    {
      "cell_type": "code",
      "source": [
        "for p in n.parameters():\n",
        "  p.data += -0.01 * p.grad"
      ],
      "metadata": {
        "id": "JKzQ5CMX0sax"
      },
      "execution_count": null,
      "outputs": []
    },
    {
      "cell_type": "code",
      "source": [],
      "metadata": {
        "id": "kZtahhQFCLke"
      },
      "execution_count": null,
      "outputs": []
    },
    {
      "cell_type": "code",
      "source": [],
      "metadata": {
        "id": "Yg641TRU90_R"
      },
      "execution_count": null,
      "outputs": []
    }
  ]
}